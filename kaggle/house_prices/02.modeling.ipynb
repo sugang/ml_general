{
 "cells": [
  {
   "cell_type": "markdown",
   "metadata": {},
   "source": [
    "# Preprocessing"
   ]
  },
  {
   "cell_type": "code",
   "execution_count": 17,
   "metadata": {
    "collapsed": true
   },
   "outputs": [],
   "source": [
    "import pandas as pd\n",
    "import numpy as np\n",
    "from sklearn.linear_model import ElasticNet, Lasso,  BayesianRidge, LassoLarsIC\n",
    "from sklearn.ensemble import RandomForestRegressor as rfr,  GradientBoostingRegressor\n",
    "from sklearn.kernel_ridge import KernelRidge"
   ]
  },
  {
   "cell_type": "code",
   "execution_count": 73,
   "metadata": {
    "collapsed": true
   },
   "outputs": [],
   "source": [
    "import matplotlib.pyplot as plt\n",
    "%matplotlib inline\n",
    "import seaborn as sns"
   ]
  },
  {
   "cell_type": "code",
   "execution_count": 171,
   "metadata": {},
   "outputs": [
    {
     "name": "stderr",
     "output_type": "stream",
     "text": [
      "/anaconda2/lib/python2.7/site-packages/ggplot/utils.py:81: FutureWarning: pandas.tslib is deprecated and will be removed in a future version.\n",
      "You can access Timestamp as pandas.Timestamp\n",
      "  pd.tslib.Timestamp,\n",
      "/anaconda2/lib/python2.7/site-packages/ggplot/stats/smoothers.py:4: FutureWarning: The pandas.lib module is deprecated and will be removed in a future version. These are private functions and can be accessed from pandas._libs.lib instead\n",
      "  from pandas.lib import Timestamp\n",
      "/anaconda2/lib/python2.7/site-packages/statsmodels/compat/pandas.py:56: FutureWarning: The pandas.core.datetools module is deprecated and will be removed in a future version. Please use the pandas.tseries module instead.\n",
      "  from pandas.core import datetools\n"
     ]
    }
   ],
   "source": [
    "from ggplot import *"
   ]
  },
  {
   "cell_type": "code",
   "execution_count": 4,
   "metadata": {
    "collapsed": true
   },
   "outputs": [],
   "source": [
    "#pipeline maker\n",
    "from sklearn.pipeline import make_pipeline\n",
    "\n",
    "#scaler\n",
    "from sklearn.preprocessing import RobustScaler\n",
    "\n",
    "#model selection\n",
    "from sklearn.base import BaseEstimator, TransformerMixin, RegressorMixin, clone\n",
    "from sklearn.model_selection import KFold, cross_val_score, train_test_split\n",
    "\n",
    "#MSE\n",
    "from sklearn.metrics import mean_squared_error"
   ]
  },
  {
   "cell_type": "code",
   "execution_count": 81,
   "metadata": {
    "collapsed": true
   },
   "outputs": [],
   "source": [
    "# #define a dropin function to evaluate prediction\n",
    "# n_folds = 10\n",
    "\n",
    "# #use root mean squre error as the metric\n",
    "# def rmsle_cv(model):\n",
    "#     kf = KFold(n_folds, shuffle=True, random_state=1).get_n_splits(train.values)\n",
    "#     #doesn't really need to define KFolds actually\n",
    "#     rmse = np.sqrt(-cross_val_score(model, train.values, y_train, scoring=\"neg_mean_squared_error\", cv = kf))\n",
    "#     return(rmse)\n",
    "\n",
    "n_folds = 10\n",
    "#this looks better, lets me use kfolds\n",
    "def rmsle_cv(model):\n",
    "    kf = KFold(n_folds, shuffle=True, random_state=1).get_n_splits(train.values)\n",
    "    rmse= np.sqrt(-cross_val_score(model, train.values, y_train, scoring=\"neg_mean_squared_error\", cv = kf))\n",
    "    return(rmse)"
   ]
  },
  {
   "cell_type": "markdown",
   "metadata": {},
   "source": [
    "# Modeling"
   ]
  },
  {
   "cell_type": "code",
   "execution_count": 119,
   "metadata": {},
   "outputs": [],
   "source": [
    "train = pd.read_csv(\"./train_transformed.csv\")\n",
    "test = pd.read_csv(\"./test_transformed.csv\")\n",
    "y_train = pd.read_csv(\"./y_train.csv\")\n",
    "#train_original = pd.read_csv(\"./train.csv\")"
   ]
  },
  {
   "cell_type": "code",
   "execution_count": 120,
   "metadata": {},
   "outputs": [],
   "source": [
    "y_train = y_train['y_train'].values \n",
    "#train_original['SalePrice']"
   ]
  },
  {
   "cell_type": "code",
   "execution_count": 121,
   "metadata": {},
   "outputs": [
    {
     "data": {
      "text/plain": [
       "array([ 12.24769912,  12.10901644,  12.31717117, ...,  12.49313327,\n",
       "        11.86446927,  11.90159023])"
      ]
     },
     "execution_count": 121,
     "metadata": {},
     "output_type": "execute_result"
    }
   ],
   "source": [
    "y_train"
   ]
  },
  {
   "cell_type": "code",
   "execution_count": 60,
   "metadata": {},
   "outputs": [],
   "source": [
    "#use .values from pd to extract the array typed data\n",
    "#note that call values will turn this into row by col"
   ]
  },
  {
   "cell_type": "code",
   "execution_count": 14,
   "metadata": {
    "collapsed": true
   },
   "outputs": [],
   "source": [
    "#note that the prediction here is based on logp1"
   ]
  },
  {
   "cell_type": "markdown",
   "metadata": {},
   "source": [
    "## LASSO"
   ]
  },
  {
   "cell_type": "code",
   "execution_count": 122,
   "metadata": {
    "collapsed": true
   },
   "outputs": [],
   "source": [
    "lasso = make_pipeline(RobustScaler(), Lasso(alpha = 0.00099, random_state=1))"
   ]
  },
  {
   "cell_type": "code",
   "execution_count": 123,
   "metadata": {},
   "outputs": [],
   "source": [
    "score = rmsle_cv(lasso) #hmm is this correct?"
   ]
  },
  {
   "cell_type": "code",
   "execution_count": 124,
   "metadata": {},
   "outputs": [
    {
     "data": {
      "text/plain": [
       "array([ 0.11712536,  0.09778992,  0.11367706,  0.1289121 ,  0.13796741,\n",
       "        0.10586948,  0.11497737,  0.09619981,  0.09314807,  0.12175056])"
      ]
     },
     "execution_count": 124,
     "metadata": {},
     "output_type": "execute_result"
    }
   ],
   "source": [
    "score #why the value is so low? #this value looks very strange\n",
    "#This is incorrect. Why?"
   ]
  },
  {
   "cell_type": "code",
   "execution_count": 36,
   "metadata": {},
   "outputs": [],
   "source": [
    "#np.sqrt(score.mean())\n",
    "#len(y_train)"
   ]
  },
  {
   "cell_type": "code",
   "execution_count": 125,
   "metadata": {},
   "outputs": [
    {
     "data": {
      "text/plain": [
       "Pipeline(memory=None,\n",
       "     steps=[('robustscaler', RobustScaler(copy=True, quantile_range=(25.0, 75.0), with_centering=True,\n",
       "       with_scaling=True)), ('lasso', Lasso(alpha=0.00099, copy_X=True, fit_intercept=True, max_iter=1000,\n",
       "   normalize=False, positive=False, precompute=False, random_state=1,\n",
       "   selection='cyclic', tol=0.0001, warm_start=False))])"
      ]
     },
     "execution_count": 125,
     "metadata": {},
     "output_type": "execute_result"
    }
   ],
   "source": [
    "lasso.fit(train.values, y_train)"
   ]
  },
  {
   "cell_type": "code",
   "execution_count": 126,
   "metadata": {},
   "outputs": [
    {
     "data": {
      "text/plain": [
       "array([ 12.23609746,  12.11723304,  12.27213873, ...,  12.43236302,\n",
       "        11.83154009,  11.95434882])"
      ]
     },
     "execution_count": 126,
     "metadata": {},
     "output_type": "execute_result"
    }
   ],
   "source": [
    "lasso.predict(train.values)"
   ]
  },
  {
   "cell_type": "code",
   "execution_count": 75,
   "metadata": {},
   "outputs": [
    {
     "data": {
      "text/plain": [
       "<seaborn.axisgrid.JointGrid at 0x116c85650>"
      ]
     },
     "execution_count": 75,
     "metadata": {},
     "output_type": "execute_result"
    },
    {
     "data": {
      "image/png": "[encoded data removed]",
      "text/plain": [
       "<matplotlib.figure.Figure at 0x116de0710>"
      ]
     },
     "metadata": {},
     "output_type": "display_data"
    }
   ],
   "source": [
    "sns.jointplot(y_train, lasso.predict(train.values), kind=\"reg\") "
   ]
  },
  {
   "cell_type": "code",
   "execution_count": 128,
   "metadata": {},
   "outputs": [
    {
     "data": {
      "text/plain": [
       "0.10487353198852509"
      ]
     },
     "execution_count": 128,
     "metadata": {},
     "output_type": "execute_result"
    }
   ],
   "source": [
    "#same correlation due to repeated exp\n",
    "np.sqrt(((y_train - lasso.predict(train.values))**2).mean()) #this looks correct"
   ]
  },
  {
   "cell_type": "code",
   "execution_count": 130,
   "metadata": {},
   "outputs": [
    {
     "data": {
      "text/plain": [
       "array([ 0.11712536,  0.09778992,  0.11367706,  0.1289121 ,  0.13796741,\n",
       "        0.10586948,  0.11497737,  0.09619981,  0.09314807,  0.12175056])"
      ]
     },
     "execution_count": 130,
     "metadata": {},
     "output_type": "execute_result"
    }
   ],
   "source": [
    "np.sqrt(-cross_val_score(lasso, X=train.values, y=y_train, cv=10, scoring=\"neg_mean_squared_error\")) #R sqared "
   ]
  },
  {
   "cell_type": "code",
   "execution_count": 141,
   "metadata": {},
   "outputs": [
    {
     "data": {
      "text/plain": [
       "['1stFlrSF',\n",
       " '2ndFlrSF',\n",
       " '3SsnPorch',\n",
       " 'Alley',\n",
       " 'BedroomAbvGr',\n",
       " 'BsmtCond',\n",
       " 'BsmtExposure',\n",
       " 'BsmtFinSF1',\n",
       " 'BsmtFinSF2',\n",
       " 'BsmtFinType1',\n",
       " 'BsmtFinType2',\n",
       " 'BsmtFullBath',\n",
       " 'BsmtHalfBath',\n",
       " 'BsmtQual',\n",
       " 'BsmtUnfSF',\n",
       " 'CentralAir',\n",
       " 'EnclosedPorch',\n",
       " 'ExterCond',\n",
       " 'ExterQual',\n",
       " 'Fence',\n",
       " 'FireplaceQu',\n",
       " 'Fireplaces',\n",
       " 'FullBath',\n",
       " 'Functional',\n",
       " 'GarageArea',\n",
       " 'GarageCars',\n",
       " 'GarageCond',\n",
       " 'GarageFinish',\n",
       " 'GarageQual',\n",
       " 'GarageYrBlt',\n",
       " 'GrLivArea',\n",
       " 'HalfBath',\n",
       " 'HeatingQC',\n",
       " 'KitchenAbvGr',\n",
       " 'KitchenQual',\n",
       " 'LandSlope',\n",
       " 'LotArea',\n",
       " 'LotFrontage',\n",
       " 'LotShape',\n",
       " 'LowQualFinSF',\n",
       " 'MSSubClass',\n",
       " 'MasVnrArea',\n",
       " 'MiscVal',\n",
       " 'MoSold',\n",
       " 'OpenPorchSF',\n",
       " 'OverallCond',\n",
       " 'OverallQual',\n",
       " 'PavedDrive',\n",
       " 'PoolArea',\n",
       " 'PoolQC',\n",
       " 'ScreenPorch',\n",
       " 'Street',\n",
       " 'TotRmsAbvGrd',\n",
       " 'TotalBsmtSF',\n",
       " 'WoodDeckSF',\n",
       " 'YearBuilt',\n",
       " 'YearRemodAdd',\n",
       " 'YrSold',\n",
       " 'OverallSF',\n",
       " 'BldgType_1Fam',\n",
       " 'BldgType_2fmCon',\n",
       " 'BldgType_Duplex',\n",
       " 'BldgType_Twnhs',\n",
       " 'BldgType_TwnhsE',\n",
       " 'Condition1_Artery',\n",
       " 'Condition1_Feedr',\n",
       " 'Condition1_Norm',\n",
       " 'Condition1_PosA',\n",
       " 'Condition1_PosN',\n",
       " 'Condition1_RRAe',\n",
       " 'Condition1_RRAn',\n",
       " 'Condition1_RRNe',\n",
       " 'Condition1_RRNn',\n",
       " 'Condition2_Artery',\n",
       " 'Condition2_Feedr',\n",
       " 'Condition2_Norm',\n",
       " 'Condition2_PosA',\n",
       " 'Condition2_PosN',\n",
       " 'Condition2_RRAe',\n",
       " 'Condition2_RRAn',\n",
       " 'Condition2_RRNn',\n",
       " 'Electrical_FuseA',\n",
       " 'Electrical_FuseF',\n",
       " 'Electrical_FuseP',\n",
       " 'Electrical_Mix',\n",
       " 'Electrical_SBrkr',\n",
       " 'Exterior1st_AsbShng',\n",
       " 'Exterior1st_AsphShn',\n",
       " 'Exterior1st_BrkComm',\n",
       " 'Exterior1st_BrkFace',\n",
       " 'Exterior1st_CBlock',\n",
       " 'Exterior1st_CemntBd',\n",
       " 'Exterior1st_HdBoard',\n",
       " 'Exterior1st_ImStucc',\n",
       " 'Exterior1st_MetalSd',\n",
       " 'Exterior1st_Plywood',\n",
       " 'Exterior1st_Stone',\n",
       " 'Exterior1st_Stucco',\n",
       " 'Exterior1st_VinylSd',\n",
       " 'Exterior1st_Wd Sdng',\n",
       " 'Exterior1st_WdShing',\n",
       " 'Exterior2nd_AsbShng',\n",
       " 'Exterior2nd_AsphShn',\n",
       " 'Exterior2nd_Brk Cmn',\n",
       " 'Exterior2nd_BrkFace',\n",
       " 'Exterior2nd_CBlock',\n",
       " 'Exterior2nd_CmentBd',\n",
       " 'Exterior2nd_HdBoard',\n",
       " 'Exterior2nd_ImStucc',\n",
       " 'Exterior2nd_MetalSd',\n",
       " 'Exterior2nd_Other',\n",
       " 'Exterior2nd_Plywood',\n",
       " 'Exterior2nd_Stone',\n",
       " 'Exterior2nd_Stucco',\n",
       " 'Exterior2nd_VinylSd',\n",
       " 'Exterior2nd_Wd Sdng',\n",
       " 'Exterior2nd_Wd Shng',\n",
       " 'Foundation_BrkTil',\n",
       " 'Foundation_CBlock',\n",
       " 'Foundation_PConc',\n",
       " 'Foundation_Slab',\n",
       " 'Foundation_Stone',\n",
       " 'Foundation_Wood',\n",
       " 'GarageType_2Types',\n",
       " 'GarageType_Attchd',\n",
       " 'GarageType_Basment',\n",
       " 'GarageType_BuiltIn',\n",
       " 'GarageType_CarPort',\n",
       " 'GarageType_Detchd',\n",
       " 'GarageType_None',\n",
       " 'Heating_Floor',\n",
       " 'Heating_GasA',\n",
       " 'Heating_GasW',\n",
       " 'Heating_Grav',\n",
       " 'Heating_OthW',\n",
       " 'Heating_Wall',\n",
       " 'HouseStyle_1.5Fin',\n",
       " 'HouseStyle_1.5Unf',\n",
       " 'HouseStyle_1Story',\n",
       " 'HouseStyle_2.5Fin',\n",
       " 'HouseStyle_2.5Unf',\n",
       " 'HouseStyle_2Story',\n",
       " 'HouseStyle_SFoyer',\n",
       " 'HouseStyle_SLvl',\n",
       " 'LandContour_Bnk',\n",
       " 'LandContour_HLS',\n",
       " 'LandContour_Low',\n",
       " 'LandContour_Lvl',\n",
       " 'LotConfig_Corner',\n",
       " 'LotConfig_CulDSac',\n",
       " 'LotConfig_FR2',\n",
       " 'LotConfig_FR3',\n",
       " 'LotConfig_Inside',\n",
       " 'MSZoning_C (all)',\n",
       " 'MSZoning_FV',\n",
       " 'MSZoning_RH',\n",
       " 'MSZoning_RL',\n",
       " 'MSZoning_RM',\n",
       " 'MasVnrType_BrkCmn',\n",
       " 'MasVnrType_BrkFace',\n",
       " 'MasVnrType_None',\n",
       " 'MasVnrType_Stone',\n",
       " 'MiscFeature_Gar2',\n",
       " 'MiscFeature_None',\n",
       " 'MiscFeature_Othr',\n",
       " 'MiscFeature_Shed',\n",
       " 'MiscFeature_TenC',\n",
       " 'Neighborhood_Blmngtn',\n",
       " 'Neighborhood_Blueste',\n",
       " 'Neighborhood_BrDale',\n",
       " 'Neighborhood_BrkSide',\n",
       " 'Neighborhood_ClearCr',\n",
       " 'Neighborhood_CollgCr',\n",
       " 'Neighborhood_Crawfor',\n",
       " 'Neighborhood_Edwards',\n",
       " 'Neighborhood_Gilbert',\n",
       " 'Neighborhood_IDOTRR',\n",
       " 'Neighborhood_MeadowV',\n",
       " 'Neighborhood_Mitchel',\n",
       " 'Neighborhood_NAmes',\n",
       " 'Neighborhood_NPkVill',\n",
       " 'Neighborhood_NWAmes',\n",
       " 'Neighborhood_NoRidge',\n",
       " 'Neighborhood_NridgHt',\n",
       " 'Neighborhood_OldTown',\n",
       " 'Neighborhood_SWISU',\n",
       " 'Neighborhood_Sawyer',\n",
       " 'Neighborhood_SawyerW',\n",
       " 'Neighborhood_Somerst',\n",
       " 'Neighborhood_StoneBr',\n",
       " 'Neighborhood_Timber',\n",
       " 'Neighborhood_Veenker',\n",
       " 'RoofMatl_CompShg',\n",
       " 'RoofMatl_Membran',\n",
       " 'RoofMatl_Metal',\n",
       " 'RoofMatl_Roll',\n",
       " 'RoofMatl_Tar&Grv',\n",
       " 'RoofMatl_WdShake',\n",
       " 'RoofMatl_WdShngl',\n",
       " 'RoofStyle_Flat',\n",
       " 'RoofStyle_Gable',\n",
       " 'RoofStyle_Gambrel',\n",
       " 'RoofStyle_Hip',\n",
       " 'RoofStyle_Mansard',\n",
       " 'RoofStyle_Shed',\n",
       " 'SaleCondition_Abnorml',\n",
       " 'SaleCondition_AdjLand',\n",
       " 'SaleCondition_Alloca',\n",
       " 'SaleCondition_Family',\n",
       " 'SaleCondition_Normal',\n",
       " 'SaleCondition_Partial',\n",
       " 'SaleType_COD',\n",
       " 'SaleType_CWD',\n",
       " 'SaleType_Con',\n",
       " 'SaleType_ConLD',\n",
       " 'SaleType_ConLI',\n",
       " 'SaleType_ConLw',\n",
       " 'SaleType_New',\n",
       " 'SaleType_Oth',\n",
       " 'SaleType_WD',\n",
       " 'BsmnQual_BsmtCond_ExGd',\n",
       " 'BsmnQual_BsmtCond_ExPo',\n",
       " 'BsmnQual_BsmtCond_ExTA',\n",
       " 'BsmnQual_BsmtCond_FaFa',\n",
       " 'BsmnQual_BsmtCond_FaGd',\n",
       " 'BsmnQual_BsmtCond_FaPo',\n",
       " 'BsmnQual_BsmtCond_FaTA',\n",
       " 'BsmnQual_BsmtCond_GdFa',\n",
       " 'BsmnQual_BsmtCond_GdGd',\n",
       " 'BsmnQual_BsmtCond_GdTA',\n",
       " 'BsmnQual_BsmtCond_None',\n",
       " 'BsmnQual_BsmtCond_TAFa',\n",
       " 'BsmnQual_BsmtCond_TAGd',\n",
       " 'BsmnQual_BsmtCond_TAPo',\n",
       " 'BsmnQual_BsmtCond_TATA',\n",
       " 'Condition1_Condition2_ArteryArtery',\n",
       " 'Condition1_Condition2_ArteryNorm',\n",
       " 'Condition1_Condition2_ArteryPosA',\n",
       " 'Condition1_Condition2_FeedrArtery',\n",
       " 'Condition1_Condition2_FeedrFeedr',\n",
       " 'Condition1_Condition2_FeedrNorm',\n",
       " 'Condition1_Condition2_FeedrRRAe',\n",
       " 'Condition1_Condition2_FeedrRRAn',\n",
       " 'Condition1_Condition2_FeedrRRNn',\n",
       " 'Condition1_Condition2_NormNorm',\n",
       " 'Condition1_Condition2_PosANorm',\n",
       " 'Condition1_Condition2_PosAPosA',\n",
       " 'Condition1_Condition2_PosNNorm',\n",
       " 'Condition1_Condition2_PosNPosN',\n",
       " 'Condition1_Condition2_RRAeNorm',\n",
       " 'Condition1_Condition2_RRAnArtery',\n",
       " 'Condition1_Condition2_RRAnFeedr',\n",
       " 'Condition1_Condition2_RRAnNorm',\n",
       " 'Condition1_Condition2_RRNeNorm',\n",
       " 'Condition1_Condition2_RRNnArtery',\n",
       " 'Condition1_Condition2_RRNnFeedr',\n",
       " 'Condition1_Condition2_RRNnNorm',\n",
       " 'ExterQual_ExterCond_ExEx',\n",
       " 'ExterQual_ExterCond_ExGd',\n",
       " 'ExterQual_ExterCond_ExTA',\n",
       " 'ExterQual_ExterCond_FaFa',\n",
       " 'ExterQual_ExterCond_FaGd',\n",
       " 'ExterQual_ExterCond_FaPo',\n",
       " 'ExterQual_ExterCond_FaTA',\n",
       " 'ExterQual_ExterCond_GdEx',\n",
       " 'ExterQual_ExterCond_GdFa',\n",
       " 'ExterQual_ExterCond_GdGd',\n",
       " 'ExterQual_ExterCond_GdTA',\n",
       " 'ExterQual_ExterCond_TAEx',\n",
       " 'ExterQual_ExterCond_TAFa',\n",
       " 'ExterQual_ExterCond_TAGd',\n",
       " 'ExterQual_ExterCond_TAPo',\n",
       " 'ExterQual_ExterCond_TATA',\n",
       " 'SaleType_OverallCond_COD1',\n",
       " 'SaleType_OverallCond_COD3',\n",
       " 'SaleType_OverallCond_COD4',\n",
       " 'SaleType_OverallCond_COD5',\n",
       " 'SaleType_OverallCond_COD6',\n",
       " 'SaleType_OverallCond_COD7',\n",
       " 'SaleType_OverallCond_COD8',\n",
       " 'SaleType_OverallCond_COD9',\n",
       " 'SaleType_OverallCond_CWD5',\n",
       " 'SaleType_OverallCond_CWD6',\n",
       " 'SaleType_OverallCond_CWD7',\n",
       " 'SaleType_OverallCond_Con5',\n",
       " 'SaleType_OverallCond_Con6',\n",
       " 'SaleType_OverallCond_ConLD1',\n",
       " 'SaleType_OverallCond_ConLD2',\n",
       " 'SaleType_OverallCond_ConLD3',\n",
       " 'SaleType_OverallCond_ConLD4',\n",
       " 'SaleType_OverallCond_ConLD5',\n",
       " 'SaleType_OverallCond_ConLD6',\n",
       " 'SaleType_OverallCond_ConLD7',\n",
       " 'SaleType_OverallCond_ConLD8',\n",
       " 'SaleType_OverallCond_ConLI5',\n",
       " 'SaleType_OverallCond_ConLI6',\n",
       " 'SaleType_OverallCond_ConLI8',\n",
       " 'SaleType_OverallCond_ConLw3',\n",
       " 'SaleType_OverallCond_ConLw5',\n",
       " 'SaleType_OverallCond_ConLw6',\n",
       " 'SaleType_OverallCond_New2',\n",
       " 'SaleType_OverallCond_New5',\n",
       " 'SaleType_OverallCond_New6',\n",
       " 'SaleType_OverallCond_Oth3',\n",
       " 'SaleType_OverallCond_Oth5',\n",
       " 'SaleType_OverallCond_Oth6',\n",
       " 'SaleType_OverallCond_WD1',\n",
       " 'SaleType_OverallCond_WD2',\n",
       " 'SaleType_OverallCond_WD3',\n",
       " 'SaleType_OverallCond_WD4',\n",
       " 'SaleType_OverallCond_WD5',\n",
       " 'SaleType_OverallCond_WD6',\n",
       " 'SaleType_OverallCond_WD7',\n",
       " 'SaleType_OverallCond_WD8',\n",
       " 'SaleType_OverallCond_WD9']"
      ]
     },
     "execution_count": 141,
     "metadata": {},
     "output_type": "execute_result"
    }
   ],
   "source": [
    "#looks like it's overfitting / nope\n",
    "lasso_predictor = lasso.steps[1][1]\n",
    "lasso_predictor.coef_ #coefficients \n",
    "list(train.columns) # column names"
   ]
  },
  {
   "cell_type": "code",
   "execution_count": 144,
   "metadata": {},
   "outputs": [
    {
     "data": {
      "text/plain": [
       "[('1stFlrSF', 0.0050283351381978812),\n",
       " ('2ndFlrSF', 0.0),\n",
       " ('3SsnPorch', 0.00013463022309330192),\n",
       " ('Alley', 0.0),\n",
       " ('BedroomAbvGr', -0.00018325732812321204),\n",
       " ('BsmtCond', 0.0022549650425837419),\n",
       " ('BsmtExposure', -0.0049019544841306332),\n",
       " ('BsmtFinSF1', 0.053245977502409794),\n",
       " ('BsmtFinSF2', 3.836293158973005e-05),\n",
       " ('BsmtFinType1', -0.0045970964904422955),\n",
       " ('BsmtFinType2', 0.00035188947569999798),\n",
       " ('BsmtFullBath', 0.020817760366697684),\n",
       " ('BsmtHalfBath', -0.0),\n",
       " ('BsmtQual', -0.015473072611595117),\n",
       " ('BsmtUnfSF', -0.0),\n",
       " ('CentralAir', 0.046814572246245661),\n",
       " ('EnclosedPorch', 0.00011674396489884274),\n",
       " ('ExterCond', 0.008679280388754906),\n",
       " ('ExterQual', -0.0088244977044356649),\n",
       " ('Fence', 0.0029416334150022864),\n",
       " ('FireplaceQu', -0.0025118639328180967),\n",
       " ('Fireplaces', 0.024849669792898411),\n",
       " ('FullBath', 0.004870628188945892),\n",
       " ('Functional', 0.016890398536536441),\n",
       " ('GarageArea', 0.015663568889703126),\n",
       " ('GarageCars', 0.026434460842786903),\n",
       " ('GarageCond', 0.0052618638795007416),\n",
       " ('GarageFinish', -0.0039437802841326931),\n",
       " ('GarageQual', 4.817228722985451e-05),\n",
       " ('GarageYrBlt', 0.00099644233449557311),\n",
       " ('GrLivArea', 0.10662963334940311),\n",
       " ('HalfBath', 0.0072904877209896976),\n",
       " ('HeatingQC', -0.022077695100465863),\n",
       " ('KitchenAbvGr', -0.011682856970214296),\n",
       " ('KitchenQual', -0.01390646200816441),\n",
       " ('LandSlope', -0.0),\n",
       " ('LotArea', 0.0083262584124518205),\n",
       " ('LotFrontage', 0.0093660765238404199),\n",
       " ('LotShape', -0.00050173435377331944),\n",
       " ('LowQualFinSF', 4.0297930625575412e-05),\n",
       " ('MSSubClass', -0.0),\n",
       " ('MasVnrArea', 0.0025056067170730035),\n",
       " ('MiscVal', -4.3932352980075967e-06),\n",
       " ('MoSold', -0.0),\n",
       " ('OpenPorchSF', 0.0073147932998637545),\n",
       " ('OverallCond', 0.04000197234857749),\n",
       " ('OverallQual', 0.11552691991958731),\n",
       " ('PavedDrive', 0.0076728564080422055),\n",
       " ('PoolArea', 5.1641028448848829e-05),\n",
       " ('PoolQC', 0.0),\n",
       " ('ScreenPorch', 0.00025733418149789051),\n",
       " ('Street', 0.0),\n",
       " ('TotRmsAbvGrd', 0.0030345107117002541),\n",
       " ('TotalBsmtSF', 0.0),\n",
       " ('WoodDeckSF', 0.015255409349411471),\n",
       " ('YearBuilt', 0.08372580400011051),\n",
       " ('YearRemodAdd', 0.030034413909868142),\n",
       " ('YrSold', -0.0061375725746213878),\n",
       " ('OverallSF', 0.093970537752658734),\n",
       " ('BldgType_1Fam', 0.028670544985012817),\n",
       " ('BldgType_2fmCon', 0.0),\n",
       " ('BldgType_Duplex', -0.0),\n",
       " ('BldgType_Twnhs', -0.01415612438397983),\n",
       " ('BldgType_TwnhsE', 0.0),\n",
       " ('Condition1_Artery', -0.0),\n",
       " ('Condition1_Feedr', 0.0),\n",
       " ('Condition1_Norm', 0.037463876798316149),\n",
       " ('Condition1_PosA', -0.0),\n",
       " ('Condition1_PosN', 0.0),\n",
       " ('Condition1_RRAe', -0.0),\n",
       " ('Condition1_RRAn', 0.0),\n",
       " ('Condition1_RRNe', -0.0),\n",
       " ('Condition1_RRNn', 0.0),\n",
       " ('Condition2_Artery', -0.0),\n",
       " ('Condition2_Feedr', 0.0),\n",
       " ('Condition2_Norm', 0.0),\n",
       " ('Condition2_PosA', 0.0),\n",
       " ('Condition2_PosN', -0.0),\n",
       " ('Condition2_RRAe', -0.0),\n",
       " ('Condition2_RRAn', -0.0),\n",
       " ('Condition2_RRNn', -0.0),\n",
       " ('Electrical_FuseA', 0.0),\n",
       " ('Electrical_FuseF', 0.0),\n",
       " ('Electrical_FuseP', -0.0),\n",
       " ('Electrical_Mix', -0.0),\n",
       " ('Electrical_SBrkr', -0.0),\n",
       " ('Exterior1st_AsbShng', -0.0),\n",
       " ('Exterior1st_AsphShn', -0.0),\n",
       " ('Exterior1st_BrkComm', -0.0),\n",
       " ('Exterior1st_BrkFace', 0.040203642999980409),\n",
       " ('Exterior1st_CBlock', -0.0),\n",
       " ('Exterior1st_CemntBd', -0.0),\n",
       " ('Exterior1st_HdBoard', -0.0035622578247059755),\n",
       " ('Exterior1st_ImStucc', -0.0),\n",
       " ('Exterior1st_MetalSd', 0.010740663851344418),\n",
       " ('Exterior1st_Plywood', -0.0),\n",
       " ('Exterior1st_Stone', -0.0),\n",
       " ('Exterior1st_Stucco', 0.0),\n",
       " ('Exterior1st_VinylSd', 0.00092871022044267509),\n",
       " ('Exterior1st_Wd Sdng', -0.0069410088310570238),\n",
       " ('Exterior1st_WdShing', 0.0),\n",
       " ('Exterior2nd_AsbShng', -0.0),\n",
       " ('Exterior2nd_AsphShn', 0.0),\n",
       " ('Exterior2nd_Brk Cmn', -0.0),\n",
       " ('Exterior2nd_BrkFace', -0.0),\n",
       " ('Exterior2nd_CBlock', -0.0),\n",
       " ('Exterior2nd_CmentBd', -0.0),\n",
       " ('Exterior2nd_HdBoard', -0.0),\n",
       " ('Exterior2nd_ImStucc', -0.0),\n",
       " ('Exterior2nd_MetalSd', 0.0),\n",
       " ('Exterior2nd_Other', -0.0),\n",
       " ('Exterior2nd_Plywood', -0.0),\n",
       " ('Exterior2nd_Stone', 0.0),\n",
       " ('Exterior2nd_Stucco', 0.0),\n",
       " ('Exterior2nd_VinylSd', 0.0),\n",
       " ('Exterior2nd_Wd Sdng', 0.0),\n",
       " ('Exterior2nd_Wd Shng', -0.0),\n",
       " ('Foundation_BrkTil', -0.0),\n",
       " ('Foundation_CBlock', -0.0),\n",
       " ('Foundation_PConc', 0.030314724539329953),\n",
       " ('Foundation_Slab', 0.0),\n",
       " ('Foundation_Stone', 0.0),\n",
       " ('Foundation_Wood', -0.0),\n",
       " ('GarageType_2Types', -0.0),\n",
       " ('GarageType_Attchd', 0.00097643827421438865),\n",
       " ('GarageType_Basment', -0.0),\n",
       " ('GarageType_BuiltIn', 0.0),\n",
       " ('GarageType_CarPort', -0.0),\n",
       " ('GarageType_Detchd', -0.0),\n",
       " ('GarageType_None', -0.0),\n",
       " ('Heating_Floor', -0.0),\n",
       " ('Heating_GasA', 0.0),\n",
       " ('Heating_GasW', 0.0),\n",
       " ('Heating_Grav', -0.0),\n",
       " ('Heating_OthW', -0.0),\n",
       " ('Heating_Wall', 0.0),\n",
       " ('HouseStyle_1.5Fin', 0.0),\n",
       " ('HouseStyle_1.5Unf', 0.0),\n",
       " ('HouseStyle_1Story', -0.0),\n",
       " ('HouseStyle_2.5Fin', -0.0),\n",
       " ('HouseStyle_2.5Unf', 0.0),\n",
       " ('HouseStyle_2Story', -0.0),\n",
       " ('HouseStyle_SFoyer', -0.0),\n",
       " ('HouseStyle_SLvl', 0.0),\n",
       " ('LandContour_Bnk', -0.0),\n",
       " ('LandContour_HLS', 0.0),\n",
       " ('LandContour_Low', 0.0),\n",
       " ('LandContour_Lvl', -0.0),\n",
       " ('LotConfig_Corner', 0.0),\n",
       " ('LotConfig_CulDSac', 0.02622593981558222),\n",
       " ('LotConfig_FR2', -0.0),\n",
       " ('LotConfig_FR3', -0.0),\n",
       " ('LotConfig_Inside', -0.0),\n",
       " ('MSZoning_C (all)', -0.20282450740441635),\n",
       " ('MSZoning_FV', 0.0),\n",
       " ('MSZoning_RH', 0.0),\n",
       " ('MSZoning_RL', 0.0025370595038794208),\n",
       " ('MSZoning_RM', -0.058771531387895593),\n",
       " ('MasVnrType_BrkCmn', -0.0),\n",
       " ('MasVnrType_BrkFace', -0.0),\n",
       " ('MasVnrType_None', 0.0),\n",
       " ('MasVnrType_Stone', 0.013736666225252908),\n",
       " ('MiscFeature_Gar2', 0.0),\n",
       " ('MiscFeature_None', 0.0),\n",
       " ('MiscFeature_Othr', -0.0),\n",
       " ('MiscFeature_Shed', -0.0),\n",
       " ('MiscFeature_TenC', -0.0),\n",
       " ('Neighborhood_Blmngtn', -0.0),\n",
       " ('Neighborhood_Blueste', 0.0),\n",
       " ('Neighborhood_BrDale', -0.0),\n",
       " ('Neighborhood_BrkSide', 0.025895199155898441),\n",
       " ('Neighborhood_ClearCr', 0.0),\n",
       " ('Neighborhood_CollgCr', -0.0),\n",
       " ('Neighborhood_Crawfor', 0.08318941172197851),\n",
       " ('Neighborhood_Edwards', -0.0050311732176033727),\n",
       " ('Neighborhood_Gilbert', -0.0),\n",
       " ('Neighborhood_IDOTRR', -0.0),\n",
       " ('Neighborhood_MeadowV', -0.0),\n",
       " ('Neighborhood_Mitchel', -0.0),\n",
       " ('Neighborhood_NAmes', 0.0),\n",
       " ('Neighborhood_NPkVill', 0.0),\n",
       " ('Neighborhood_NWAmes', -9.1535959709169743e-05),\n",
       " ('Neighborhood_NoRidge', 0.0),\n",
       " ('Neighborhood_NridgHt', 0.012994034964677638),\n",
       " ('Neighborhood_OldTown', -0.0),\n",
       " ('Neighborhood_SWISU', 0.0),\n",
       " ('Neighborhood_Sawyer', 0.0),\n",
       " ('Neighborhood_SawyerW', -0.0),\n",
       " ('Neighborhood_Somerst', 0.015849623436498018),\n",
       " ('Neighborhood_StoneBr', 0.030668020118718473),\n",
       " ('Neighborhood_Timber', -0.0),\n",
       " ('Neighborhood_Veenker', 0.0),\n",
       " ('RoofMatl_CompShg', -0.0),\n",
       " ('RoofMatl_Membran', 0.0),\n",
       " ('RoofMatl_Metal', 0.0),\n",
       " ('RoofMatl_Roll', 0.0),\n",
       " ('RoofMatl_Tar&Grv', -0.0),\n",
       " ('RoofMatl_WdShake', -0.0),\n",
       " ('RoofMatl_WdShngl', 0.0),\n",
       " ('RoofStyle_Flat', 0.0),\n",
       " ('RoofStyle_Gable', -0.0),\n",
       " ('RoofStyle_Gambrel', -0.0),\n",
       " ('RoofStyle_Hip', 0.0),\n",
       " ('RoofStyle_Mansard', 0.0),\n",
       " ('RoofStyle_Shed', 0.0),\n",
       " ('SaleCondition_Abnorml', -0.068956383434604529),\n",
       " ('SaleCondition_AdjLand', 0.0),\n",
       " ('SaleCondition_Alloca', -0.0),\n",
       " ('SaleCondition_Family', -0.0),\n",
       " ('SaleCondition_Normal', 0.0042712858471279152),\n",
       " ('SaleCondition_Partial', 0.0),\n",
       " ('SaleType_COD', -0.0),\n",
       " ('SaleType_CWD', 0.0),\n",
       " ('SaleType_Con', 0.0),\n",
       " ('SaleType_ConLD', 0.0),\n",
       " ('SaleType_ConLI', -0.0),\n",
       " ('SaleType_ConLw', 0.0),\n",
       " ('SaleType_New', 0.030677567470278305),\n",
       " ('SaleType_Oth', 0.0),\n",
       " ('SaleType_WD', -0.018458177075649784),\n",
       " ('BsmnQual_BsmtCond_ExGd', 0.0),\n",
       " ('BsmnQual_BsmtCond_ExPo', 0.0),\n",
       " ('BsmnQual_BsmtCond_ExTA', 0.0058553161288380021),\n",
       " ('BsmnQual_BsmtCond_FaFa', -0.0),\n",
       " ('BsmnQual_BsmtCond_FaGd', 0.0),\n",
       " ('BsmnQual_BsmtCond_FaPo', -0.0),\n",
       " ('BsmnQual_BsmtCond_FaTA', -0.0),\n",
       " ('BsmnQual_BsmtCond_GdFa', 0.0),\n",
       " ('BsmnQual_BsmtCond_GdGd', 0.0),\n",
       " ('BsmnQual_BsmtCond_GdTA', -0.0060629898858351712),\n",
       " ('BsmnQual_BsmtCond_None', 0.0),\n",
       " ('BsmnQual_BsmtCond_TAFa', -0.0),\n",
       " ('BsmnQual_BsmtCond_TAGd', 0.0),\n",
       " ('BsmnQual_BsmtCond_TAPo', 0.0),\n",
       " ('BsmnQual_BsmtCond_TATA', 0.0),\n",
       " ('Condition1_Condition2_ArteryArtery', -0.0),\n",
       " ('Condition1_Condition2_ArteryNorm', -0.0029366264165084375),\n",
       " ('Condition1_Condition2_ArteryPosA', 0.0),\n",
       " ('Condition1_Condition2_FeedrArtery', 0.0),\n",
       " ('Condition1_Condition2_FeedrFeedr', 0.0),\n",
       " ('Condition1_Condition2_FeedrNorm', 0.0),\n",
       " ('Condition1_Condition2_FeedrRRAe', -0.0),\n",
       " ('Condition1_Condition2_FeedrRRAn', -0.0),\n",
       " ('Condition1_Condition2_FeedrRRNn', -0.0),\n",
       " ('Condition1_Condition2_NormNorm', 0.0),\n",
       " ('Condition1_Condition2_PosANorm', -0.0),\n",
       " ('Condition1_Condition2_PosAPosA', 0.0),\n",
       " ('Condition1_Condition2_PosNNorm', 0.0),\n",
       " ('Condition1_Condition2_PosNPosN', -0.0),\n",
       " ('Condition1_Condition2_RRAeNorm', -0.0),\n",
       " ('Condition1_Condition2_RRAnArtery', 0.0),\n",
       " ('Condition1_Condition2_RRAnFeedr', -0.0),\n",
       " ('Condition1_Condition2_RRAnNorm', 0.0),\n",
       " ('Condition1_Condition2_RRNeNorm', -0.0),\n",
       " ('Condition1_Condition2_RRNnArtery', 0.0),\n",
       " ('Condition1_Condition2_RRNnFeedr', -0.0),\n",
       " ('Condition1_Condition2_RRNnNorm', 0.0),\n",
       " ('ExterQual_ExterCond_ExEx', 0.0),\n",
       " ('ExterQual_ExterCond_ExGd', -0.0),\n",
       " ('ExterQual_ExterCond_ExTA', 0.0),\n",
       " ('ExterQual_ExterCond_FaFa', 0.0),\n",
       " ('ExterQual_ExterCond_FaGd', 0.0),\n",
       " ('ExterQual_ExterCond_FaPo', 0.0),\n",
       " ('ExterQual_ExterCond_FaTA', -0.0),\n",
       " ('ExterQual_ExterCond_GdEx', 0.0),\n",
       " ('ExterQual_ExterCond_GdFa', 0.0),\n",
       " ('ExterQual_ExterCond_GdGd', 0.0),\n",
       " ('ExterQual_ExterCond_GdTA', -0.0),\n",
       " ('ExterQual_ExterCond_TAEx', 0.0),\n",
       " ('ExterQual_ExterCond_TAFa', -0.0),\n",
       " ('ExterQual_ExterCond_TAGd', -0.0),\n",
       " ('ExterQual_ExterCond_TAPo', -0.0),\n",
       " ('ExterQual_ExterCond_TATA', 0.0),\n",
       " ('SaleType_OverallCond_COD1', 0.0),\n",
       " ('SaleType_OverallCond_COD3', -0.0),\n",
       " ('SaleType_OverallCond_COD4', -0.0),\n",
       " ('SaleType_OverallCond_COD5', -0.0),\n",
       " ('SaleType_OverallCond_COD6', -0.0),\n",
       " ('SaleType_OverallCond_COD7', 0.0),\n",
       " ('SaleType_OverallCond_COD8', 0.0),\n",
       " ('SaleType_OverallCond_COD9', -0.0),\n",
       " ('SaleType_OverallCond_CWD5', 0.0),\n",
       " ('SaleType_OverallCond_CWD6', 0.0),\n",
       " ('SaleType_OverallCond_CWD7', -0.0),\n",
       " ('SaleType_OverallCond_Con5', 0.0),\n",
       " ('SaleType_OverallCond_Con6', 0.0),\n",
       " ('SaleType_OverallCond_ConLD1', 0.0),\n",
       " ('SaleType_OverallCond_ConLD2', 0.0),\n",
       " ('SaleType_OverallCond_ConLD3', 0.0),\n",
       " ('SaleType_OverallCond_ConLD4', 0.0),\n",
       " ('SaleType_OverallCond_ConLD5', 0.0),\n",
       " ('SaleType_OverallCond_ConLD6', 0.0),\n",
       " ('SaleType_OverallCond_ConLD7', -0.0),\n",
       " ('SaleType_OverallCond_ConLD8', 0.0),\n",
       " ('SaleType_OverallCond_ConLI5', -0.0),\n",
       " ('SaleType_OverallCond_ConLI6', 0.0),\n",
       " ('SaleType_OverallCond_ConLI8', -0.0),\n",
       " ('SaleType_OverallCond_ConLw3', 0.0),\n",
       " ('SaleType_OverallCond_ConLw5', 0.0),\n",
       " ('SaleType_OverallCond_ConLw6', -0.0),\n",
       " ('SaleType_OverallCond_New2', 0.0),\n",
       " ('SaleType_OverallCond_New5', 0.0),\n",
       " ('SaleType_OverallCond_New6', 0.0),\n",
       " ('SaleType_OverallCond_Oth3', 0.0),\n",
       " ('SaleType_OverallCond_Oth5', 0.0),\n",
       " ('SaleType_OverallCond_Oth6', 0.0),\n",
       " ('SaleType_OverallCond_WD1', 0.0),\n",
       " ('SaleType_OverallCond_WD2', -0.0),\n",
       " ('SaleType_OverallCond_WD3', -0.04420133086010733),\n",
       " ('SaleType_OverallCond_WD4', -0.0),\n",
       " ('SaleType_OverallCond_WD5', 0.0),\n",
       " ('SaleType_OverallCond_WD6', 0.0),\n",
       " ('SaleType_OverallCond_WD7', 0.0068903193311460071),\n",
       " ('SaleType_OverallCond_WD8', -0.0),\n",
       " ('SaleType_OverallCond_WD9', 0.0)]"
      ]
     },
     "execution_count": 144,
     "metadata": {},
     "output_type": "execute_result"
    }
   ],
   "source": [
    "list(zip(train.columns, lasso_predictor.coef_)) #zip already returns a list"
   ]
  },
  {
   "cell_type": "code",
   "execution_count": 151,
   "metadata": {},
   "outputs": [
    {
     "data": {
      "text/plain": [
       "23     0.016890\n",
       "188    0.015850\n",
       "24     0.015664\n",
       "54     0.015255\n",
       "161    0.013737\n",
       "183    0.012994\n",
       "94     0.010741\n",
       "37     0.009366\n",
       "17     0.008679\n",
       "36     0.008326\n",
       "47     0.007673\n",
       "44     0.007315\n",
       "31     0.007290\n",
       "312    0.006890\n",
       "222    0.005855\n",
       "26     0.005262\n",
       "0      0.005028\n",
       "22     0.004871\n",
       "209    0.004271\n",
       "52     0.003035\n",
       "19     0.002942\n",
       "156    0.002537\n",
       "41     0.002506\n",
       "5      0.002255\n",
       "29     0.000996\n",
       "124    0.000976\n",
       "98     0.000929\n",
       "10     0.000352\n",
       "50     0.000257\n",
       "2      0.000135\n",
       "         ...   \n",
       "139   -0.000000\n",
       "134   -0.000000\n",
       "138   -0.000000\n",
       "137    0.000000\n",
       "132    0.000000\n",
       "42    -0.000004\n",
       "181   -0.000092\n",
       "4     -0.000183\n",
       "38    -0.000502\n",
       "20    -0.002512\n",
       "236   -0.002937\n",
       "92    -0.003562\n",
       "27    -0.003944\n",
       "9     -0.004597\n",
       "6     -0.004902\n",
       "174   -0.005031\n",
       "229   -0.006063\n",
       "57    -0.006138\n",
       "99    -0.006941\n",
       "18    -0.008824\n",
       "33    -0.011683\n",
       "34    -0.013906\n",
       "62    -0.014156\n",
       "13    -0.015473\n",
       "219   -0.018458\n",
       "32    -0.022078\n",
       "308   -0.044201\n",
       "157   -0.058772\n",
       "205   -0.068956\n",
       "153   -0.202825\n",
       "Name: Coeff, Length: 295, dtype: float64"
      ]
     },
     "execution_count": 151,
     "metadata": {},
     "output_type": "execute_result"
    }
   ],
   "source": [
    "x = pd.DataFrame(list(zip(train.columns, lasso_predictor.coef_)))\n",
    "x.columns = ['Var', 'Coeff']\n",
    "x.sort_values(by='Coeff', ascending=False)['Coeff'][20:]"
   ]
  },
  {
   "cell_type": "code",
   "execution_count": 133,
   "metadata": {
    "collapsed": true
   },
   "outputs": [],
   "source": [
    "x = list(zip(train.columns, lasso.steps[1][1].coef_))\n",
    "x.sort(key = lambda x: x[1])\n",
    "df = pd.DataFrame(x, columns=['Var', 'Coeff'])\n",
    "\n",
    "top_pos = df[\"Coeff\"][-20:]\n",
    "top_neg = df[\"Coeff\"][:20]\n",
    "top_pos_names = df[\"Var\"][-20:]\n",
    "top_neg_names = df[\"Var\"][:20]\n",
    "\n",
    "#stacks arrays horizontally\n",
    "top_coefs = np.hstack([top_neg, top_pos])\n",
    "top_names = np.hstack([top_neg_names, top_pos_names])"
   ]
  },
  {
   "cell_type": "code",
   "execution_count": 160,
   "metadata": {},
   "outputs": [
    {
     "data": {
      "text/plain": [
       "array(['MSZoning_C (all)', 'SaleCondition_Abnorml', 'MSZoning_RM',\n",
       "       'SaleType_OverallCond_WD3', 'HeatingQC', 'SaleType_WD', 'BsmtQual',\n",
       "       'BldgType_Twnhs', 'KitchenQual', 'KitchenAbvGr', 'ExterQual',\n",
       "       'Exterior1st_Wd Sdng', 'YrSold', 'BsmnQual_BsmtCond_GdTA',\n",
       "       'Neighborhood_Edwards', 'BsmtExposure', 'BsmtFinType1',\n",
       "       'GarageFinish', 'Exterior1st_HdBoard',\n",
       "       'Condition1_Condition2_ArteryNorm', 'BsmtFullBath', 'Fireplaces',\n",
       "       'Neighborhood_BrkSide', 'LotConfig_CulDSac', 'GarageCars',\n",
       "       'BldgType_1Fam', 'YearRemodAdd', 'Foundation_PConc',\n",
       "       'Neighborhood_StoneBr', 'SaleType_New', 'Condition1_Norm',\n",
       "       'OverallCond', 'Exterior1st_BrkFace', 'CentralAir', 'BsmtFinSF1',\n",
       "       'Neighborhood_Crawfor', 'YearBuilt', 'OverallSF', 'GrLivArea',\n",
       "       'OverallQual'], dtype=object)"
      ]
     },
     "execution_count": 160,
     "metadata": {},
     "output_type": "execute_result"
    }
   ],
   "source": [
    "np.concatenate([top_neg, top_pos])\n",
    "np.concatenate([top_neg_names, top_pos_names]) #same as hstack; concatenate is good enough"
   ]
  },
  {
   "cell_type": "code",
   "execution_count": 159,
   "metadata": {},
   "outputs": [
    {
     "data": {
      "text/plain": [
       "array(['MSZoning_C (all)', 'SaleCondition_Abnorml', 'MSZoning_RM',\n",
       "       'SaleType_OverallCond_WD3', 'HeatingQC', 'SaleType_WD', 'BsmtQual',\n",
       "       'BldgType_Twnhs', 'KitchenQual', 'KitchenAbvGr', 'ExterQual',\n",
       "       'Exterior1st_Wd Sdng', 'YrSold', 'BsmnQual_BsmtCond_GdTA',\n",
       "       'Neighborhood_Edwards', 'BsmtExposure', 'BsmtFinType1',\n",
       "       'GarageFinish', 'Exterior1st_HdBoard',\n",
       "       'Condition1_Condition2_ArteryNorm', 'BsmtFullBath', 'Fireplaces',\n",
       "       'Neighborhood_BrkSide', 'LotConfig_CulDSac', 'GarageCars',\n",
       "       'BldgType_1Fam', 'YearRemodAdd', 'Foundation_PConc',\n",
       "       'Neighborhood_StoneBr', 'SaleType_New', 'Condition1_Norm',\n",
       "       'OverallCond', 'Exterior1st_BrkFace', 'CentralAir', 'BsmtFinSF1',\n",
       "       'Neighborhood_Crawfor', 'YearBuilt', 'OverallSF', 'GrLivArea',\n",
       "       'OverallQual'], dtype=object)"
      ]
     },
     "execution_count": 159,
     "metadata": {},
     "output_type": "execute_result"
    }
   ],
   "source": [
    "top_names"
   ]
  },
  {
   "cell_type": "code",
   "execution_count": 134,
   "metadata": {},
   "outputs": [
    {
     "data": {
      "text/plain": [
       "([<matplotlib.axis.XTick at 0x1a24abb790>,\n",
       "  <matplotlib.axis.XTick at 0x1a24c0bb10>,\n",
       "  <matplotlib.axis.XTick at 0x11799b0d0>,\n",
       "  <matplotlib.axis.XTick at 0x1a234179d0>,\n",
       "  <matplotlib.axis.XTick at 0x1a23417e90>,\n",
       "  <matplotlib.axis.XTick at 0x1a23424390>,\n",
       "  <matplotlib.axis.XTick at 0x1a23424850>,\n",
       "  <matplotlib.axis.XTick at 0x1a23424d10>,\n",
       "  <matplotlib.axis.XTick at 0x1a2342d210>,\n",
       "  <matplotlib.axis.XTick at 0x1a2342d6d0>,\n",
       "  <matplotlib.axis.XTick at 0x1a2342db90>,\n",
       "  <matplotlib.axis.XTick at 0x1a23437090>,\n",
       "  <matplotlib.axis.XTick at 0x1a23437550>,\n",
       "  <matplotlib.axis.XTick at 0x1a23437a10>,\n",
       "  <matplotlib.axis.XTick at 0x1a23437f10>,\n",
       "  <matplotlib.axis.XTick at 0x118d60450>,\n",
       "  <matplotlib.axis.XTick at 0x118d60950>,\n",
       "  <matplotlib.axis.XTick at 0x118d60e50>,\n",
       "  <matplotlib.axis.XTick at 0x118d69390>,\n",
       "  <matplotlib.axis.XTick at 0x118d69890>,\n",
       "  <matplotlib.axis.XTick at 0x118d69d90>,\n",
       "  <matplotlib.axis.XTick at 0x118d722d0>,\n",
       "  <matplotlib.axis.XTick at 0x118d727d0>,\n",
       "  <matplotlib.axis.XTick at 0x118d72cd0>,\n",
       "  <matplotlib.axis.XTick at 0x118d7b210>,\n",
       "  <matplotlib.axis.XTick at 0x1a24caee90>,\n",
       "  <matplotlib.axis.XTick at 0x1a24c9ea10>,\n",
       "  <matplotlib.axis.XTick at 0x118d7b450>,\n",
       "  <matplotlib.axis.XTick at 0x118d7b950>,\n",
       "  <matplotlib.axis.XTick at 0x118d7be50>,\n",
       "  <matplotlib.axis.XTick at 0x118d87390>,\n",
       "  <matplotlib.axis.XTick at 0x118d87890>,\n",
       "  <matplotlib.axis.XTick at 0x118d87d90>,\n",
       "  <matplotlib.axis.XTick at 0x118d912d0>,\n",
       "  <matplotlib.axis.XTick at 0x118d917d0>,\n",
       "  <matplotlib.axis.XTick at 0x118d91cd0>,\n",
       "  <matplotlib.axis.XTick at 0x117645210>,\n",
       "  <matplotlib.axis.XTick at 0x117645710>,\n",
       "  <matplotlib.axis.XTick at 0x117645c10>,\n",
       "  <matplotlib.axis.XTick at 0x11764f150>],\n",
       " <a list of 40 Text xticklabel objects>)"
      ]
     },
     "execution_count": 134,
     "metadata": {},
     "output_type": "execute_result"
    },
    {
     "data": {
      "image/png": "[encoded data removed]",
      "text/plain": [
       "<matplotlib.figure.Figure at 0x1a24c31250>"
      ]
     },
     "metadata": {},
     "output_type": "display_data"
    }
   ],
   "source": [
    "plt.figure(figsize = (15, 5))\n",
    "colors = ['red' if c < 0 else 'blue' for c in top_coefs]\n",
    "plt.bar(np.arange(40), top_coefs, color = colors)\n",
    "feature_names = np.array(train.columns)\n",
    "plt.xticks(np.arange(40), top_names, rotation = 60, ha = 'right')"
   ]
  },
  {
   "cell_type": "code",
   "execution_count": 106,
   "metadata": {
    "collapsed": true
   },
   "outputs": [],
   "source": [
    "#probably overfitting - HMM, also coefficients looks very small\n",
    "#data / code has some issues, very strange, something is wrong\n",
    "#predictions look correct though"
   ]
  },
  {
   "cell_type": "markdown",
   "metadata": {},
   "source": [
    "## ENET"
   ]
  },
  {
   "cell_type": "code",
   "execution_count": 161,
   "metadata": {
    "collapsed": true
   },
   "outputs": [],
   "source": [
    "ENet = make_pipeline(RobustScaler(), ElasticNet(alpha=0.0005, l1_ratio=.9, random_state=1))"
   ]
  },
  {
   "cell_type": "code",
   "execution_count": 165,
   "metadata": {},
   "outputs": [
    {
     "name": "stdout",
     "output_type": "stream",
     "text": [
      "ElasticNet score: 0.1105 (0.0145)\n"
     ]
    }
   ],
   "source": [
    "#error is higher, but correlation is also higher? Strange\n",
    "score = rmsle_cv(ENet)\n",
    "print(\"ElasticNet score: {:.4f} ({:.4f})\".format(score.mean(), score.std()))"
   ]
  },
  {
   "cell_type": "code",
   "execution_count": 163,
   "metadata": {},
   "outputs": [
    {
     "data": {
      "text/plain": [
       "<seaborn.axisgrid.JointGrid at 0x1a2385c9d0>"
      ]
     },
     "execution_count": 163,
     "metadata": {},
     "output_type": "execute_result"
    },
    {
     "data": {
      "image/png": "[encoded data removed]",
      "text/plain": [
       "<matplotlib.figure.Figure at 0x117a3f090>"
      ]
     },
     "metadata": {},
     "output_type": "display_data"
    }
   ],
   "source": [
    "ENet.fit(train.values, y_train)\n",
    "sns.jointplot(y_train, ENet.predict(train.values), kind=\"reg\")"
   ]
  },
  {
   "cell_type": "code",
   "execution_count": 166,
   "metadata": {},
   "outputs": [
    {
     "data": {
      "text/plain": [
       "<seaborn.axisgrid.JointGrid at 0x1a248f9950>"
      ]
     },
     "execution_count": 166,
     "metadata": {},
     "output_type": "execute_result"
    },
    {
     "data": {
      "image/png": "[encoded data removed]",
      "text/plain": [
       "<matplotlib.figure.Figure at 0x118b21dd0>"
      ]
     },
     "metadata": {},
     "output_type": "display_data"
    }
   ],
   "source": [
    "ENet.fit(train.values, y_train)\n",
    "sns.jointplot(np.expm1(y_train), np.expm1(ENet.predict(train.values)), kind=\"reg\")"
   ]
  },
  {
   "cell_type": "code",
   "execution_count": 180,
   "metadata": {},
   "outputs": [
    {
     "data": {
      "text/plain": [
       "<seaborn.axisgrid.JointGrid at 0x1c28677f50>"
      ]
     },
     "execution_count": 180,
     "metadata": {},
     "output_type": "execute_result"
    },
    {
     "data": {
      "image/png": "[encoded data removed]",
      "text/plain": [
       "<matplotlib.figure.Figure at 0x118d72a50>"
      ]
     },
     "metadata": {},
     "output_type": "display_data"
    }
   ],
   "source": [
    "sns.jointplot(np.expm1(y_train), np.expm1(ENet.predict(train.values)), kind=\"resid\")"
   ]
  },
  {
   "cell_type": "code",
   "execution_count": 167,
   "metadata": {
    "collapsed": true
   },
   "outputs": [],
   "source": [
    "x = list(zip(train.columns, ENet.steps[1][1].coef_))\n",
    "x.sort(key = lambda x: x[1])\n",
    "df = pd.DataFrame(x, columns=['Var', 'Coeff'])\n",
    "\n",
    "top_pos = df[\"Coeff\"][-20:]\n",
    "top_neg = df[\"Coeff\"][:20]\n",
    "top_pos_names = df[\"Var\"][-20:]\n",
    "top_neg_names = df[\"Var\"][:20]\n",
    "\n",
    "top_coefs = np.hstack([top_neg, top_pos])\n",
    "top_names = np.hstack([top_neg_names, top_pos_names])"
   ]
  },
  {
   "cell_type": "code",
   "execution_count": 168,
   "metadata": {},
   "outputs": [
    {
     "data": {
      "text/plain": [
       "([<matplotlib.axis.XTick at 0x1a258e89d0>,\n",
       "  <matplotlib.axis.XTick at 0x1a258e8750>,\n",
       "  <matplotlib.axis.XTick at 0x1a258fcc10>,\n",
       "  <matplotlib.axis.XTick at 0x1a25977050>,\n",
       "  <matplotlib.axis.XTick at 0x1a25977510>,\n",
       "  <matplotlib.axis.XTick at 0x1a25977a10>,\n",
       "  <matplotlib.axis.XTick at 0x1a25977f10>,\n",
       "  <matplotlib.axis.XTick at 0x1a25980450>,\n",
       "  <matplotlib.axis.XTick at 0x1a25980950>,\n",
       "  <matplotlib.axis.XTick at 0x1a25980e50>,\n",
       "  <matplotlib.axis.XTick at 0x1a25989390>,\n",
       "  <matplotlib.axis.XTick at 0x1a25989890>,\n",
       "  <matplotlib.axis.XTick at 0x1a25989d90>,\n",
       "  <matplotlib.axis.XTick at 0x1a259932d0>,\n",
       "  <matplotlib.axis.XTick at 0x1a259937d0>,\n",
       "  <matplotlib.axis.XTick at 0x1a25993cd0>,\n",
       "  <matplotlib.axis.XTick at 0x1a2599e210>,\n",
       "  <matplotlib.axis.XTick at 0x1a2599e710>,\n",
       "  <matplotlib.axis.XTick at 0x1a2599ec10>,\n",
       "  <matplotlib.axis.XTick at 0x1a259a8150>,\n",
       "  <matplotlib.axis.XTick at 0x1a259a8650>,\n",
       "  <matplotlib.axis.XTick at 0x1a259a8b50>,\n",
       "  <matplotlib.axis.XTick at 0x1a259b2090>,\n",
       "  <matplotlib.axis.XTick at 0x1a259b2590>,\n",
       "  <matplotlib.axis.XTick at 0x1a259b2a90>,\n",
       "  <matplotlib.axis.XTick at 0x1a259b2f90>,\n",
       "  <matplotlib.axis.XTick at 0x1a259bc4d0>,\n",
       "  <matplotlib.axis.XTick at 0x1a259bc9d0>,\n",
       "  <matplotlib.axis.XTick at 0x1a259bced0>,\n",
       "  <matplotlib.axis.XTick at 0x1a259c7410>,\n",
       "  <matplotlib.axis.XTick at 0x1a259c7910>,\n",
       "  <matplotlib.axis.XTick at 0x1a259c7e10>,\n",
       "  <matplotlib.axis.XTick at 0x1a259d0350>,\n",
       "  <matplotlib.axis.XTick at 0x1a259d0850>,\n",
       "  <matplotlib.axis.XTick at 0x1a259d0d50>,\n",
       "  <matplotlib.axis.XTick at 0x1a259db290>,\n",
       "  <matplotlib.axis.XTick at 0x1a259db790>,\n",
       "  <matplotlib.axis.XTick at 0x1a259dbc90>,\n",
       "  <matplotlib.axis.XTick at 0x1a259e61d0>,\n",
       "  <matplotlib.axis.XTick at 0x1a259e66d0>],\n",
       " <a list of 40 Text xticklabel objects>)"
      ]
     },
     "execution_count": 168,
     "metadata": {},
     "output_type": "execute_result"
    },
    {
     "data": {
      "image/png": "[encoded data removed]",
      "text/plain": [
       "<matplotlib.figure.Figure at 0x1a23ef6c50>"
      ]
     },
     "metadata": {},
     "output_type": "display_data"
    }
   ],
   "source": [
    "plt.figure(figsize = (15, 5))\n",
    "colors = ['red' if c < 0 else 'blue' for c in top_coefs]\n",
    "plt.bar(np.arange(40), top_coefs, color = colors)\n",
    "feature_names = np.array(train.columns)\n",
    "plt.xticks(np.arange(40), top_names, rotation = 60, ha = 'right')"
   ]
  },
  {
   "cell_type": "code",
   "execution_count": 175,
   "metadata": {},
   "outputs": [
    {
     "data": {
      "image/png": "[encoded data removed]",
      "text/plain": [
       "<matplotlib.figure.Figure at 0x1c27725310>"
      ]
     },
     "metadata": {},
     "output_type": "display_data"
    },
    {
     "data": {
      "text/plain": [
       "<ggplot: (7557474081)>"
      ]
     },
     "execution_count": 175,
     "metadata": {},
     "output_type": "execute_result"
    }
   ],
   "source": [
    "ggplot(aes(x=\"Var\", weight=\"Coeff\"),df.sort_values(by=\"Coeff\", ascending=True).head()) + geom_bar()"
   ]
  },
  {
   "cell_type": "code",
   "execution_count": 176,
   "metadata": {},
   "outputs": [
    {
     "data": {
      "text/html": [
       "<div>\n",
       "<style scoped>\n",
       "    .dataframe tbody tr th:only-of-type {\n",
       "        vertical-align: middle;\n",
       "    }\n",
       "\n",
       "    .dataframe tbody tr th {\n",
       "        vertical-align: top;\n",
       "    }\n",
       "\n",
       "    .dataframe thead th {\n",
       "        text-align: right;\n",
       "    }\n",
       "</style>\n",
       "<table border=\"1\" class=\"dataframe\">\n",
       "  <thead>\n",
       "    <tr style=\"text-align: right;\">\n",
       "      <th></th>\n",
       "      <th>Var</th>\n",
       "      <th>Coeff</th>\n",
       "    </tr>\n",
       "  </thead>\n",
       "  <tbody>\n",
       "    <tr>\n",
       "      <th>0</th>\n",
       "      <td>MSZoning_C (all)</td>\n",
       "      <td>-0.292018</td>\n",
       "    </tr>\n",
       "    <tr>\n",
       "      <th>1</th>\n",
       "      <td>SaleType_OverallCond_WD3</td>\n",
       "      <td>-0.085798</td>\n",
       "    </tr>\n",
       "    <tr>\n",
       "      <th>2</th>\n",
       "      <td>SaleCondition_Abnorml</td>\n",
       "      <td>-0.064102</td>\n",
       "    </tr>\n",
       "    <tr>\n",
       "      <th>3</th>\n",
       "      <td>Heating_Grav</td>\n",
       "      <td>-0.057665</td>\n",
       "    </tr>\n",
       "    <tr>\n",
       "      <th>4</th>\n",
       "      <td>MSZoning_RM</td>\n",
       "      <td>-0.056975</td>\n",
       "    </tr>\n",
       "  </tbody>\n",
       "</table>\n",
       "</div>"
      ],
      "text/plain": [
       "                        Var     Coeff\n",
       "0          MSZoning_C (all) -0.292018\n",
       "1  SaleType_OverallCond_WD3 -0.085798\n",
       "2     SaleCondition_Abnorml -0.064102\n",
       "3              Heating_Grav -0.057665\n",
       "4               MSZoning_RM -0.056975"
      ]
     },
     "execution_count": 176,
     "metadata": {},
     "output_type": "execute_result"
    }
   ],
   "source": [
    "df.sort_values(by=\"Coeff\", ascending=True).head()"
   ]
  },
  {
   "cell_type": "code",
   "execution_count": 179,
   "metadata": {},
   "outputs": [],
   "source": [
    "#ggplot(aes(x=\"Var\", y=\"Coeff\"),df.sort_values(by=\"Coeff\", ascending=True).head()) +\\\n",
    "#geom_bar(stat='identity') #this doesn't work"
   ]
  },
  {
   "cell_type": "markdown",
   "metadata": {},
   "source": [
    "## Gradient Boosting"
   ]
  },
  {
   "cell_type": "code",
   "execution_count": 181,
   "metadata": {
    "collapsed": true
   },
   "outputs": [],
   "source": [
    "?GradientBoostingRegressor"
   ]
  },
  {
   "cell_type": "code",
   "execution_count": 182,
   "metadata": {
    "collapsed": true
   },
   "outputs": [],
   "source": [
    "GBoost = GradientBoostingRegressor(n_estimators=3000, learning_rate=0.05,\n",
    "                                   max_depth=4, max_features='sqrt',\n",
    "                                   min_samples_leaf=15, min_samples_split=10, \n",
    "                                   loss='huber', random_state =5)"
   ]
  },
  {
   "cell_type": "code",
   "execution_count": 183,
   "metadata": {
    "collapsed": true
   },
   "outputs": [],
   "source": [
    "score = rmsle_cv(GBoost)"
   ]
  },
  {
   "cell_type": "code",
   "execution_count": 184,
   "metadata": {},
   "outputs": [
    {
     "name": "stdout",
     "output_type": "stream",
     "text": [
      "Gradient Boosting score: 0.1135 (0.0156)\n",
      "\n"
     ]
    }
   ],
   "source": [
    "print(\"Gradient Boosting score: {:.4f} ({:.4f})\\n\".format(score.mean(), score.std()))"
   ]
  },
  {
   "cell_type": "code",
   "execution_count": 185,
   "metadata": {},
   "outputs": [
    {
     "data": {
      "text/plain": [
       "GradientBoostingRegressor(alpha=0.9, criterion='friedman_mse', init=None,\n",
       "             learning_rate=0.05, loss='huber', max_depth=4,\n",
       "             max_features='sqrt', max_leaf_nodes=None,\n",
       "             min_impurity_decrease=0.0, min_impurity_split=None,\n",
       "             min_samples_leaf=15, min_samples_split=10,\n",
       "             min_weight_fraction_leaf=0.0, n_estimators=3000,\n",
       "             presort='auto', random_state=5, subsample=1.0, verbose=0,\n",
       "             warm_start=False)"
      ]
     },
     "execution_count": 185,
     "metadata": {},
     "output_type": "execute_result"
    }
   ],
   "source": [
    "GBoost.fit(train.values, y_train)"
   ]
  },
  {
   "cell_type": "code",
   "execution_count": 187,
   "metadata": {},
   "outputs": [
    {
     "data": {
      "text/plain": [
       "<seaborn.axisgrid.JointGrid at 0x1c28612690>"
      ]
     },
     "execution_count": 187,
     "metadata": {},
     "output_type": "execute_result"
    },
    {
     "data": {
      "image/png": "[encoded data removed]",
      "text/plain": [
       "<matplotlib.figure.Figure at 0x1c2638b150>"
      ]
     },
     "metadata": {},
     "output_type": "display_data"
    }
   ],
   "source": [
    "sns.jointplot(GBoost.predict(train.values), y_train, kind=\"reg\")\n",
    "#fitting of original"
   ]
  },
  {
   "cell_type": "code",
   "execution_count": 192,
   "metadata": {},
   "outputs": [
    {
     "data": {
      "image/png": "[encoded data removed]",
      "text/plain": [
       "<matplotlib.figure.Figure at 0x1c28680690>"
      ]
     },
     "metadata": {},
     "output_type": "display_data"
    }
   ],
   "source": [
    "#UNLIKE REGRESSION - this doesn't tell you the sign of importance\n",
    "x = list(zip(train.columns, GBoost.feature_importances_))\n",
    "x.sort(key = lambda x: x[1])\n",
    "df = pd.DataFrame(x, columns = ['Var','Importance'])\n",
    "top = df[\"Importance\"][-20:]\n",
    "top_name = df['Var'][-20:]\n",
    "plt.figure(figsize = (10, 20))\n",
    "plt.barh(np.arange(len(top_name)), top)\n",
    "plt.yticks(np.arange(len(top_name))+ 0.25, np.array(top_name))\n",
    "_ = plt.xlabel('Importance')"
   ]
  },
  {
   "cell_type": "code",
   "execution_count": 194,
   "metadata": {},
   "outputs": [
    {
     "data": {
      "text/plain": [
       "array([ 0.11919328,  0.09300541,  0.1081214 ,  0.13764448,  0.13376438,\n",
       "        0.10037948,  0.12149782,  0.10150267,  0.0934729 ,  0.12642061])"
      ]
     },
     "execution_count": 194,
     "metadata": {},
     "output_type": "execute_result"
    }
   ],
   "source": [
    "score #score looks good!"
   ]
  },
  {
   "cell_type": "code",
   "execution_count": 195,
   "metadata": {
    "collapsed": true
   },
   "outputs": [],
   "source": [
    "LGBoost = GradientBoostingRegressor(n_estimators=1000, learning_rate=0.05,\n",
    "                                   max_depth=2, max_features='sqrt',\n",
    "                                    min_samples_leaf=15, min_samples_split=10,\n",
    "                                    loss='huber', random_state =5)"
   ]
  },
  {
   "cell_type": "code",
   "execution_count": 196,
   "metadata": {},
   "outputs": [
    {
     "name": "stdout",
     "output_type": "stream",
     "text": [
      "LGBoost score: 0.1132 (0.0148)\n",
      "\n"
     ]
    }
   ],
   "source": [
    "score = rmsle_cv(LGBoost)\n",
    "print(\"LGBoost score: {:.4f} ({:.4f})\\n\" .format(score.mean(), score.std()))"
   ]
  },
  {
   "cell_type": "code",
   "execution_count": 197,
   "metadata": {},
   "outputs": [
    {
     "data": {
      "text/plain": [
       "GradientBoostingRegressor(alpha=0.9, criterion='friedman_mse', init=None,\n",
       "             learning_rate=0.05, loss='huber', max_depth=2,\n",
       "             max_features='sqrt', max_leaf_nodes=None,\n",
       "             min_impurity_decrease=0.0, min_impurity_split=None,\n",
       "             min_samples_leaf=15, min_samples_split=10,\n",
       "             min_weight_fraction_leaf=0.0, n_estimators=1000,\n",
       "             presort='auto', random_state=5, subsample=1.0, verbose=0,\n",
       "             warm_start=False)"
      ]
     },
     "execution_count": 197,
     "metadata": {},
     "output_type": "execute_result"
    }
   ],
   "source": [
    "LGBoost.fit(train.values, y_train)"
   ]
  },
  {
   "cell_type": "code",
   "execution_count": 199,
   "metadata": {},
   "outputs": [
    {
     "data": {
      "text/plain": [
       "<seaborn.axisgrid.JointGrid at 0x1c29f2c5d0>"
      ]
     },
     "execution_count": 199,
     "metadata": {},
     "output_type": "execute_result"
    },
    {
     "data": {
      "image/png": "[encoded data removed]",
      "text/plain": [
       "<matplotlib.figure.Figure at 0x1c29d846d0>"
      ]
     },
     "metadata": {},
     "output_type": "display_data"
    }
   ],
   "source": [
    "sns.jointplot(LGBoost.predict(train.values),y_train,kind=\"reg\")"
   ]
  },
  {
   "cell_type": "code",
   "execution_count": 198,
   "metadata": {},
   "outputs": [
    {
     "data": {
      "image/png": "[encoded data removed]",
      "text/plain": [
       "<matplotlib.figure.Figure at 0x1c29ead510>"
      ]
     },
     "metadata": {},
     "output_type": "display_data"
    }
   ],
   "source": [
    "x = list(zip(train.columns, LGBoost.feature_importances_))\n",
    "x.sort(key = lambda x: x[1])\n",
    "df = pd.DataFrame(x, columns = ['Var','Importance'])\n",
    "top = df[\"Importance\"][-10:]\n",
    "top_name = df['Var'][-10:]\n",
    "plt.figure(figsize = (10, 10))\n",
    "plt.barh(np.arange(len(top_name)), top)\n",
    "plt.yticks(np.arange(len(top_name))+ 0.25, np.array(top_name))\n",
    "_ = plt.xlabel('Importance')"
   ]
  },
  {
   "cell_type": "code",
   "execution_count": 200,
   "metadata": {
    "collapsed": true
   },
   "outputs": [],
   "source": [
    "#LMT XGBOOST!"
   ]
  },
  {
   "cell_type": "code",
   "execution_count": 203,
   "metadata": {},
   "outputs": [],
   "source": [
    "#Can not install XGBoost on local. XGboost need to be run from Workbench?"
   ]
  },
  {
   "cell_type": "code",
   "execution_count": 206,
   "metadata": {},
   "outputs": [],
   "source": [
    "import xgboost as xgb"
   ]
  },
  {
   "cell_type": "code",
   "execution_count": 205,
   "metadata": {},
   "outputs": [
    {
     "name": "stdout",
     "output_type": "stream",
     "text": [
      "<class 'pandas.core.frame.DataFrame'>\n",
      "RangeIndex: 1458 entries, 0 to 1457\n",
      "Columns: 315 entries, 1stFlrSF to SaleType_OverallCond_WD9\n",
      "dtypes: float64(12), int64(303)\n",
      "memory usage: 3.5 MB\n"
     ]
    }
   ],
   "source": [
    "train.info()"
   ]
  },
  {
   "cell_type": "code",
   "execution_count": 210,
   "metadata": {
    "collapsed": true
   },
   "outputs": [],
   "source": [
    "xgbRegressor = xgb.XGBRegressor() #minimalistic example"
   ]
  },
  {
   "cell_type": "code",
   "execution_count": 208,
   "metadata": {
    "collapsed": true
   },
   "outputs": [],
   "source": [
    "score = rmsle_cv(xgbRegressor)"
   ]
  },
  {
   "cell_type": "code",
   "execution_count": 215,
   "metadata": {},
   "outputs": [
    {
     "name": "stdout",
     "output_type": "stream",
     "text": [
      "0.122138481944\n"
     ]
    }
   ],
   "source": [
    "print score.mean() #actually ... a bit worse"
   ]
  },
  {
   "cell_type": "code",
   "execution_count": 212,
   "metadata": {},
   "outputs": [
    {
     "data": {
      "text/plain": [
       "XGBRegressor(base_score=0.5, colsample_bylevel=1, colsample_bytree=1, gamma=0,\n",
       "       learning_rate=0.1, max_delta_step=0, max_depth=3,\n",
       "       min_child_weight=1, missing=None, n_estimators=100, nthread=-1,\n",
       "       objective='reg:linear', reg_alpha=0, reg_lambda=1,\n",
       "       scale_pos_weight=1, seed=0, silent=True, subsample=1)"
      ]
     },
     "execution_count": 212,
     "metadata": {},
     "output_type": "execute_result"
    }
   ],
   "source": [
    "xgbRegressor.fit(train.values, y_train)"
   ]
  },
  {
   "cell_type": "code",
   "execution_count": 213,
   "metadata": {},
   "outputs": [
    {
     "data": {
      "text/plain": [
       "<seaborn.axisgrid.JointGrid at 0x1c2b7609d0>"
      ]
     },
     "execution_count": 213,
     "metadata": {},
     "output_type": "execute_result"
    },
    {
     "data": {
      "image/png": "[encoded data removed]",
      "text/plain": [
       "<matplotlib.figure.Figure at 0x1c2bd17910>"
      ]
     },
     "metadata": {},
     "output_type": "display_data"
    }
   ],
   "source": [
    "sns.jointplot(y_train, xgbRegressor.predict(train.values), kind=\"reg\") #"
   ]
  },
  {
   "cell_type": "markdown",
   "metadata": {},
   "source": [
    "# Making Predictions"
   ]
  },
  {
   "cell_type": "code",
   "execution_count": 221,
   "metadata": {},
   "outputs": [],
   "source": [
    "test_id = pd.read_csv(\"./test_id.csv\", header=None)"
   ]
  },
  {
   "cell_type": "code",
   "execution_count": 224,
   "metadata": {},
   "outputs": [
    {
     "data": {
      "text/plain": [
       "array([1461, 1462, 1463, ..., 2917, 2918, 2919])"
      ]
     },
     "execution_count": 224,
     "metadata": {},
     "output_type": "execute_result"
    }
   ],
   "source": [
    "test_id[1].values #test ID"
   ]
  },
  {
   "cell_type": "code",
   "execution_count": 240,
   "metadata": {},
   "outputs": [],
   "source": [
    "train_ensemble = np.mean(np.column_stack(\n",
    "[\n",
    "    ENet.predict(train.values),\n",
    "    GBoost.predict(train.values),\n",
    "    LGBoost.predict(train.values),\n",
    "    xgbRegressor.predict(train.values)\n",
    "]\n",
    "), axis=1)"
   ]
  },
  {
   "cell_type": "code",
   "execution_count": 242,
   "metadata": {},
   "outputs": [
    {
     "data": {
      "text/plain": [
       "<seaborn.axisgrid.JointGrid at 0x1c2cfd4350>"
      ]
     },
     "execution_count": 242,
     "metadata": {},
     "output_type": "execute_result"
    },
    {
     "data": {
      "image/png": "[encoded data removed]",
      "text/plain": [
       "<matplotlib.figure.Figure at 0x1c2b737690>"
      ]
     },
     "metadata": {},
     "output_type": "display_data"
    }
   ],
   "source": [
    "sns.jointplot(y_train, train_ensemble, kind=\"reg\")"
   ]
  },
  {
   "cell_type": "code",
   "execution_count": 243,
   "metadata": {
    "collapsed": true
   },
   "outputs": [],
   "source": [
    "test_ensemble = np.mean(np.column_stack(\n",
    "[\n",
    "    ENet.predict(test.values),\n",
    "    GBoost.predict(test.values),\n",
    "    LGBoost.predict(test.values),\n",
    "    xgbRegressor.predict(test.values)\n",
    "]\n",
    "), axis=1)"
   ]
  },
  {
   "cell_type": "code",
   "execution_count": 245,
   "metadata": {},
   "outputs": [
    {
     "data": {
      "text/plain": [
       "array([ 121845.95730224,  157289.95264829,  188017.02599289, ...,\n",
       "        164108.03402295,  118778.17017236,  225058.89358842])"
      ]
     },
     "execution_count": 245,
     "metadata": {},
     "output_type": "execute_result"
    }
   ],
   "source": [
    "np.expm1(test_ensemble) #pricing should be rouneded to nearest hundreds"
   ]
  },
  {
   "cell_type": "code",
   "execution_count": 250,
   "metadata": {},
   "outputs": [],
   "source": [
    "output = pd.DataFrame()"
   ]
  },
  {
   "cell_type": "code",
   "execution_count": 253,
   "metadata": {},
   "outputs": [],
   "source": [
    "output['Id'] = test_id[1].values\n",
    "output['SalePrice'] = np.expm1(test_ensemble)"
   ]
  },
  {
   "cell_type": "code",
   "execution_count": 254,
   "metadata": {},
   "outputs": [
    {
     "data": {
      "text/html": [
       "<div>\n",
       "<style scoped>\n",
       "    .dataframe tbody tr th:only-of-type {\n",
       "        vertical-align: middle;\n",
       "    }\n",
       "\n",
       "    .dataframe tbody tr th {\n",
       "        vertical-align: top;\n",
       "    }\n",
       "\n",
       "    .dataframe thead th {\n",
       "        text-align: right;\n",
       "    }\n",
       "</style>\n",
       "<table border=\"1\" class=\"dataframe\">\n",
       "  <thead>\n",
       "    <tr style=\"text-align: right;\">\n",
       "      <th></th>\n",
       "      <th>Id</th>\n",
       "      <th>SalePrice</th>\n",
       "    </tr>\n",
       "  </thead>\n",
       "  <tbody>\n",
       "    <tr>\n",
       "      <th>0</th>\n",
       "      <td>1461</td>\n",
       "      <td>121845.957302</td>\n",
       "    </tr>\n",
       "    <tr>\n",
       "      <th>1</th>\n",
       "      <td>1462</td>\n",
       "      <td>157289.952648</td>\n",
       "    </tr>\n",
       "    <tr>\n",
       "      <th>2</th>\n",
       "      <td>1463</td>\n",
       "      <td>188017.025993</td>\n",
       "    </tr>\n",
       "    <tr>\n",
       "      <th>3</th>\n",
       "      <td>1464</td>\n",
       "      <td>196032.331969</td>\n",
       "    </tr>\n",
       "    <tr>\n",
       "      <th>4</th>\n",
       "      <td>1465</td>\n",
       "      <td>190549.810391</td>\n",
       "    </tr>\n",
       "  </tbody>\n",
       "</table>\n",
       "</div>"
      ],
      "text/plain": [
       "     Id      SalePrice\n",
       "0  1461  121845.957302\n",
       "1  1462  157289.952648\n",
       "2  1463  188017.025993\n",
       "3  1464  196032.331969\n",
       "4  1465  190549.810391"
      ]
     },
     "execution_count": 254,
     "metadata": {},
     "output_type": "execute_result"
    }
   ],
   "source": [
    "output.head()"
   ]
  },
  {
   "cell_type": "code",
   "execution_count": 255,
   "metadata": {
    "collapsed": true
   },
   "outputs": [],
   "source": [
    "output.to_csv('submit1.csv', index=False)"
   ]
  },
  {
   "cell_type": "markdown",
   "metadata": {},
   "source": [
    "# xgboost Grid Search"
   ]
  },
  {
   "cell_type": "code",
   "execution_count": 256,
   "metadata": {
    "collapsed": true
   },
   "outputs": [],
   "source": [
    "from sklearn.model_selection import GridSearchCV"
   ]
  },
  {
   "cell_type": "code",
   "execution_count": 257,
   "metadata": {
    "collapsed": true
   },
   "outputs": [],
   "source": [
    "?xgbRegressor"
   ]
  },
  {
   "cell_type": "code",
   "execution_count": 264,
   "metadata": {
    "collapsed": true
   },
   "outputs": [],
   "source": [
    "params = {'xgbregressor__min_child_weight':[4,5], \n",
    "          'xgbregressor__gamma':[0,1.0,5.0],  \n",
    "          'xgbregressor__subsample':[0.65,0.75,0.85],\n",
    "          'xgbregressor__max_depth': [2,3,4],\n",
    "          'xgbregressor__n_estimators': [100,500]}"
   ]
  },
  {
   "cell_type": "code",
   "execution_count": 260,
   "metadata": {},
   "outputs": [],
   "source": [
    "#?xgbRegressor"
   ]
  },
  {
   "cell_type": "code",
   "execution_count": 265,
   "metadata": {
    "collapsed": true
   },
   "outputs": [],
   "source": [
    "pipe = make_pipeline(RobustScaler(), xgbRegressor)"
   ]
  },
  {
   "cell_type": "code",
   "execution_count": null,
   "metadata": {
    "collapsed": true
   },
   "outputs": [],
   "source": [
    "#Should use MSE neg"
   ]
  },
  {
   "cell_type": "code",
   "execution_count": 270,
   "metadata": {},
   "outputs": [],
   "source": [
    "grid = GridSearchCV(pipe, param_grid=params, cv=5, verbose=3) #certain verbose level"
   ]
  },
  {
   "cell_type": "code",
   "execution_count": 271,
   "metadata": {},
   "outputs": [
    {
     "name": "stdout",
     "output_type": "stream",
     "text": [
      "Fitting 5 folds for each of 108 candidates, totalling 540 fits\n",
      "[CV] xgbregressor__gamma=0, xgbregressor__max_depth=2, xgbregressor__n_estimators=100, xgbregressor__subsample=0.65, xgbregressor__min_child_weight=4 \n",
      "[CV]  xgbregressor__gamma=0, xgbregressor__max_depth=2, xgbregressor__n_estimators=100, xgbregressor__subsample=0.65, xgbregressor__min_child_weight=4, score=0.907624143408, total=   0.4s\n",
      "[CV] xgbregressor__gamma=0, xgbregressor__max_depth=2, xgbregressor__n_estimators=100, xgbregressor__subsample=0.65, xgbregressor__min_child_weight=4 \n"
     ]
    },
    {
     "name": "stderr",
     "output_type": "stream",
     "text": [
      "[Parallel(n_jobs=1)]: Done   1 out of   1 | elapsed:    0.4s remaining:    0.0s\n"
     ]
    },
    {
     "name": "stdout",
     "output_type": "stream",
     "text": [
      "[CV]  xgbregressor__gamma=0, xgbregressor__max_depth=2, xgbregressor__n_estimators=100, xgbregressor__subsample=0.65, xgbregressor__min_child_weight=4, score=0.907685537614, total=   0.2s\n",
      "[CV] xgbregressor__gamma=0, xgbregressor__max_depth=2, xgbregressor__n_estimators=100, xgbregressor__subsample=0.65, xgbregressor__min_child_weight=4 \n"
     ]
    },
    {
     "name": "stderr",
     "output_type": "stream",
     "text": [
      "[Parallel(n_jobs=1)]: Done   2 out of   2 | elapsed:    0.7s remaining:    0.0s\n"
     ]
    },
    {
     "name": "stdout",
     "output_type": "stream",
     "text": [
      "[CV]  xgbregressor__gamma=0, xgbregressor__max_depth=2, xgbregressor__n_estimators=100, xgbregressor__subsample=0.65, xgbregressor__min_child_weight=4, score=0.893782672788, total=   0.3s\n",
      "[CV] xgbregressor__gamma=0, xgbregressor__max_depth=2, xgbregressor__n_estimators=100, xgbregressor__subsample=0.65, xgbregressor__min_child_weight=4 \n",
      "[CV]  xgbregressor__gamma=0, xgbregressor__max_depth=2, xgbregressor__n_estimators=100, xgbregressor__subsample=0.65, xgbregressor__min_child_weight=4, score=0.898099575518, total=   0.2s\n",
      "[CV] xgbregressor__gamma=0, xgbregressor__max_depth=2, xgbregressor__n_estimators=100, xgbregressor__subsample=0.65, xgbregressor__min_child_weight=4 \n",
      "[CV]  xgbregressor__gamma=0, xgbregressor__max_depth=2, xgbregressor__n_estimators=100, xgbregressor__subsample=0.65, xgbregressor__min_child_weight=4, score=0.901628034016, total=   0.2s\n",
      "[CV] xgbregressor__gamma=0, xgbregressor__max_depth=2, xgbregressor__n_estimators=100, xgbregressor__subsample=0.75, xgbregressor__min_child_weight=4 \n",
      "[CV]  xgbregressor__gamma=0, xgbregressor__max_depth=2, xgbregressor__n_estimators=100, xgbregressor__subsample=0.75, xgbregressor__min_child_weight=4, score=0.907878138157, total=   0.3s\n",
      "[CV] xgbregressor__gamma=0, xgbregressor__max_depth=2, xgbregressor__n_estimators=100, xgbregressor__subsample=0.75, xgbregressor__min_child_weight=4 \n",
      "[CV]  xgbregressor__gamma=0, xgbregressor__max_depth=2, xgbregressor__n_estimators=100, xgbregressor__subsample=0.75, xgbregressor__min_child_weight=4, score=0.908541063471, total=   0.4s\n",
      "[CV] xgbregressor__gamma=0, xgbregressor__max_depth=2, xgbregressor__n_estimators=100, xgbregressor__subsample=0.75, xgbregressor__min_child_weight=4 \n",
      "[CV]  xgbregressor__gamma=0, xgbregressor__max_depth=2, xgbregressor__n_estimators=100, xgbregressor__subsample=0.75, xgbregressor__min_child_weight=4, score=0.89418775677, total=   0.3s\n",
      "[CV] xgbregressor__gamma=0, xgbregressor__max_depth=2, xgbregressor__n_estimators=100, xgbregressor__subsample=0.75, xgbregressor__min_child_weight=4 \n",
      "[CV]  xgbregressor__gamma=0, xgbregressor__max_depth=2, xgbregressor__n_estimators=100, xgbregressor__subsample=0.75, xgbregressor__min_child_weight=4, score=0.899064690779, total=   0.3s\n",
      "[CV] xgbregressor__gamma=0, xgbregressor__max_depth=2, xgbregressor__n_estimators=100, xgbregressor__subsample=0.75, xgbregressor__min_child_weight=4 \n",
      "[CV]  xgbregressor__gamma=0, xgbregressor__max_depth=2, xgbregressor__n_estimators=100, xgbregressor__subsample=0.75, xgbregressor__min_child_weight=4, score=0.892808649753, total=   0.2s\n",
      "[CV] xgbregressor__gamma=0, xgbregressor__max_depth=2, xgbregressor__n_estimators=100, xgbregressor__subsample=0.85, xgbregressor__min_child_weight=4 \n",
      "[CV]  xgbregressor__gamma=0, xgbregressor__max_depth=2, xgbregressor__n_estimators=100, xgbregressor__subsample=0.85, xgbregressor__min_child_weight=4, score=0.903247307627, total=   0.2s\n",
      "[CV] xgbregressor__gamma=0, xgbregressor__max_depth=2, xgbregressor__n_estimators=100, xgbregressor__subsample=0.85, xgbregressor__min_child_weight=4 \n",
      "[CV]  xgbregressor__gamma=0, xgbregressor__max_depth=2, xgbregressor__n_estimators=100, xgbregressor__subsample=0.85, xgbregressor__min_child_weight=4, score=0.912860366858, total=   0.2s\n",
      "[CV] xgbregressor__gamma=0, xgbregressor__max_depth=2, xgbregressor__n_estimators=100, xgbregressor__subsample=0.85, xgbregressor__min_child_weight=4 \n",
      "[CV]  xgbregressor__gamma=0, xgbregressor__max_depth=2, xgbregressor__n_estimators=100, xgbregressor__subsample=0.85, xgbregressor__min_child_weight=4, score=0.895895628358, total=   0.3s\n",
      "[CV] xgbregressor__gamma=0, xgbregressor__max_depth=2, xgbregressor__n_estimators=100, xgbregressor__subsample=0.85, xgbregressor__min_child_weight=4 \n",
      "[CV]  xgbregressor__gamma=0, xgbregressor__max_depth=2, xgbregressor__n_estimators=100, xgbregressor__subsample=0.85, xgbregressor__min_child_weight=4, score=0.896565406458, total=   0.2s\n",
      "[CV] xgbregressor__gamma=0, xgbregressor__max_depth=2, xgbregressor__n_estimators=100, xgbregressor__subsample=0.85, xgbregressor__min_child_weight=4 \n",
      "[CV]  xgbregressor__gamma=0, xgbregressor__max_depth=2, xgbregressor__n_estimators=100, xgbregressor__subsample=0.85, xgbregressor__min_child_weight=4, score=0.890332310126, total=   0.3s\n",
      "[CV] xgbregressor__gamma=0, xgbregressor__max_depth=2, xgbregressor__n_estimators=500, xgbregressor__subsample=0.65, xgbregressor__min_child_weight=4 \n",
      "[CV]  xgbregressor__gamma=0, xgbregressor__max_depth=2, xgbregressor__n_estimators=500, xgbregressor__subsample=0.65, xgbregressor__min_child_weight=4, score=0.919802397698, total=   1.3s\n",
      "[CV] xgbregressor__gamma=0, xgbregressor__max_depth=2, xgbregressor__n_estimators=500, xgbregressor__subsample=0.65, xgbregressor__min_child_weight=4 \n",
      "[CV]  xgbregressor__gamma=0, xgbregressor__max_depth=2, xgbregressor__n_estimators=500, xgbregressor__subsample=0.65, xgbregressor__min_child_weight=4, score=0.914503217551, total=   1.3s\n",
      "[CV] xgbregressor__gamma=0, xgbregressor__max_depth=2, xgbregressor__n_estimators=500, xgbregressor__subsample=0.65, xgbregressor__min_child_weight=4 \n",
      "[CV]  xgbregressor__gamma=0, xgbregressor__max_depth=2, xgbregressor__n_estimators=500, xgbregressor__subsample=0.65, xgbregressor__min_child_weight=4, score=0.902503192347, total=   1.4s\n",
      "[CV] xgbregressor__gamma=0, xgbregressor__max_depth=2, xgbregressor__n_estimators=500, xgbregressor__subsample=0.65, xgbregressor__min_child_weight=4 \n",
      "[CV]  xgbregressor__gamma=0, xgbregressor__max_depth=2, xgbregressor__n_estimators=500, xgbregressor__subsample=0.65, xgbregressor__min_child_weight=4, score=0.919846367018, total=   1.4s\n",
      "[CV] xgbregressor__gamma=0, xgbregressor__max_depth=2, xgbregressor__n_estimators=500, xgbregressor__subsample=0.65, xgbregressor__min_child_weight=4 \n",
      "[CV]  xgbregressor__gamma=0, xgbregressor__max_depth=2, xgbregressor__n_estimators=500, xgbregressor__subsample=0.65, xgbregressor__min_child_weight=4, score=0.910028254272, total=   1.5s\n",
      "[CV] xgbregressor__gamma=0, xgbregressor__max_depth=2, xgbregressor__n_estimators=500, xgbregressor__subsample=0.75, xgbregressor__min_child_weight=4 \n",
      "[CV]  xgbregressor__gamma=0, xgbregressor__max_depth=2, xgbregressor__n_estimators=500, xgbregressor__subsample=0.75, xgbregressor__min_child_weight=4, score=0.915614657814, total=   1.4s\n",
      "[CV] xgbregressor__gamma=0, xgbregressor__max_depth=2, xgbregressor__n_estimators=500, xgbregressor__subsample=0.75, xgbregressor__min_child_weight=4 \n",
      "[CV]  xgbregressor__gamma=0, xgbregressor__max_depth=2, xgbregressor__n_estimators=500, xgbregressor__subsample=0.75, xgbregressor__min_child_weight=4, score=0.914390788432, total=   1.3s\n",
      "[CV] xgbregressor__gamma=0, xgbregressor__max_depth=2, xgbregressor__n_estimators=500, xgbregressor__subsample=0.75, xgbregressor__min_child_weight=4 \n",
      "[CV]  xgbregressor__gamma=0, xgbregressor__max_depth=2, xgbregressor__n_estimators=500, xgbregressor__subsample=0.75, xgbregressor__min_child_weight=4, score=0.904986434714, total=   1.3s\n",
      "[CV] xgbregressor__gamma=0, xgbregressor__max_depth=2, xgbregressor__n_estimators=500, xgbregressor__subsample=0.75, xgbregressor__min_child_weight=4 \n",
      "[CV]  xgbregressor__gamma=0, xgbregressor__max_depth=2, xgbregressor__n_estimators=500, xgbregressor__subsample=0.75, xgbregressor__min_child_weight=4, score=0.919618522854, total=   1.4s\n",
      "[CV] xgbregressor__gamma=0, xgbregressor__max_depth=2, xgbregressor__n_estimators=500, xgbregressor__subsample=0.75, xgbregressor__min_child_weight=4 \n",
      "[CV]  xgbregressor__gamma=0, xgbregressor__max_depth=2, xgbregressor__n_estimators=500, xgbregressor__subsample=0.75, xgbregressor__min_child_weight=4, score=0.906680335154, total=   1.4s\n",
      "[CV] xgbregressor__gamma=0, xgbregressor__max_depth=2, xgbregressor__n_estimators=500, xgbregressor__subsample=0.85, xgbregressor__min_child_weight=4 \n",
      "[CV]  xgbregressor__gamma=0, xgbregressor__max_depth=2, xgbregressor__n_estimators=500, xgbregressor__subsample=0.85, xgbregressor__min_child_weight=4, score=0.918219918404, total=   1.3s\n",
      "[CV] xgbregressor__gamma=0, xgbregressor__max_depth=2, xgbregressor__n_estimators=500, xgbregressor__subsample=0.85, xgbregressor__min_child_weight=4 \n",
      "[CV]  xgbregressor__gamma=0, xgbregressor__max_depth=2, xgbregressor__n_estimators=500, xgbregressor__subsample=0.85, xgbregressor__min_child_weight=4, score=0.922973778837, total=   1.4s\n",
      "[CV] xgbregressor__gamma=0, xgbregressor__max_depth=2, xgbregressor__n_estimators=500, xgbregressor__subsample=0.85, xgbregressor__min_child_weight=4 \n"
     ]
    },
    {
     "name": "stdout",
     "output_type": "stream",
     "text": [
      "[CV]  xgbregressor__gamma=0, xgbregressor__max_depth=2, xgbregressor__n_estimators=500, xgbregressor__subsample=0.85, xgbregressor__min_child_weight=4, score=0.906302321833, total=   1.3s\n",
      "[CV] xgbregressor__gamma=0, xgbregressor__max_depth=2, xgbregressor__n_estimators=500, xgbregressor__subsample=0.85, xgbregressor__min_child_weight=4 \n",
      "[CV]  xgbregressor__gamma=0, xgbregressor__max_depth=2, xgbregressor__n_estimators=500, xgbregressor__subsample=0.85, xgbregressor__min_child_weight=4, score=0.917539862406, total=   1.2s\n",
      "[CV] xgbregressor__gamma=0, xgbregressor__max_depth=2, xgbregressor__n_estimators=500, xgbregressor__subsample=0.85, xgbregressor__min_child_weight=4 \n",
      "[CV]  xgbregressor__gamma=0, xgbregressor__max_depth=2, xgbregressor__n_estimators=500, xgbregressor__subsample=0.85, xgbregressor__min_child_weight=4, score=0.906042727523, total=   1.3s\n",
      "[CV] xgbregressor__gamma=0, xgbregressor__max_depth=2, xgbregressor__n_estimators=100, xgbregressor__subsample=0.65, xgbregressor__min_child_weight=5 \n",
      "[CV]  xgbregressor__gamma=0, xgbregressor__max_depth=2, xgbregressor__n_estimators=100, xgbregressor__subsample=0.65, xgbregressor__min_child_weight=5, score=0.904199984326, total=   0.3s\n",
      "[CV] xgbregressor__gamma=0, xgbregressor__max_depth=2, xgbregressor__n_estimators=100, xgbregressor__subsample=0.65, xgbregressor__min_child_weight=5 \n",
      "[CV]  xgbregressor__gamma=0, xgbregressor__max_depth=2, xgbregressor__n_estimators=100, xgbregressor__subsample=0.65, xgbregressor__min_child_weight=5, score=0.908415337055, total=   0.3s\n",
      "[CV] xgbregressor__gamma=0, xgbregressor__max_depth=2, xgbregressor__n_estimators=100, xgbregressor__subsample=0.65, xgbregressor__min_child_weight=5 \n",
      "[CV]  xgbregressor__gamma=0, xgbregressor__max_depth=2, xgbregressor__n_estimators=100, xgbregressor__subsample=0.65, xgbregressor__min_child_weight=5, score=0.897146521768, total=   0.3s\n",
      "[CV] xgbregressor__gamma=0, xgbregressor__max_depth=2, xgbregressor__n_estimators=100, xgbregressor__subsample=0.65, xgbregressor__min_child_weight=5 \n",
      "[CV]  xgbregressor__gamma=0, xgbregressor__max_depth=2, xgbregressor__n_estimators=100, xgbregressor__subsample=0.65, xgbregressor__min_child_weight=5, score=0.896487705216, total=   0.3s\n",
      "[CV] xgbregressor__gamma=0, xgbregressor__max_depth=2, xgbregressor__n_estimators=100, xgbregressor__subsample=0.65, xgbregressor__min_child_weight=5 \n",
      "[CV]  xgbregressor__gamma=0, xgbregressor__max_depth=2, xgbregressor__n_estimators=100, xgbregressor__subsample=0.65, xgbregressor__min_child_weight=5, score=0.900640252025, total=   0.4s\n",
      "[CV] xgbregressor__gamma=0, xgbregressor__max_depth=2, xgbregressor__n_estimators=100, xgbregressor__subsample=0.75, xgbregressor__min_child_weight=5 \n",
      "[CV]  xgbregressor__gamma=0, xgbregressor__max_depth=2, xgbregressor__n_estimators=100, xgbregressor__subsample=0.75, xgbregressor__min_child_weight=5, score=0.904874290467, total=   0.3s\n",
      "[CV] xgbregressor__gamma=0, xgbregressor__max_depth=2, xgbregressor__n_estimators=100, xgbregressor__subsample=0.75, xgbregressor__min_child_weight=5 \n",
      "[CV]  xgbregressor__gamma=0, xgbregressor__max_depth=2, xgbregressor__n_estimators=100, xgbregressor__subsample=0.75, xgbregressor__min_child_weight=5, score=0.909496299122, total=   0.2s\n",
      "[CV] xgbregressor__gamma=0, xgbregressor__max_depth=2, xgbregressor__n_estimators=100, xgbregressor__subsample=0.75, xgbregressor__min_child_weight=5 \n",
      "[CV]  xgbregressor__gamma=0, xgbregressor__max_depth=2, xgbregressor__n_estimators=100, xgbregressor__subsample=0.75, xgbregressor__min_child_weight=5, score=0.893622498948, total=   0.3s\n",
      "[CV] xgbregressor__gamma=0, xgbregressor__max_depth=2, xgbregressor__n_estimators=100, xgbregressor__subsample=0.75, xgbregressor__min_child_weight=5 \n",
      "[CV]  xgbregressor__gamma=0, xgbregressor__max_depth=2, xgbregressor__n_estimators=100, xgbregressor__subsample=0.75, xgbregressor__min_child_weight=5, score=0.900313950255, total=   0.3s\n",
      "[CV] xgbregressor__gamma=0, xgbregressor__max_depth=2, xgbregressor__n_estimators=100, xgbregressor__subsample=0.75, xgbregressor__min_child_weight=5 \n",
      "[CV]  xgbregressor__gamma=0, xgbregressor__max_depth=2, xgbregressor__n_estimators=100, xgbregressor__subsample=0.75, xgbregressor__min_child_weight=5, score=0.894087706535, total=   0.3s\n",
      "[CV] xgbregressor__gamma=0, xgbregressor__max_depth=2, xgbregressor__n_estimators=100, xgbregressor__subsample=0.85, xgbregressor__min_child_weight=5 \n",
      "[CV]  xgbregressor__gamma=0, xgbregressor__max_depth=2, xgbregressor__n_estimators=100, xgbregressor__subsample=0.85, xgbregressor__min_child_weight=5, score=0.901151526212, total=   0.3s\n",
      "[CV] xgbregressor__gamma=0, xgbregressor__max_depth=2, xgbregressor__n_estimators=100, xgbregressor__subsample=0.85, xgbregressor__min_child_weight=5 \n",
      "[CV]  xgbregressor__gamma=0, xgbregressor__max_depth=2, xgbregressor__n_estimators=100, xgbregressor__subsample=0.85, xgbregressor__min_child_weight=5, score=0.910208124887, total=   0.3s\n",
      "[CV] xgbregressor__gamma=0, xgbregressor__max_depth=2, xgbregressor__n_estimators=100, xgbregressor__subsample=0.85, xgbregressor__min_child_weight=5 \n",
      "[CV]  xgbregressor__gamma=0, xgbregressor__max_depth=2, xgbregressor__n_estimators=100, xgbregressor__subsample=0.85, xgbregressor__min_child_weight=5, score=0.894701617683, total=   0.3s\n",
      "[CV] xgbregressor__gamma=0, xgbregressor__max_depth=2, xgbregressor__n_estimators=100, xgbregressor__subsample=0.85, xgbregressor__min_child_weight=5 \n",
      "[CV]  xgbregressor__gamma=0, xgbregressor__max_depth=2, xgbregressor__n_estimators=100, xgbregressor__subsample=0.85, xgbregressor__min_child_weight=5, score=0.896111695286, total=   0.3s\n",
      "[CV] xgbregressor__gamma=0, xgbregressor__max_depth=2, xgbregressor__n_estimators=100, xgbregressor__subsample=0.85, xgbregressor__min_child_weight=5 \n",
      "[CV]  xgbregressor__gamma=0, xgbregressor__max_depth=2, xgbregressor__n_estimators=100, xgbregressor__subsample=0.85, xgbregressor__min_child_weight=5, score=0.886652108047, total=   0.3s\n",
      "[CV] xgbregressor__gamma=0, xgbregressor__max_depth=2, xgbregressor__n_estimators=500, xgbregressor__subsample=0.65, xgbregressor__min_child_weight=5 \n",
      "[CV]  xgbregressor__gamma=0, xgbregressor__max_depth=2, xgbregressor__n_estimators=500, xgbregressor__subsample=0.65, xgbregressor__min_child_weight=5, score=0.912858623419, total=   1.2s\n",
      "[CV] xgbregressor__gamma=0, xgbregressor__max_depth=2, xgbregressor__n_estimators=500, xgbregressor__subsample=0.65, xgbregressor__min_child_weight=5 \n",
      "[CV]  xgbregressor__gamma=0, xgbregressor__max_depth=2, xgbregressor__n_estimators=500, xgbregressor__subsample=0.65, xgbregressor__min_child_weight=5, score=0.915761719368, total=   1.5s\n",
      "[CV] xgbregressor__gamma=0, xgbregressor__max_depth=2, xgbregressor__n_estimators=500, xgbregressor__subsample=0.65, xgbregressor__min_child_weight=5 \n",
      "[CV]  xgbregressor__gamma=0, xgbregressor__max_depth=2, xgbregressor__n_estimators=500, xgbregressor__subsample=0.65, xgbregressor__min_child_weight=5, score=0.906412281241, total=   1.5s\n",
      "[CV] xgbregressor__gamma=0, xgbregressor__max_depth=2, xgbregressor__n_estimators=500, xgbregressor__subsample=0.65, xgbregressor__min_child_weight=5 \n",
      "[CV]  xgbregressor__gamma=0, xgbregressor__max_depth=2, xgbregressor__n_estimators=500, xgbregressor__subsample=0.65, xgbregressor__min_child_weight=5, score=0.917739064713, total=   1.3s\n",
      "[CV] xgbregressor__gamma=0, xgbregressor__max_depth=2, xgbregressor__n_estimators=500, xgbregressor__subsample=0.65, xgbregressor__min_child_weight=5 \n",
      "[CV]  xgbregressor__gamma=0, xgbregressor__max_depth=2, xgbregressor__n_estimators=500, xgbregressor__subsample=0.65, xgbregressor__min_child_weight=5, score=0.909508484949, total=   1.3s\n",
      "[CV] xgbregressor__gamma=0, xgbregressor__max_depth=2, xgbregressor__n_estimators=500, xgbregressor__subsample=0.75, xgbregressor__min_child_weight=5 \n",
      "[CV]  xgbregressor__gamma=0, xgbregressor__max_depth=2, xgbregressor__n_estimators=500, xgbregressor__subsample=0.75, xgbregressor__min_child_weight=5, score=0.914171136256, total=   1.5s\n",
      "[CV] xgbregressor__gamma=0, xgbregressor__max_depth=2, xgbregressor__n_estimators=500, xgbregressor__subsample=0.75, xgbregressor__min_child_weight=5 \n",
      "[CV]  xgbregressor__gamma=0, xgbregressor__max_depth=2, xgbregressor__n_estimators=500, xgbregressor__subsample=0.75, xgbregressor__min_child_weight=5, score=0.914689236489, total=   1.4s\n",
      "[CV] xgbregressor__gamma=0, xgbregressor__max_depth=2, xgbregressor__n_estimators=500, xgbregressor__subsample=0.75, xgbregressor__min_child_weight=5 \n"
     ]
    },
    {
     "name": "stdout",
     "output_type": "stream",
     "text": [
      "[CV]  xgbregressor__gamma=0, xgbregressor__max_depth=2, xgbregressor__n_estimators=500, xgbregressor__subsample=0.75, xgbregressor__min_child_weight=5, score=0.905012880317, total=   1.4s\n",
      "[CV] xgbregressor__gamma=0, xgbregressor__max_depth=2, xgbregressor__n_estimators=500, xgbregressor__subsample=0.75, xgbregressor__min_child_weight=5 \n",
      "[CV]  xgbregressor__gamma=0, xgbregressor__max_depth=2, xgbregressor__n_estimators=500, xgbregressor__subsample=0.75, xgbregressor__min_child_weight=5, score=0.917069188796, total=   1.3s\n",
      "[CV] xgbregressor__gamma=0, xgbregressor__max_depth=2, xgbregressor__n_estimators=500, xgbregressor__subsample=0.75, xgbregressor__min_child_weight=5 \n",
      "[CV]  xgbregressor__gamma=0, xgbregressor__max_depth=2, xgbregressor__n_estimators=500, xgbregressor__subsample=0.75, xgbregressor__min_child_weight=5, score=0.908939815023, total=   1.2s\n",
      "[CV] xgbregressor__gamma=0, xgbregressor__max_depth=2, xgbregressor__n_estimators=500, xgbregressor__subsample=0.85, xgbregressor__min_child_weight=5 \n",
      "[CV]  xgbregressor__gamma=0, xgbregressor__max_depth=2, xgbregressor__n_estimators=500, xgbregressor__subsample=0.85, xgbregressor__min_child_weight=5, score=0.915684915024, total=   1.4s\n",
      "[CV] xgbregressor__gamma=0, xgbregressor__max_depth=2, xgbregressor__n_estimators=500, xgbregressor__subsample=0.85, xgbregressor__min_child_weight=5 \n",
      "[CV]  xgbregressor__gamma=0, xgbregressor__max_depth=2, xgbregressor__n_estimators=500, xgbregressor__subsample=0.85, xgbregressor__min_child_weight=5, score=0.919402370104, total=   1.2s\n",
      "[CV] xgbregressor__gamma=0, xgbregressor__max_depth=2, xgbregressor__n_estimators=500, xgbregressor__subsample=0.85, xgbregressor__min_child_weight=5 \n",
      "[CV]  xgbregressor__gamma=0, xgbregressor__max_depth=2, xgbregressor__n_estimators=500, xgbregressor__subsample=0.85, xgbregressor__min_child_weight=5, score=0.905447073997, total=   1.2s\n",
      "[CV] xgbregressor__gamma=0, xgbregressor__max_depth=2, xgbregressor__n_estimators=500, xgbregressor__subsample=0.85, xgbregressor__min_child_weight=5 \n",
      "[CV]  xgbregressor__gamma=0, xgbregressor__max_depth=2, xgbregressor__n_estimators=500, xgbregressor__subsample=0.85, xgbregressor__min_child_weight=5, score=0.918085254824, total=   1.2s\n",
      "[CV] xgbregressor__gamma=0, xgbregressor__max_depth=2, xgbregressor__n_estimators=500, xgbregressor__subsample=0.85, xgbregressor__min_child_weight=5 \n",
      "[CV]  xgbregressor__gamma=0, xgbregressor__max_depth=2, xgbregressor__n_estimators=500, xgbregressor__subsample=0.85, xgbregressor__min_child_weight=5, score=0.904629072116, total=   1.3s\n",
      "[CV] xgbregressor__gamma=0, xgbregressor__max_depth=3, xgbregressor__n_estimators=100, xgbregressor__subsample=0.65, xgbregressor__min_child_weight=4 \n",
      "[CV]  xgbregressor__gamma=0, xgbregressor__max_depth=3, xgbregressor__n_estimators=100, xgbregressor__subsample=0.65, xgbregressor__min_child_weight=4, score=0.911949743273, total=   0.4s\n",
      "[CV] xgbregressor__gamma=0, xgbregressor__max_depth=3, xgbregressor__n_estimators=100, xgbregressor__subsample=0.65, xgbregressor__min_child_weight=4 \n",
      "[CV]  xgbregressor__gamma=0, xgbregressor__max_depth=3, xgbregressor__n_estimators=100, xgbregressor__subsample=0.65, xgbregressor__min_child_weight=4, score=0.913458323748, total=   0.4s\n",
      "[CV] xgbregressor__gamma=0, xgbregressor__max_depth=3, xgbregressor__n_estimators=100, xgbregressor__subsample=0.65, xgbregressor__min_child_weight=4 \n",
      "[CV]  xgbregressor__gamma=0, xgbregressor__max_depth=3, xgbregressor__n_estimators=100, xgbregressor__subsample=0.65, xgbregressor__min_child_weight=4, score=0.897617201282, total=   0.4s\n",
      "[CV] xgbregressor__gamma=0, xgbregressor__max_depth=3, xgbregressor__n_estimators=100, xgbregressor__subsample=0.65, xgbregressor__min_child_weight=4 \n",
      "[CV]  xgbregressor__gamma=0, xgbregressor__max_depth=3, xgbregressor__n_estimators=100, xgbregressor__subsample=0.65, xgbregressor__min_child_weight=4, score=0.905783961504, total=   0.3s\n",
      "[CV] xgbregressor__gamma=0, xgbregressor__max_depth=3, xgbregressor__n_estimators=100, xgbregressor__subsample=0.65, xgbregressor__min_child_weight=4 \n",
      "[CV]  xgbregressor__gamma=0, xgbregressor__max_depth=3, xgbregressor__n_estimators=100, xgbregressor__subsample=0.65, xgbregressor__min_child_weight=4, score=0.907119773047, total=   0.4s\n",
      "[CV] xgbregressor__gamma=0, xgbregressor__max_depth=3, xgbregressor__n_estimators=100, xgbregressor__subsample=0.75, xgbregressor__min_child_weight=4 \n",
      "[CV]  xgbregressor__gamma=0, xgbregressor__max_depth=3, xgbregressor__n_estimators=100, xgbregressor__subsample=0.75, xgbregressor__min_child_weight=4, score=0.913037943363, total=   0.4s\n",
      "[CV] xgbregressor__gamma=0, xgbregressor__max_depth=3, xgbregressor__n_estimators=100, xgbregressor__subsample=0.75, xgbregressor__min_child_weight=4 \n",
      "[CV]  xgbregressor__gamma=0, xgbregressor__max_depth=3, xgbregressor__n_estimators=100, xgbregressor__subsample=0.75, xgbregressor__min_child_weight=4, score=0.915601249208, total=   0.4s\n",
      "[CV] xgbregressor__gamma=0, xgbregressor__max_depth=3, xgbregressor__n_estimators=100, xgbregressor__subsample=0.75, xgbregressor__min_child_weight=4 \n",
      "[CV]  xgbregressor__gamma=0, xgbregressor__max_depth=3, xgbregressor__n_estimators=100, xgbregressor__subsample=0.75, xgbregressor__min_child_weight=4, score=0.898793258193, total=   0.4s\n",
      "[CV] xgbregressor__gamma=0, xgbregressor__max_depth=3, xgbregressor__n_estimators=100, xgbregressor__subsample=0.75, xgbregressor__min_child_weight=4 \n",
      "[CV]  xgbregressor__gamma=0, xgbregressor__max_depth=3, xgbregressor__n_estimators=100, xgbregressor__subsample=0.75, xgbregressor__min_child_weight=4, score=0.902631604762, total=   0.4s\n",
      "[CV] xgbregressor__gamma=0, xgbregressor__max_depth=3, xgbregressor__n_estimators=100, xgbregressor__subsample=0.75, xgbregressor__min_child_weight=4 \n",
      "[CV]  xgbregressor__gamma=0, xgbregressor__max_depth=3, xgbregressor__n_estimators=100, xgbregressor__subsample=0.75, xgbregressor__min_child_weight=4, score=0.905879341623, total=   0.3s\n",
      "[CV] xgbregressor__gamma=0, xgbregressor__max_depth=3, xgbregressor__n_estimators=100, xgbregressor__subsample=0.85, xgbregressor__min_child_weight=4 \n",
      "[CV]  xgbregressor__gamma=0, xgbregressor__max_depth=3, xgbregressor__n_estimators=100, xgbregressor__subsample=0.85, xgbregressor__min_child_weight=4, score=0.909578489084, total=   0.4s\n",
      "[CV] xgbregressor__gamma=0, xgbregressor__max_depth=3, xgbregressor__n_estimators=100, xgbregressor__subsample=0.85, xgbregressor__min_child_weight=4 \n",
      "[CV]  xgbregressor__gamma=0, xgbregressor__max_depth=3, xgbregressor__n_estimators=100, xgbregressor__subsample=0.85, xgbregressor__min_child_weight=4, score=0.91878311549, total=   0.4s\n",
      "[CV] xgbregressor__gamma=0, xgbregressor__max_depth=3, xgbregressor__n_estimators=100, xgbregressor__subsample=0.85, xgbregressor__min_child_weight=4 \n",
      "[CV]  xgbregressor__gamma=0, xgbregressor__max_depth=3, xgbregressor__n_estimators=100, xgbregressor__subsample=0.85, xgbregressor__min_child_weight=4, score=0.902524428838, total=   0.3s\n",
      "[CV] xgbregressor__gamma=0, xgbregressor__max_depth=3, xgbregressor__n_estimators=100, xgbregressor__subsample=0.85, xgbregressor__min_child_weight=4 \n",
      "[CV]  xgbregressor__gamma=0, xgbregressor__max_depth=3, xgbregressor__n_estimators=100, xgbregressor__subsample=0.85, xgbregressor__min_child_weight=4, score=0.902246229951, total=   0.4s\n",
      "[CV] xgbregressor__gamma=0, xgbregressor__max_depth=3, xgbregressor__n_estimators=100, xgbregressor__subsample=0.85, xgbregressor__min_child_weight=4 \n",
      "[CV]  xgbregressor__gamma=0, xgbregressor__max_depth=3, xgbregressor__n_estimators=100, xgbregressor__subsample=0.85, xgbregressor__min_child_weight=4, score=0.898675602953, total=   0.4s\n",
      "[CV] xgbregressor__gamma=0, xgbregressor__max_depth=3, xgbregressor__n_estimators=500, xgbregressor__subsample=0.65, xgbregressor__min_child_weight=4 \n",
      "[CV]  xgbregressor__gamma=0, xgbregressor__max_depth=3, xgbregressor__n_estimators=500, xgbregressor__subsample=0.65, xgbregressor__min_child_weight=4, score=0.914622223149, total=   2.0s\n",
      "[CV] xgbregressor__gamma=0, xgbregressor__max_depth=3, xgbregressor__n_estimators=500, xgbregressor__subsample=0.65, xgbregressor__min_child_weight=4 \n",
      "[CV]  xgbregressor__gamma=0, xgbregressor__max_depth=3, xgbregressor__n_estimators=500, xgbregressor__subsample=0.65, xgbregressor__min_child_weight=4, score=0.916220285304, total=   1.8s\n",
      "[CV] xgbregressor__gamma=0, xgbregressor__max_depth=3, xgbregressor__n_estimators=500, xgbregressor__subsample=0.65, xgbregressor__min_child_weight=4 \n"
     ]
    },
    {
     "name": "stdout",
     "output_type": "stream",
     "text": [
      "[CV]  xgbregressor__gamma=0, xgbregressor__max_depth=3, xgbregressor__n_estimators=500, xgbregressor__subsample=0.65, xgbregressor__min_child_weight=4, score=0.903564542831, total=   1.7s\n",
      "[CV] xgbregressor__gamma=0, xgbregressor__max_depth=3, xgbregressor__n_estimators=500, xgbregressor__subsample=0.65, xgbregressor__min_child_weight=4 \n",
      "[CV]  xgbregressor__gamma=0, xgbregressor__max_depth=3, xgbregressor__n_estimators=500, xgbregressor__subsample=0.65, xgbregressor__min_child_weight=4, score=0.920830783742, total=   1.8s\n",
      "[CV] xgbregressor__gamma=0, xgbregressor__max_depth=3, xgbregressor__n_estimators=500, xgbregressor__subsample=0.65, xgbregressor__min_child_weight=4 \n",
      "[CV]  xgbregressor__gamma=0, xgbregressor__max_depth=3, xgbregressor__n_estimators=500, xgbregressor__subsample=0.65, xgbregressor__min_child_weight=4, score=0.908007020416, total=   1.8s\n",
      "[CV] xgbregressor__gamma=0, xgbregressor__max_depth=3, xgbregressor__n_estimators=500, xgbregressor__subsample=0.75, xgbregressor__min_child_weight=4 \n",
      "[CV]  xgbregressor__gamma=0, xgbregressor__max_depth=3, xgbregressor__n_estimators=500, xgbregressor__subsample=0.75, xgbregressor__min_child_weight=4, score=0.915799706203, total=   1.8s\n",
      "[CV] xgbregressor__gamma=0, xgbregressor__max_depth=3, xgbregressor__n_estimators=500, xgbregressor__subsample=0.75, xgbregressor__min_child_weight=4 \n",
      "[CV]  xgbregressor__gamma=0, xgbregressor__max_depth=3, xgbregressor__n_estimators=500, xgbregressor__subsample=0.75, xgbregressor__min_child_weight=4, score=0.916530498136, total=   1.8s\n",
      "[CV] xgbregressor__gamma=0, xgbregressor__max_depth=3, xgbregressor__n_estimators=500, xgbregressor__subsample=0.75, xgbregressor__min_child_weight=4 \n",
      "[CV]  xgbregressor__gamma=0, xgbregressor__max_depth=3, xgbregressor__n_estimators=500, xgbregressor__subsample=0.75, xgbregressor__min_child_weight=4, score=0.900989349003, total=   1.7s\n",
      "[CV] xgbregressor__gamma=0, xgbregressor__max_depth=3, xgbregressor__n_estimators=500, xgbregressor__subsample=0.75, xgbregressor__min_child_weight=4 \n",
      "[CV]  xgbregressor__gamma=0, xgbregressor__max_depth=3, xgbregressor__n_estimators=500, xgbregressor__subsample=0.75, xgbregressor__min_child_weight=4, score=0.916177184324, total=   1.8s\n",
      "[CV] xgbregressor__gamma=0, xgbregressor__max_depth=3, xgbregressor__n_estimators=500, xgbregressor__subsample=0.75, xgbregressor__min_child_weight=4 \n",
      "[CV]  xgbregressor__gamma=0, xgbregressor__max_depth=3, xgbregressor__n_estimators=500, xgbregressor__subsample=0.75, xgbregressor__min_child_weight=4, score=0.912450260996, total=   1.8s\n",
      "[CV] xgbregressor__gamma=0, xgbregressor__max_depth=3, xgbregressor__n_estimators=500, xgbregressor__subsample=0.85, xgbregressor__min_child_weight=4 \n",
      "[CV]  xgbregressor__gamma=0, xgbregressor__max_depth=3, xgbregressor__n_estimators=500, xgbregressor__subsample=0.85, xgbregressor__min_child_weight=4, score=0.915758499157, total=   1.7s\n",
      "[CV] xgbregressor__gamma=0, xgbregressor__max_depth=3, xgbregressor__n_estimators=500, xgbregressor__subsample=0.85, xgbregressor__min_child_weight=4 \n",
      "[CV]  xgbregressor__gamma=0, xgbregressor__max_depth=3, xgbregressor__n_estimators=500, xgbregressor__subsample=0.85, xgbregressor__min_child_weight=4, score=0.921509295972, total=   1.6s\n",
      "[CV] xgbregressor__gamma=0, xgbregressor__max_depth=3, xgbregressor__n_estimators=500, xgbregressor__subsample=0.85, xgbregressor__min_child_weight=4 \n",
      "[CV]  xgbregressor__gamma=0, xgbregressor__max_depth=3, xgbregressor__n_estimators=500, xgbregressor__subsample=0.85, xgbregressor__min_child_weight=4, score=0.903915317543, total=   1.5s\n",
      "[CV] xgbregressor__gamma=0, xgbregressor__max_depth=3, xgbregressor__n_estimators=500, xgbregressor__subsample=0.85, xgbregressor__min_child_weight=4 \n",
      "[CV]  xgbregressor__gamma=0, xgbregressor__max_depth=3, xgbregressor__n_estimators=500, xgbregressor__subsample=0.85, xgbregressor__min_child_weight=4, score=0.917939035393, total=   1.6s\n",
      "[CV] xgbregressor__gamma=0, xgbregressor__max_depth=3, xgbregressor__n_estimators=500, xgbregressor__subsample=0.85, xgbregressor__min_child_weight=4 \n",
      "[CV]  xgbregressor__gamma=0, xgbregressor__max_depth=3, xgbregressor__n_estimators=500, xgbregressor__subsample=0.85, xgbregressor__min_child_weight=4, score=0.907344806947, total=   1.6s\n",
      "[CV] xgbregressor__gamma=0, xgbregressor__max_depth=3, xgbregressor__n_estimators=100, xgbregressor__subsample=0.65, xgbregressor__min_child_weight=5 \n",
      "[CV]  xgbregressor__gamma=0, xgbregressor__max_depth=3, xgbregressor__n_estimators=100, xgbregressor__subsample=0.65, xgbregressor__min_child_weight=5, score=0.909077716803, total=   0.3s\n",
      "[CV] xgbregressor__gamma=0, xgbregressor__max_depth=3, xgbregressor__n_estimators=100, xgbregressor__subsample=0.65, xgbregressor__min_child_weight=5 \n",
      "[CV]  xgbregressor__gamma=0, xgbregressor__max_depth=3, xgbregressor__n_estimators=100, xgbregressor__subsample=0.65, xgbregressor__min_child_weight=5, score=0.913463350286, total=   0.4s\n",
      "[CV] xgbregressor__gamma=0, xgbregressor__max_depth=3, xgbregressor__n_estimators=100, xgbregressor__subsample=0.65, xgbregressor__min_child_weight=5 \n",
      "[CV]  xgbregressor__gamma=0, xgbregressor__max_depth=3, xgbregressor__n_estimators=100, xgbregressor__subsample=0.65, xgbregressor__min_child_weight=5, score=0.900509623386, total=   0.3s\n",
      "[CV] xgbregressor__gamma=0, xgbregressor__max_depth=3, xgbregressor__n_estimators=100, xgbregressor__subsample=0.65, xgbregressor__min_child_weight=5 \n",
      "[CV]  xgbregressor__gamma=0, xgbregressor__max_depth=3, xgbregressor__n_estimators=100, xgbregressor__subsample=0.65, xgbregressor__min_child_weight=5, score=0.902840124349, total=   0.5s\n",
      "[CV] xgbregressor__gamma=0, xgbregressor__max_depth=3, xgbregressor__n_estimators=100, xgbregressor__subsample=0.65, xgbregressor__min_child_weight=5 \n",
      "[CV]  xgbregressor__gamma=0, xgbregressor__max_depth=3, xgbregressor__n_estimators=100, xgbregressor__subsample=0.65, xgbregressor__min_child_weight=5, score=0.90469109284, total=   0.3s\n",
      "[CV] xgbregressor__gamma=0, xgbregressor__max_depth=3, xgbregressor__n_estimators=100, xgbregressor__subsample=0.75, xgbregressor__min_child_weight=5 \n",
      "[CV]  xgbregressor__gamma=0, xgbregressor__max_depth=3, xgbregressor__n_estimators=100, xgbregressor__subsample=0.75, xgbregressor__min_child_weight=5, score=0.906108788411, total=   0.3s\n",
      "[CV] xgbregressor__gamma=0, xgbregressor__max_depth=3, xgbregressor__n_estimators=100, xgbregressor__subsample=0.75, xgbregressor__min_child_weight=5 \n",
      "[CV]  xgbregressor__gamma=0, xgbregressor__max_depth=3, xgbregressor__n_estimators=100, xgbregressor__subsample=0.75, xgbregressor__min_child_weight=5, score=0.916367353999, total=   0.4s\n",
      "[CV] xgbregressor__gamma=0, xgbregressor__max_depth=3, xgbregressor__n_estimators=100, xgbregressor__subsample=0.75, xgbregressor__min_child_weight=5 \n",
      "[CV]  xgbregressor__gamma=0, xgbregressor__max_depth=3, xgbregressor__n_estimators=100, xgbregressor__subsample=0.75, xgbregressor__min_child_weight=5, score=0.90177767083, total=   0.4s\n",
      "[CV] xgbregressor__gamma=0, xgbregressor__max_depth=3, xgbregressor__n_estimators=100, xgbregressor__subsample=0.75, xgbregressor__min_child_weight=5 \n",
      "[CV]  xgbregressor__gamma=0, xgbregressor__max_depth=3, xgbregressor__n_estimators=100, xgbregressor__subsample=0.75, xgbregressor__min_child_weight=5, score=0.902949928068, total=   0.4s\n",
      "[CV] xgbregressor__gamma=0, xgbregressor__max_depth=3, xgbregressor__n_estimators=100, xgbregressor__subsample=0.75, xgbregressor__min_child_weight=5 \n",
      "[CV]  xgbregressor__gamma=0, xgbregressor__max_depth=3, xgbregressor__n_estimators=100, xgbregressor__subsample=0.75, xgbregressor__min_child_weight=5, score=0.904260959014, total=   0.3s\n",
      "[CV] xgbregressor__gamma=0, xgbregressor__max_depth=3, xgbregressor__n_estimators=100, xgbregressor__subsample=0.85, xgbregressor__min_child_weight=5 \n",
      "[CV]  xgbregressor__gamma=0, xgbregressor__max_depth=3, xgbregressor__n_estimators=100, xgbregressor__subsample=0.85, xgbregressor__min_child_weight=5, score=0.911813961088, total=   0.3s\n",
      "[CV] xgbregressor__gamma=0, xgbregressor__max_depth=3, xgbregressor__n_estimators=100, xgbregressor__subsample=0.85, xgbregressor__min_child_weight=5 \n",
      "[CV]  xgbregressor__gamma=0, xgbregressor__max_depth=3, xgbregressor__n_estimators=100, xgbregressor__subsample=0.85, xgbregressor__min_child_weight=5, score=0.916779827131, total=   0.3s\n",
      "[CV] xgbregressor__gamma=0, xgbregressor__max_depth=3, xgbregressor__n_estimators=100, xgbregressor__subsample=0.85, xgbregressor__min_child_weight=5 \n"
     ]
    },
    {
     "name": "stdout",
     "output_type": "stream",
     "text": [
      "[CV]  xgbregressor__gamma=0, xgbregressor__max_depth=3, xgbregressor__n_estimators=100, xgbregressor__subsample=0.85, xgbregressor__min_child_weight=5, score=0.903707404831, total=   0.4s\n",
      "[CV] xgbregressor__gamma=0, xgbregressor__max_depth=3, xgbregressor__n_estimators=100, xgbregressor__subsample=0.85, xgbregressor__min_child_weight=5 \n",
      "[CV]  xgbregressor__gamma=0, xgbregressor__max_depth=3, xgbregressor__n_estimators=100, xgbregressor__subsample=0.85, xgbregressor__min_child_weight=5, score=0.902537281066, total=   0.3s\n",
      "[CV] xgbregressor__gamma=0, xgbregressor__max_depth=3, xgbregressor__n_estimators=100, xgbregressor__subsample=0.85, xgbregressor__min_child_weight=5 \n",
      "[CV]  xgbregressor__gamma=0, xgbregressor__max_depth=3, xgbregressor__n_estimators=100, xgbregressor__subsample=0.85, xgbregressor__min_child_weight=5, score=0.902040428359, total=   0.3s\n",
      "[CV] xgbregressor__gamma=0, xgbregressor__max_depth=3, xgbregressor__n_estimators=500, xgbregressor__subsample=0.65, xgbregressor__min_child_weight=5 \n",
      "[CV]  xgbregressor__gamma=0, xgbregressor__max_depth=3, xgbregressor__n_estimators=500, xgbregressor__subsample=0.65, xgbregressor__min_child_weight=5, score=0.913370152659, total=   1.7s\n",
      "[CV] xgbregressor__gamma=0, xgbregressor__max_depth=3, xgbregressor__n_estimators=500, xgbregressor__subsample=0.65, xgbregressor__min_child_weight=5 \n",
      "[CV]  xgbregressor__gamma=0, xgbregressor__max_depth=3, xgbregressor__n_estimators=500, xgbregressor__subsample=0.65, xgbregressor__min_child_weight=5, score=0.914938060331, total=   1.6s\n",
      "[CV] xgbregressor__gamma=0, xgbregressor__max_depth=3, xgbregressor__n_estimators=500, xgbregressor__subsample=0.65, xgbregressor__min_child_weight=5 \n",
      "[CV]  xgbregressor__gamma=0, xgbregressor__max_depth=3, xgbregressor__n_estimators=500, xgbregressor__subsample=0.65, xgbregressor__min_child_weight=5, score=0.902689937272, total=   1.8s\n",
      "[CV] xgbregressor__gamma=0, xgbregressor__max_depth=3, xgbregressor__n_estimators=500, xgbregressor__subsample=0.65, xgbregressor__min_child_weight=5 \n",
      "[CV]  xgbregressor__gamma=0, xgbregressor__max_depth=3, xgbregressor__n_estimators=500, xgbregressor__subsample=0.65, xgbregressor__min_child_weight=5, score=0.919272474854, total=   1.8s\n",
      "[CV] xgbregressor__gamma=0, xgbregressor__max_depth=3, xgbregressor__n_estimators=500, xgbregressor__subsample=0.65, xgbregressor__min_child_weight=5 \n",
      "[CV]  xgbregressor__gamma=0, xgbregressor__max_depth=3, xgbregressor__n_estimators=500, xgbregressor__subsample=0.65, xgbregressor__min_child_weight=5, score=0.909751598266, total=   1.9s\n",
      "[CV] xgbregressor__gamma=0, xgbregressor__max_depth=3, xgbregressor__n_estimators=500, xgbregressor__subsample=0.75, xgbregressor__min_child_weight=5 \n",
      "[CV]  xgbregressor__gamma=0, xgbregressor__max_depth=3, xgbregressor__n_estimators=500, xgbregressor__subsample=0.75, xgbregressor__min_child_weight=5, score=0.910131226617, total=   1.6s\n",
      "[CV] xgbregressor__gamma=0, xgbregressor__max_depth=3, xgbregressor__n_estimators=500, xgbregressor__subsample=0.75, xgbregressor__min_child_weight=5 \n",
      "[CV]  xgbregressor__gamma=0, xgbregressor__max_depth=3, xgbregressor__n_estimators=500, xgbregressor__subsample=0.75, xgbregressor__min_child_weight=5, score=0.916411104542, total=   1.8s\n",
      "[CV] xgbregressor__gamma=0, xgbregressor__max_depth=3, xgbregressor__n_estimators=500, xgbregressor__subsample=0.75, xgbregressor__min_child_weight=5 \n",
      "[CV]  xgbregressor__gamma=0, xgbregressor__max_depth=3, xgbregressor__n_estimators=500, xgbregressor__subsample=0.75, xgbregressor__min_child_weight=5, score=0.905533587774, total=   1.7s\n",
      "[CV] xgbregressor__gamma=0, xgbregressor__max_depth=3, xgbregressor__n_estimators=500, xgbregressor__subsample=0.75, xgbregressor__min_child_weight=5 \n",
      "[CV]  xgbregressor__gamma=0, xgbregressor__max_depth=3, xgbregressor__n_estimators=500, xgbregressor__subsample=0.75, xgbregressor__min_child_weight=5, score=0.91749451624, total=   1.7s\n",
      "[CV] xgbregressor__gamma=0, xgbregressor__max_depth=3, xgbregressor__n_estimators=500, xgbregressor__subsample=0.75, xgbregressor__min_child_weight=5 \n",
      "[CV]  xgbregressor__gamma=0, xgbregressor__max_depth=3, xgbregressor__n_estimators=500, xgbregressor__subsample=0.75, xgbregressor__min_child_weight=5, score=0.908173323719, total=   1.5s\n",
      "[CV] xgbregressor__gamma=0, xgbregressor__max_depth=3, xgbregressor__n_estimators=500, xgbregressor__subsample=0.85, xgbregressor__min_child_weight=5 \n",
      "[CV]  xgbregressor__gamma=0, xgbregressor__max_depth=3, xgbregressor__n_estimators=500, xgbregressor__subsample=0.85, xgbregressor__min_child_weight=5, score=0.915104063773, total=   1.6s\n",
      "[CV] xgbregressor__gamma=0, xgbregressor__max_depth=3, xgbregressor__n_estimators=500, xgbregressor__subsample=0.85, xgbregressor__min_child_weight=5 \n",
      "[CV]  xgbregressor__gamma=0, xgbregressor__max_depth=3, xgbregressor__n_estimators=500, xgbregressor__subsample=0.85, xgbregressor__min_child_weight=5, score=0.919033656429, total=   1.6s\n",
      "[CV] xgbregressor__gamma=0, xgbregressor__max_depth=3, xgbregressor__n_estimators=500, xgbregressor__subsample=0.85, xgbregressor__min_child_weight=5 \n",
      "[CV]  xgbregressor__gamma=0, xgbregressor__max_depth=3, xgbregressor__n_estimators=500, xgbregressor__subsample=0.85, xgbregressor__min_child_weight=5, score=0.905560902469, total=   1.8s\n",
      "[CV] xgbregressor__gamma=0, xgbregressor__max_depth=3, xgbregressor__n_estimators=500, xgbregressor__subsample=0.85, xgbregressor__min_child_weight=5 \n",
      "[CV]  xgbregressor__gamma=0, xgbregressor__max_depth=3, xgbregressor__n_estimators=500, xgbregressor__subsample=0.85, xgbregressor__min_child_weight=5, score=0.91458297079, total=   1.8s\n",
      "[CV] xgbregressor__gamma=0, xgbregressor__max_depth=3, xgbregressor__n_estimators=500, xgbregressor__subsample=0.85, xgbregressor__min_child_weight=5 \n",
      "[CV]  xgbregressor__gamma=0, xgbregressor__max_depth=3, xgbregressor__n_estimators=500, xgbregressor__subsample=0.85, xgbregressor__min_child_weight=5, score=0.912194918511, total=   1.8s\n",
      "[CV] xgbregressor__gamma=0, xgbregressor__max_depth=4, xgbregressor__n_estimators=100, xgbregressor__subsample=0.65, xgbregressor__min_child_weight=4 \n",
      "[CV]  xgbregressor__gamma=0, xgbregressor__max_depth=4, xgbregressor__n_estimators=100, xgbregressor__subsample=0.65, xgbregressor__min_child_weight=4, score=0.916295375082, total=   0.4s\n",
      "[CV] xgbregressor__gamma=0, xgbregressor__max_depth=4, xgbregressor__n_estimators=100, xgbregressor__subsample=0.65, xgbregressor__min_child_weight=4 \n",
      "[CV]  xgbregressor__gamma=0, xgbregressor__max_depth=4, xgbregressor__n_estimators=100, xgbregressor__subsample=0.65, xgbregressor__min_child_weight=4, score=0.913142915419, total=   0.5s\n",
      "[CV] xgbregressor__gamma=0, xgbregressor__max_depth=4, xgbregressor__n_estimators=100, xgbregressor__subsample=0.65, xgbregressor__min_child_weight=4 \n",
      "[CV]  xgbregressor__gamma=0, xgbregressor__max_depth=4, xgbregressor__n_estimators=100, xgbregressor__subsample=0.65, xgbregressor__min_child_weight=4, score=0.896160512414, total=   0.5s\n",
      "[CV] xgbregressor__gamma=0, xgbregressor__max_depth=4, xgbregressor__n_estimators=100, xgbregressor__subsample=0.65, xgbregressor__min_child_weight=4 \n",
      "[CV]  xgbregressor__gamma=0, xgbregressor__max_depth=4, xgbregressor__n_estimators=100, xgbregressor__subsample=0.65, xgbregressor__min_child_weight=4, score=0.904653597378, total=   0.5s\n",
      "[CV] xgbregressor__gamma=0, xgbregressor__max_depth=4, xgbregressor__n_estimators=100, xgbregressor__subsample=0.65, xgbregressor__min_child_weight=4 \n",
      "[CV]  xgbregressor__gamma=0, xgbregressor__max_depth=4, xgbregressor__n_estimators=100, xgbregressor__subsample=0.65, xgbregressor__min_child_weight=4, score=0.909768116325, total=   0.4s\n",
      "[CV] xgbregressor__gamma=0, xgbregressor__max_depth=4, xgbregressor__n_estimators=100, xgbregressor__subsample=0.75, xgbregressor__min_child_weight=4 \n",
      "[CV]  xgbregressor__gamma=0, xgbregressor__max_depth=4, xgbregressor__n_estimators=100, xgbregressor__subsample=0.75, xgbregressor__min_child_weight=4, score=0.915086657605, total=   0.5s\n",
      "[CV] xgbregressor__gamma=0, xgbregressor__max_depth=4, xgbregressor__n_estimators=100, xgbregressor__subsample=0.75, xgbregressor__min_child_weight=4 \n",
      "[CV]  xgbregressor__gamma=0, xgbregressor__max_depth=4, xgbregressor__n_estimators=100, xgbregressor__subsample=0.75, xgbregressor__min_child_weight=4, score=0.914426450363, total=   0.5s\n",
      "[CV] xgbregressor__gamma=0, xgbregressor__max_depth=4, xgbregressor__n_estimators=100, xgbregressor__subsample=0.75, xgbregressor__min_child_weight=4 \n"
     ]
    },
    {
     "name": "stdout",
     "output_type": "stream",
     "text": [
      "[CV]  xgbregressor__gamma=0, xgbregressor__max_depth=4, xgbregressor__n_estimators=100, xgbregressor__subsample=0.75, xgbregressor__min_child_weight=4, score=0.897645082401, total=   0.4s\n",
      "[CV] xgbregressor__gamma=0, xgbregressor__max_depth=4, xgbregressor__n_estimators=100, xgbregressor__subsample=0.75, xgbregressor__min_child_weight=4 \n",
      "[CV]  xgbregressor__gamma=0, xgbregressor__max_depth=4, xgbregressor__n_estimators=100, xgbregressor__subsample=0.75, xgbregressor__min_child_weight=4, score=0.908727259553, total=   0.5s\n",
      "[CV] xgbregressor__gamma=0, xgbregressor__max_depth=4, xgbregressor__n_estimators=100, xgbregressor__subsample=0.75, xgbregressor__min_child_weight=4 \n",
      "[CV]  xgbregressor__gamma=0, xgbregressor__max_depth=4, xgbregressor__n_estimators=100, xgbregressor__subsample=0.75, xgbregressor__min_child_weight=4, score=0.910325003881, total=   0.4s\n",
      "[CV] xgbregressor__gamma=0, xgbregressor__max_depth=4, xgbregressor__n_estimators=100, xgbregressor__subsample=0.85, xgbregressor__min_child_weight=4 \n",
      "[CV]  xgbregressor__gamma=0, xgbregressor__max_depth=4, xgbregressor__n_estimators=100, xgbregressor__subsample=0.85, xgbregressor__min_child_weight=4, score=0.916136362668, total=   0.5s\n",
      "[CV] xgbregressor__gamma=0, xgbregressor__max_depth=4, xgbregressor__n_estimators=100, xgbregressor__subsample=0.85, xgbregressor__min_child_weight=4 \n",
      "[CV]  xgbregressor__gamma=0, xgbregressor__max_depth=4, xgbregressor__n_estimators=100, xgbregressor__subsample=0.85, xgbregressor__min_child_weight=4, score=0.916905659617, total=   0.4s\n",
      "[CV] xgbregressor__gamma=0, xgbregressor__max_depth=4, xgbregressor__n_estimators=100, xgbregressor__subsample=0.85, xgbregressor__min_child_weight=4 \n",
      "[CV]  xgbregressor__gamma=0, xgbregressor__max_depth=4, xgbregressor__n_estimators=100, xgbregressor__subsample=0.85, xgbregressor__min_child_weight=4, score=0.901391470055, total=   0.4s\n",
      "[CV] xgbregressor__gamma=0, xgbregressor__max_depth=4, xgbregressor__n_estimators=100, xgbregressor__subsample=0.85, xgbregressor__min_child_weight=4 \n",
      "[CV]  xgbregressor__gamma=0, xgbregressor__max_depth=4, xgbregressor__n_estimators=100, xgbregressor__subsample=0.85, xgbregressor__min_child_weight=4, score=0.905498613933, total=   0.5s\n",
      "[CV] xgbregressor__gamma=0, xgbregressor__max_depth=4, xgbregressor__n_estimators=100, xgbregressor__subsample=0.85, xgbregressor__min_child_weight=4 \n",
      "[CV]  xgbregressor__gamma=0, xgbregressor__max_depth=4, xgbregressor__n_estimators=100, xgbregressor__subsample=0.85, xgbregressor__min_child_weight=4, score=0.901260972717, total=   0.4s\n",
      "[CV] xgbregressor__gamma=0, xgbregressor__max_depth=4, xgbregressor__n_estimators=500, xgbregressor__subsample=0.65, xgbregressor__min_child_weight=4 \n",
      "[CV]  xgbregressor__gamma=0, xgbregressor__max_depth=4, xgbregressor__n_estimators=500, xgbregressor__subsample=0.65, xgbregressor__min_child_weight=4, score=0.921492852726, total=   2.3s\n",
      "[CV] xgbregressor__gamma=0, xgbregressor__max_depth=4, xgbregressor__n_estimators=500, xgbregressor__subsample=0.65, xgbregressor__min_child_weight=4 \n",
      "[CV]  xgbregressor__gamma=0, xgbregressor__max_depth=4, xgbregressor__n_estimators=500, xgbregressor__subsample=0.65, xgbregressor__min_child_weight=4, score=0.915829945177, total=   2.5s\n",
      "[CV] xgbregressor__gamma=0, xgbregressor__max_depth=4, xgbregressor__n_estimators=500, xgbregressor__subsample=0.65, xgbregressor__min_child_weight=4 \n",
      "[CV]  xgbregressor__gamma=0, xgbregressor__max_depth=4, xgbregressor__n_estimators=500, xgbregressor__subsample=0.65, xgbregressor__min_child_weight=4, score=0.899656910448, total=   2.3s\n",
      "[CV] xgbregressor__gamma=0, xgbregressor__max_depth=4, xgbregressor__n_estimators=500, xgbregressor__subsample=0.65, xgbregressor__min_child_weight=4 \n",
      "[CV]  xgbregressor__gamma=0, xgbregressor__max_depth=4, xgbregressor__n_estimators=500, xgbregressor__subsample=0.65, xgbregressor__min_child_weight=4, score=0.917348364369, total=   2.1s\n",
      "[CV] xgbregressor__gamma=0, xgbregressor__max_depth=4, xgbregressor__n_estimators=500, xgbregressor__subsample=0.65, xgbregressor__min_child_weight=4 \n",
      "[CV]  xgbregressor__gamma=0, xgbregressor__max_depth=4, xgbregressor__n_estimators=500, xgbregressor__subsample=0.65, xgbregressor__min_child_weight=4, score=0.911868089492, total=   2.4s\n",
      "[CV] xgbregressor__gamma=0, xgbregressor__max_depth=4, xgbregressor__n_estimators=500, xgbregressor__subsample=0.75, xgbregressor__min_child_weight=4 \n",
      "[CV]  xgbregressor__gamma=0, xgbregressor__max_depth=4, xgbregressor__n_estimators=500, xgbregressor__subsample=0.75, xgbregressor__min_child_weight=4, score=0.917391508839, total=   2.3s\n",
      "[CV] xgbregressor__gamma=0, xgbregressor__max_depth=4, xgbregressor__n_estimators=500, xgbregressor__subsample=0.75, xgbregressor__min_child_weight=4 \n",
      "[CV]  xgbregressor__gamma=0, xgbregressor__max_depth=4, xgbregressor__n_estimators=500, xgbregressor__subsample=0.75, xgbregressor__min_child_weight=4, score=0.91616168361, total=   2.3s\n",
      "[CV] xgbregressor__gamma=0, xgbregressor__max_depth=4, xgbregressor__n_estimators=500, xgbregressor__subsample=0.75, xgbregressor__min_child_weight=4 \n",
      "[CV]  xgbregressor__gamma=0, xgbregressor__max_depth=4, xgbregressor__n_estimators=500, xgbregressor__subsample=0.75, xgbregressor__min_child_weight=4, score=0.900023416572, total=   2.2s\n",
      "[CV] xgbregressor__gamma=0, xgbregressor__max_depth=4, xgbregressor__n_estimators=500, xgbregressor__subsample=0.75, xgbregressor__min_child_weight=4 \n",
      "[CV]  xgbregressor__gamma=0, xgbregressor__max_depth=4, xgbregressor__n_estimators=500, xgbregressor__subsample=0.75, xgbregressor__min_child_weight=4, score=0.919054157243, total=   2.4s\n",
      "[CV] xgbregressor__gamma=0, xgbregressor__max_depth=4, xgbregressor__n_estimators=500, xgbregressor__subsample=0.75, xgbregressor__min_child_weight=4 \n",
      "[CV]  xgbregressor__gamma=0, xgbregressor__max_depth=4, xgbregressor__n_estimators=500, xgbregressor__subsample=0.75, xgbregressor__min_child_weight=4, score=0.911887028538, total=   2.4s\n",
      "[CV] xgbregressor__gamma=0, xgbregressor__max_depth=4, xgbregressor__n_estimators=500, xgbregressor__subsample=0.85, xgbregressor__min_child_weight=4 \n",
      "[CV]  xgbregressor__gamma=0, xgbregressor__max_depth=4, xgbregressor__n_estimators=500, xgbregressor__subsample=0.85, xgbregressor__min_child_weight=4, score=0.916948351583, total=   2.1s\n",
      "[CV] xgbregressor__gamma=0, xgbregressor__max_depth=4, xgbregressor__n_estimators=500, xgbregressor__subsample=0.85, xgbregressor__min_child_weight=4 \n",
      "[CV]  xgbregressor__gamma=0, xgbregressor__max_depth=4, xgbregressor__n_estimators=500, xgbregressor__subsample=0.85, xgbregressor__min_child_weight=4, score=0.917930056778, total=   2.1s\n",
      "[CV] xgbregressor__gamma=0, xgbregressor__max_depth=4, xgbregressor__n_estimators=500, xgbregressor__subsample=0.85, xgbregressor__min_child_weight=4 \n",
      "[CV]  xgbregressor__gamma=0, xgbregressor__max_depth=4, xgbregressor__n_estimators=500, xgbregressor__subsample=0.85, xgbregressor__min_child_weight=4, score=0.90222460223, total=   2.1s\n",
      "[CV] xgbregressor__gamma=0, xgbregressor__max_depth=4, xgbregressor__n_estimators=500, xgbregressor__subsample=0.85, xgbregressor__min_child_weight=4 \n",
      "[CV]  xgbregressor__gamma=0, xgbregressor__max_depth=4, xgbregressor__n_estimators=500, xgbregressor__subsample=0.85, xgbregressor__min_child_weight=4, score=0.912251691003, total=   2.3s\n",
      "[CV] xgbregressor__gamma=0, xgbregressor__max_depth=4, xgbregressor__n_estimators=500, xgbregressor__subsample=0.85, xgbregressor__min_child_weight=4 \n",
      "[CV]  xgbregressor__gamma=0, xgbregressor__max_depth=4, xgbregressor__n_estimators=500, xgbregressor__subsample=0.85, xgbregressor__min_child_weight=4, score=0.906686517858, total=   2.3s\n",
      "[CV] xgbregressor__gamma=0, xgbregressor__max_depth=4, xgbregressor__n_estimators=100, xgbregressor__subsample=0.65, xgbregressor__min_child_weight=5 \n",
      "[CV]  xgbregressor__gamma=0, xgbregressor__max_depth=4, xgbregressor__n_estimators=100, xgbregressor__subsample=0.65, xgbregressor__min_child_weight=5, score=0.912459466454, total=   0.5s\n",
      "[CV] xgbregressor__gamma=0, xgbregressor__max_depth=4, xgbregressor__n_estimators=100, xgbregressor__subsample=0.65, xgbregressor__min_child_weight=5 \n",
      "[CV]  xgbregressor__gamma=0, xgbregressor__max_depth=4, xgbregressor__n_estimators=100, xgbregressor__subsample=0.65, xgbregressor__min_child_weight=5, score=0.914061324608, total=   0.5s\n",
      "[CV] xgbregressor__gamma=0, xgbregressor__max_depth=4, xgbregressor__n_estimators=100, xgbregressor__subsample=0.65, xgbregressor__min_child_weight=5 \n"
     ]
    },
    {
     "name": "stdout",
     "output_type": "stream",
     "text": [
      "[CV]  xgbregressor__gamma=0, xgbregressor__max_depth=4, xgbregressor__n_estimators=100, xgbregressor__subsample=0.65, xgbregressor__min_child_weight=5, score=0.900184383638, total=   0.4s\n",
      "[CV] xgbregressor__gamma=0, xgbregressor__max_depth=4, xgbregressor__n_estimators=100, xgbregressor__subsample=0.65, xgbregressor__min_child_weight=5 \n",
      "[CV]  xgbregressor__gamma=0, xgbregressor__max_depth=4, xgbregressor__n_estimators=100, xgbregressor__subsample=0.65, xgbregressor__min_child_weight=5, score=0.903880863599, total=   0.4s\n",
      "[CV] xgbregressor__gamma=0, xgbregressor__max_depth=4, xgbregressor__n_estimators=100, xgbregressor__subsample=0.65, xgbregressor__min_child_weight=5 \n",
      "[CV]  xgbregressor__gamma=0, xgbregressor__max_depth=4, xgbregressor__n_estimators=100, xgbregressor__subsample=0.65, xgbregressor__min_child_weight=5, score=0.908817174042, total=   0.4s\n",
      "[CV] xgbregressor__gamma=0, xgbregressor__max_depth=4, xgbregressor__n_estimators=100, xgbregressor__subsample=0.75, xgbregressor__min_child_weight=5 \n",
      "[CV]  xgbregressor__gamma=0, xgbregressor__max_depth=4, xgbregressor__n_estimators=100, xgbregressor__subsample=0.75, xgbregressor__min_child_weight=5, score=0.91829887563, total=   0.5s\n",
      "[CV] xgbregressor__gamma=0, xgbregressor__max_depth=4, xgbregressor__n_estimators=100, xgbregressor__subsample=0.75, xgbregressor__min_child_weight=5 \n",
      "[CV]  xgbregressor__gamma=0, xgbregressor__max_depth=4, xgbregressor__n_estimators=100, xgbregressor__subsample=0.75, xgbregressor__min_child_weight=5, score=0.916400456838, total=   0.5s\n",
      "[CV] xgbregressor__gamma=0, xgbregressor__max_depth=4, xgbregressor__n_estimators=100, xgbregressor__subsample=0.75, xgbregressor__min_child_weight=5 \n",
      "[CV]  xgbregressor__gamma=0, xgbregressor__max_depth=4, xgbregressor__n_estimators=100, xgbregressor__subsample=0.75, xgbregressor__min_child_weight=5, score=0.903729785964, total=   0.5s\n",
      "[CV] xgbregressor__gamma=0, xgbregressor__max_depth=4, xgbregressor__n_estimators=100, xgbregressor__subsample=0.75, xgbregressor__min_child_weight=5 \n",
      "[CV]  xgbregressor__gamma=0, xgbregressor__max_depth=4, xgbregressor__n_estimators=100, xgbregressor__subsample=0.75, xgbregressor__min_child_weight=5, score=0.910095657215, total=   0.5s\n",
      "[CV] xgbregressor__gamma=0, xgbregressor__max_depth=4, xgbregressor__n_estimators=100, xgbregressor__subsample=0.75, xgbregressor__min_child_weight=5 \n",
      "[CV]  xgbregressor__gamma=0, xgbregressor__max_depth=4, xgbregressor__n_estimators=100, xgbregressor__subsample=0.75, xgbregressor__min_child_weight=5, score=0.907815516109, total=   0.5s\n",
      "[CV] xgbregressor__gamma=0, xgbregressor__max_depth=4, xgbregressor__n_estimators=100, xgbregressor__subsample=0.85, xgbregressor__min_child_weight=5 \n",
      "[CV]  xgbregressor__gamma=0, xgbregressor__max_depth=4, xgbregressor__n_estimators=100, xgbregressor__subsample=0.85, xgbregressor__min_child_weight=5, score=0.918176079962, total=   0.5s\n",
      "[CV] xgbregressor__gamma=0, xgbregressor__max_depth=4, xgbregressor__n_estimators=100, xgbregressor__subsample=0.85, xgbregressor__min_child_weight=5 \n",
      "[CV]  xgbregressor__gamma=0, xgbregressor__max_depth=4, xgbregressor__n_estimators=100, xgbregressor__subsample=0.85, xgbregressor__min_child_weight=5, score=0.913975873324, total=   0.5s\n",
      "[CV] xgbregressor__gamma=0, xgbregressor__max_depth=4, xgbregressor__n_estimators=100, xgbregressor__subsample=0.85, xgbregressor__min_child_weight=5 \n",
      "[CV]  xgbregressor__gamma=0, xgbregressor__max_depth=4, xgbregressor__n_estimators=100, xgbregressor__subsample=0.85, xgbregressor__min_child_weight=5, score=0.902532586675, total=   0.4s\n",
      "[CV] xgbregressor__gamma=0, xgbregressor__max_depth=4, xgbregressor__n_estimators=100, xgbregressor__subsample=0.85, xgbregressor__min_child_weight=5 \n",
      "[CV]  xgbregressor__gamma=0, xgbregressor__max_depth=4, xgbregressor__n_estimators=100, xgbregressor__subsample=0.85, xgbregressor__min_child_weight=5, score=0.907829041697, total=   0.4s\n",
      "[CV] xgbregressor__gamma=0, xgbregressor__max_depth=4, xgbregressor__n_estimators=100, xgbregressor__subsample=0.85, xgbregressor__min_child_weight=5 \n",
      "[CV]  xgbregressor__gamma=0, xgbregressor__max_depth=4, xgbregressor__n_estimators=100, xgbregressor__subsample=0.85, xgbregressor__min_child_weight=5, score=0.902109293149, total=   0.4s\n",
      "[CV] xgbregressor__gamma=0, xgbregressor__max_depth=4, xgbregressor__n_estimators=500, xgbregressor__subsample=0.65, xgbregressor__min_child_weight=5 \n",
      "[CV]  xgbregressor__gamma=0, xgbregressor__max_depth=4, xgbregressor__n_estimators=500, xgbregressor__subsample=0.65, xgbregressor__min_child_weight=5, score=0.917423746004, total=   2.5s\n",
      "[CV] xgbregressor__gamma=0, xgbregressor__max_depth=4, xgbregressor__n_estimators=500, xgbregressor__subsample=0.65, xgbregressor__min_child_weight=5 \n",
      "[CV]  xgbregressor__gamma=0, xgbregressor__max_depth=4, xgbregressor__n_estimators=500, xgbregressor__subsample=0.65, xgbregressor__min_child_weight=5, score=0.915835734353, total=   2.3s\n",
      "[CV] xgbregressor__gamma=0, xgbregressor__max_depth=4, xgbregressor__n_estimators=500, xgbregressor__subsample=0.65, xgbregressor__min_child_weight=5 \n",
      "[CV]  xgbregressor__gamma=0, xgbregressor__max_depth=4, xgbregressor__n_estimators=500, xgbregressor__subsample=0.65, xgbregressor__min_child_weight=5, score=0.901998296234, total=   2.3s\n",
      "[CV] xgbregressor__gamma=0, xgbregressor__max_depth=4, xgbregressor__n_estimators=500, xgbregressor__subsample=0.65, xgbregressor__min_child_weight=5 \n",
      "[CV]  xgbregressor__gamma=0, xgbregressor__max_depth=4, xgbregressor__n_estimators=500, xgbregressor__subsample=0.65, xgbregressor__min_child_weight=5, score=0.913335955752, total=   2.1s\n",
      "[CV] xgbregressor__gamma=0, xgbregressor__max_depth=4, xgbregressor__n_estimators=500, xgbregressor__subsample=0.65, xgbregressor__min_child_weight=5 \n",
      "[CV]  xgbregressor__gamma=0, xgbregressor__max_depth=4, xgbregressor__n_estimators=500, xgbregressor__subsample=0.65, xgbregressor__min_child_weight=5, score=0.908309618585, total=   2.0s\n",
      "[CV] xgbregressor__gamma=0, xgbregressor__max_depth=4, xgbregressor__n_estimators=500, xgbregressor__subsample=0.75, xgbregressor__min_child_weight=5 \n",
      "[CV]  xgbregressor__gamma=0, xgbregressor__max_depth=4, xgbregressor__n_estimators=500, xgbregressor__subsample=0.75, xgbregressor__min_child_weight=5, score=0.918999310336, total=   2.0s\n",
      "[CV] xgbregressor__gamma=0, xgbregressor__max_depth=4, xgbregressor__n_estimators=500, xgbregressor__subsample=0.75, xgbregressor__min_child_weight=5 \n",
      "[CV]  xgbregressor__gamma=0, xgbregressor__max_depth=4, xgbregressor__n_estimators=500, xgbregressor__subsample=0.75, xgbregressor__min_child_weight=5, score=0.91575945337, total=   2.2s\n",
      "[CV] xgbregressor__gamma=0, xgbregressor__max_depth=4, xgbregressor__n_estimators=500, xgbregressor__subsample=0.75, xgbregressor__min_child_weight=5 \n",
      "[CV]  xgbregressor__gamma=0, xgbregressor__max_depth=4, xgbregressor__n_estimators=500, xgbregressor__subsample=0.75, xgbregressor__min_child_weight=5, score=0.906834141629, total=   2.1s\n",
      "[CV] xgbregressor__gamma=0, xgbregressor__max_depth=4, xgbregressor__n_estimators=500, xgbregressor__subsample=0.75, xgbregressor__min_child_weight=5 \n",
      "[CV]  xgbregressor__gamma=0, xgbregressor__max_depth=4, xgbregressor__n_estimators=500, xgbregressor__subsample=0.75, xgbregressor__min_child_weight=5, score=0.91907291682, total=   2.0s\n",
      "[CV] xgbregressor__gamma=0, xgbregressor__max_depth=4, xgbregressor__n_estimators=500, xgbregressor__subsample=0.75, xgbregressor__min_child_weight=5 \n",
      "[CV]  xgbregressor__gamma=0, xgbregressor__max_depth=4, xgbregressor__n_estimators=500, xgbregressor__subsample=0.75, xgbregressor__min_child_weight=5, score=0.912297062545, total=   2.0s\n",
      "[CV] xgbregressor__gamma=0, xgbregressor__max_depth=4, xgbregressor__n_estimators=500, xgbregressor__subsample=0.85, xgbregressor__min_child_weight=5 \n",
      "[CV]  xgbregressor__gamma=0, xgbregressor__max_depth=4, xgbregressor__n_estimators=500, xgbregressor__subsample=0.85, xgbregressor__min_child_weight=5, score=0.916672685346, total=   1.9s\n",
      "[CV] xgbregressor__gamma=0, xgbregressor__max_depth=4, xgbregressor__n_estimators=500, xgbregressor__subsample=0.85, xgbregressor__min_child_weight=5 \n",
      "[CV]  xgbregressor__gamma=0, xgbregressor__max_depth=4, xgbregressor__n_estimators=500, xgbregressor__subsample=0.85, xgbregressor__min_child_weight=5, score=0.913584411284, total=   2.2s\n",
      "[CV] xgbregressor__gamma=0, xgbregressor__max_depth=4, xgbregressor__n_estimators=500, xgbregressor__subsample=0.85, xgbregressor__min_child_weight=5 \n"
     ]
    },
    {
     "name": "stdout",
     "output_type": "stream",
     "text": [
      "[CV]  xgbregressor__gamma=0, xgbregressor__max_depth=4, xgbregressor__n_estimators=500, xgbregressor__subsample=0.85, xgbregressor__min_child_weight=5, score=0.904539939811, total=   2.3s\n",
      "[CV] xgbregressor__gamma=0, xgbregressor__max_depth=4, xgbregressor__n_estimators=500, xgbregressor__subsample=0.85, xgbregressor__min_child_weight=5 \n",
      "[CV]  xgbregressor__gamma=0, xgbregressor__max_depth=4, xgbregressor__n_estimators=500, xgbregressor__subsample=0.85, xgbregressor__min_child_weight=5, score=0.914448968362, total=   2.3s\n",
      "[CV] xgbregressor__gamma=0, xgbregressor__max_depth=4, xgbregressor__n_estimators=500, xgbregressor__subsample=0.85, xgbregressor__min_child_weight=5 \n",
      "[CV]  xgbregressor__gamma=0, xgbregressor__max_depth=4, xgbregressor__n_estimators=500, xgbregressor__subsample=0.85, xgbregressor__min_child_weight=5, score=0.904413283512, total=   2.3s\n",
      "[CV] xgbregressor__gamma=1.0, xgbregressor__max_depth=2, xgbregressor__n_estimators=100, xgbregressor__subsample=0.65, xgbregressor__min_child_weight=4 \n",
      "[CV]  xgbregressor__gamma=1.0, xgbregressor__max_depth=2, xgbregressor__n_estimators=100, xgbregressor__subsample=0.65, xgbregressor__min_child_weight=4, score=0.869299487521, total=   0.2s\n",
      "[CV] xgbregressor__gamma=1.0, xgbregressor__max_depth=2, xgbregressor__n_estimators=100, xgbregressor__subsample=0.65, xgbregressor__min_child_weight=4 \n",
      "[CV]  xgbregressor__gamma=1.0, xgbregressor__max_depth=2, xgbregressor__n_estimators=100, xgbregressor__subsample=0.65, xgbregressor__min_child_weight=4, score=0.869622614622, total=   0.2s\n",
      "[CV] xgbregressor__gamma=1.0, xgbregressor__max_depth=2, xgbregressor__n_estimators=100, xgbregressor__subsample=0.65, xgbregressor__min_child_weight=4 \n",
      "[CV]  xgbregressor__gamma=1.0, xgbregressor__max_depth=2, xgbregressor__n_estimators=100, xgbregressor__subsample=0.65, xgbregressor__min_child_weight=4, score=0.851963789146, total=   0.2s\n",
      "[CV] xgbregressor__gamma=1.0, xgbregressor__max_depth=2, xgbregressor__n_estimators=100, xgbregressor__subsample=0.65, xgbregressor__min_child_weight=4 \n",
      "[CV]  xgbregressor__gamma=1.0, xgbregressor__max_depth=2, xgbregressor__n_estimators=100, xgbregressor__subsample=0.65, xgbregressor__min_child_weight=4, score=0.851407029491, total=   0.2s\n",
      "[CV] xgbregressor__gamma=1.0, xgbregressor__max_depth=2, xgbregressor__n_estimators=100, xgbregressor__subsample=0.65, xgbregressor__min_child_weight=4 \n",
      "[CV]  xgbregressor__gamma=1.0, xgbregressor__max_depth=2, xgbregressor__n_estimators=100, xgbregressor__subsample=0.65, xgbregressor__min_child_weight=4, score=0.850558899815, total=   0.2s\n",
      "[CV] xgbregressor__gamma=1.0, xgbregressor__max_depth=2, xgbregressor__n_estimators=100, xgbregressor__subsample=0.75, xgbregressor__min_child_weight=4 \n",
      "[CV]  xgbregressor__gamma=1.0, xgbregressor__max_depth=2, xgbregressor__n_estimators=100, xgbregressor__subsample=0.75, xgbregressor__min_child_weight=4, score=0.871204709055, total=   0.2s\n",
      "[CV] xgbregressor__gamma=1.0, xgbregressor__max_depth=2, xgbregressor__n_estimators=100, xgbregressor__subsample=0.75, xgbregressor__min_child_weight=4 \n",
      "[CV]  xgbregressor__gamma=1.0, xgbregressor__max_depth=2, xgbregressor__n_estimators=100, xgbregressor__subsample=0.75, xgbregressor__min_child_weight=4, score=0.873080722011, total=   0.3s\n",
      "[CV] xgbregressor__gamma=1.0, xgbregressor__max_depth=2, xgbregressor__n_estimators=100, xgbregressor__subsample=0.75, xgbregressor__min_child_weight=4 \n",
      "[CV]  xgbregressor__gamma=1.0, xgbregressor__max_depth=2, xgbregressor__n_estimators=100, xgbregressor__subsample=0.75, xgbregressor__min_child_weight=4, score=0.848270094559, total=   0.3s\n",
      "[CV] xgbregressor__gamma=1.0, xgbregressor__max_depth=2, xgbregressor__n_estimators=100, xgbregressor__subsample=0.75, xgbregressor__min_child_weight=4 \n",
      "[CV]  xgbregressor__gamma=1.0, xgbregressor__max_depth=2, xgbregressor__n_estimators=100, xgbregressor__subsample=0.75, xgbregressor__min_child_weight=4, score=0.855592146533, total=   0.3s\n",
      "[CV] xgbregressor__gamma=1.0, xgbregressor__max_depth=2, xgbregressor__n_estimators=100, xgbregressor__subsample=0.75, xgbregressor__min_child_weight=4 \n",
      "[CV]  xgbregressor__gamma=1.0, xgbregressor__max_depth=2, xgbregressor__n_estimators=100, xgbregressor__subsample=0.75, xgbregressor__min_child_weight=4, score=0.84707620823, total=   0.3s\n",
      "[CV] xgbregressor__gamma=1.0, xgbregressor__max_depth=2, xgbregressor__n_estimators=100, xgbregressor__subsample=0.85, xgbregressor__min_child_weight=4 \n",
      "[CV]  xgbregressor__gamma=1.0, xgbregressor__max_depth=2, xgbregressor__n_estimators=100, xgbregressor__subsample=0.85, xgbregressor__min_child_weight=4, score=0.864269192802, total=   0.2s\n",
      "[CV] xgbregressor__gamma=1.0, xgbregressor__max_depth=2, xgbregressor__n_estimators=100, xgbregressor__subsample=0.85, xgbregressor__min_child_weight=4 \n",
      "[CV]  xgbregressor__gamma=1.0, xgbregressor__max_depth=2, xgbregressor__n_estimators=100, xgbregressor__subsample=0.85, xgbregressor__min_child_weight=4, score=0.872290713679, total=   0.2s\n",
      "[CV] xgbregressor__gamma=1.0, xgbregressor__max_depth=2, xgbregressor__n_estimators=100, xgbregressor__subsample=0.85, xgbregressor__min_child_weight=4 \n",
      "[CV]  xgbregressor__gamma=1.0, xgbregressor__max_depth=2, xgbregressor__n_estimators=100, xgbregressor__subsample=0.85, xgbregressor__min_child_weight=4, score=0.853856247219, total=   0.2s\n",
      "[CV] xgbregressor__gamma=1.0, xgbregressor__max_depth=2, xgbregressor__n_estimators=100, xgbregressor__subsample=0.85, xgbregressor__min_child_weight=4 \n",
      "[CV]  xgbregressor__gamma=1.0, xgbregressor__max_depth=2, xgbregressor__n_estimators=100, xgbregressor__subsample=0.85, xgbregressor__min_child_weight=4, score=0.849707274399, total=   0.3s\n",
      "[CV] xgbregressor__gamma=1.0, xgbregressor__max_depth=2, xgbregressor__n_estimators=100, xgbregressor__subsample=0.85, xgbregressor__min_child_weight=4 \n",
      "[CV]  xgbregressor__gamma=1.0, xgbregressor__max_depth=2, xgbregressor__n_estimators=100, xgbregressor__subsample=0.85, xgbregressor__min_child_weight=4, score=0.844706368187, total=   0.2s\n",
      "[CV] xgbregressor__gamma=1.0, xgbregressor__max_depth=2, xgbregressor__n_estimators=500, xgbregressor__subsample=0.65, xgbregressor__min_child_weight=4 \n",
      "[CV]  xgbregressor__gamma=1.0, xgbregressor__max_depth=2, xgbregressor__n_estimators=500, xgbregressor__subsample=0.65, xgbregressor__min_child_weight=4, score=0.874612642435, total=   1.3s\n",
      "[CV] xgbregressor__gamma=1.0, xgbregressor__max_depth=2, xgbregressor__n_estimators=500, xgbregressor__subsample=0.65, xgbregressor__min_child_weight=4 \n",
      "[CV]  xgbregressor__gamma=1.0, xgbregressor__max_depth=2, xgbregressor__n_estimators=500, xgbregressor__subsample=0.65, xgbregressor__min_child_weight=4, score=0.872499887773, total=   1.3s\n",
      "[CV] xgbregressor__gamma=1.0, xgbregressor__max_depth=2, xgbregressor__n_estimators=500, xgbregressor__subsample=0.65, xgbregressor__min_child_weight=4 \n",
      "[CV]  xgbregressor__gamma=1.0, xgbregressor__max_depth=2, xgbregressor__n_estimators=500, xgbregressor__subsample=0.65, xgbregressor__min_child_weight=4, score=0.854936725462, total=   1.2s\n",
      "[CV] xgbregressor__gamma=1.0, xgbregressor__max_depth=2, xgbregressor__n_estimators=500, xgbregressor__subsample=0.65, xgbregressor__min_child_weight=4 \n",
      "[CV]  xgbregressor__gamma=1.0, xgbregressor__max_depth=2, xgbregressor__n_estimators=500, xgbregressor__subsample=0.65, xgbregressor__min_child_weight=4, score=0.853087249885, total=   1.2s\n",
      "[CV] xgbregressor__gamma=1.0, xgbregressor__max_depth=2, xgbregressor__n_estimators=500, xgbregressor__subsample=0.65, xgbregressor__min_child_weight=4 \n",
      "[CV]  xgbregressor__gamma=1.0, xgbregressor__max_depth=2, xgbregressor__n_estimators=500, xgbregressor__subsample=0.65, xgbregressor__min_child_weight=4, score=0.854162670106, total=   1.1s\n",
      "[CV] xgbregressor__gamma=1.0, xgbregressor__max_depth=2, xgbregressor__n_estimators=500, xgbregressor__subsample=0.75, xgbregressor__min_child_weight=4 \n",
      "[CV]  xgbregressor__gamma=1.0, xgbregressor__max_depth=2, xgbregressor__n_estimators=500, xgbregressor__subsample=0.75, xgbregressor__min_child_weight=4, score=0.874525739646, total=   1.1s\n",
      "[CV] xgbregressor__gamma=1.0, xgbregressor__max_depth=2, xgbregressor__n_estimators=500, xgbregressor__subsample=0.75, xgbregressor__min_child_weight=4 \n"
     ]
    },
    {
     "name": "stdout",
     "output_type": "stream",
     "text": [
      "[CV]  xgbregressor__gamma=1.0, xgbregressor__max_depth=2, xgbregressor__n_estimators=500, xgbregressor__subsample=0.75, xgbregressor__min_child_weight=4, score=0.874888025123, total=   1.1s\n",
      "[CV] xgbregressor__gamma=1.0, xgbregressor__max_depth=2, xgbregressor__n_estimators=500, xgbregressor__subsample=0.75, xgbregressor__min_child_weight=4 \n",
      "[CV]  xgbregressor__gamma=1.0, xgbregressor__max_depth=2, xgbregressor__n_estimators=500, xgbregressor__subsample=0.75, xgbregressor__min_child_weight=4, score=0.853034588045, total=   1.1s\n",
      "[CV] xgbregressor__gamma=1.0, xgbregressor__max_depth=2, xgbregressor__n_estimators=500, xgbregressor__subsample=0.75, xgbregressor__min_child_weight=4 \n",
      "[CV]  xgbregressor__gamma=1.0, xgbregressor__max_depth=2, xgbregressor__n_estimators=500, xgbregressor__subsample=0.75, xgbregressor__min_child_weight=4, score=0.860722516137, total=   1.0s\n",
      "[CV] xgbregressor__gamma=1.0, xgbregressor__max_depth=2, xgbregressor__n_estimators=500, xgbregressor__subsample=0.75, xgbregressor__min_child_weight=4 \n",
      "[CV]  xgbregressor__gamma=1.0, xgbregressor__max_depth=2, xgbregressor__n_estimators=500, xgbregressor__subsample=0.75, xgbregressor__min_child_weight=4, score=0.850365367995, total=   1.1s\n",
      "[CV] xgbregressor__gamma=1.0, xgbregressor__max_depth=2, xgbregressor__n_estimators=500, xgbregressor__subsample=0.85, xgbregressor__min_child_weight=4 \n",
      "[CV]  xgbregressor__gamma=1.0, xgbregressor__max_depth=2, xgbregressor__n_estimators=500, xgbregressor__subsample=0.85, xgbregressor__min_child_weight=4, score=0.866882179515, total=   1.1s\n",
      "[CV] xgbregressor__gamma=1.0, xgbregressor__max_depth=2, xgbregressor__n_estimators=500, xgbregressor__subsample=0.85, xgbregressor__min_child_weight=4 \n",
      "[CV]  xgbregressor__gamma=1.0, xgbregressor__max_depth=2, xgbregressor__n_estimators=500, xgbregressor__subsample=0.85, xgbregressor__min_child_weight=4, score=0.87470015343, total=   1.1s\n",
      "[CV] xgbregressor__gamma=1.0, xgbregressor__max_depth=2, xgbregressor__n_estimators=500, xgbregressor__subsample=0.85, xgbregressor__min_child_weight=4 \n",
      "[CV]  xgbregressor__gamma=1.0, xgbregressor__max_depth=2, xgbregressor__n_estimators=500, xgbregressor__subsample=0.85, xgbregressor__min_child_weight=4, score=0.858860949452, total=   1.2s\n",
      "[CV] xgbregressor__gamma=1.0, xgbregressor__max_depth=2, xgbregressor__n_estimators=500, xgbregressor__subsample=0.85, xgbregressor__min_child_weight=4 \n",
      "[CV]  xgbregressor__gamma=1.0, xgbregressor__max_depth=2, xgbregressor__n_estimators=500, xgbregressor__subsample=0.85, xgbregressor__min_child_weight=4, score=0.852613308703, total=   1.2s\n",
      "[CV] xgbregressor__gamma=1.0, xgbregressor__max_depth=2, xgbregressor__n_estimators=500, xgbregressor__subsample=0.85, xgbregressor__min_child_weight=4 \n",
      "[CV]  xgbregressor__gamma=1.0, xgbregressor__max_depth=2, xgbregressor__n_estimators=500, xgbregressor__subsample=0.85, xgbregressor__min_child_weight=4, score=0.847203854558, total=   1.3s\n",
      "[CV] xgbregressor__gamma=1.0, xgbregressor__max_depth=2, xgbregressor__n_estimators=100, xgbregressor__subsample=0.65, xgbregressor__min_child_weight=5 \n",
      "[CV]  xgbregressor__gamma=1.0, xgbregressor__max_depth=2, xgbregressor__n_estimators=100, xgbregressor__subsample=0.65, xgbregressor__min_child_weight=5, score=0.869097216797, total=   0.3s\n",
      "[CV] xgbregressor__gamma=1.0, xgbregressor__max_depth=2, xgbregressor__n_estimators=100, xgbregressor__subsample=0.65, xgbregressor__min_child_weight=5 \n",
      "[CV]  xgbregressor__gamma=1.0, xgbregressor__max_depth=2, xgbregressor__n_estimators=100, xgbregressor__subsample=0.65, xgbregressor__min_child_weight=5, score=0.869622614622, total=   0.3s\n",
      "[CV] xgbregressor__gamma=1.0, xgbregressor__max_depth=2, xgbregressor__n_estimators=100, xgbregressor__subsample=0.65, xgbregressor__min_child_weight=5 \n",
      "[CV]  xgbregressor__gamma=1.0, xgbregressor__max_depth=2, xgbregressor__n_estimators=100, xgbregressor__subsample=0.65, xgbregressor__min_child_weight=5, score=0.851415266423, total=   0.4s\n",
      "[CV] xgbregressor__gamma=1.0, xgbregressor__max_depth=2, xgbregressor__n_estimators=100, xgbregressor__subsample=0.65, xgbregressor__min_child_weight=5 \n",
      "[CV]  xgbregressor__gamma=1.0, xgbregressor__max_depth=2, xgbregressor__n_estimators=100, xgbregressor__subsample=0.65, xgbregressor__min_child_weight=5, score=0.851407029491, total=   0.3s\n",
      "[CV] xgbregressor__gamma=1.0, xgbregressor__max_depth=2, xgbregressor__n_estimators=100, xgbregressor__subsample=0.65, xgbregressor__min_child_weight=5 \n",
      "[CV]  xgbregressor__gamma=1.0, xgbregressor__max_depth=2, xgbregressor__n_estimators=100, xgbregressor__subsample=0.65, xgbregressor__min_child_weight=5, score=0.849350175101, total=   0.3s\n",
      "[CV] xgbregressor__gamma=1.0, xgbregressor__max_depth=2, xgbregressor__n_estimators=100, xgbregressor__subsample=0.75, xgbregressor__min_child_weight=5 \n",
      "[CV]  xgbregressor__gamma=1.0, xgbregressor__max_depth=2, xgbregressor__n_estimators=100, xgbregressor__subsample=0.75, xgbregressor__min_child_weight=5, score=0.873699598248, total=   0.3s\n",
      "[CV] xgbregressor__gamma=1.0, xgbregressor__max_depth=2, xgbregressor__n_estimators=100, xgbregressor__subsample=0.75, xgbregressor__min_child_weight=5 \n",
      "[CV]  xgbregressor__gamma=1.0, xgbregressor__max_depth=2, xgbregressor__n_estimators=100, xgbregressor__subsample=0.75, xgbregressor__min_child_weight=5, score=0.87316164613, total=   0.3s\n",
      "[CV] xgbregressor__gamma=1.0, xgbregressor__max_depth=2, xgbregressor__n_estimators=100, xgbregressor__subsample=0.75, xgbregressor__min_child_weight=5 \n",
      "[CV]  xgbregressor__gamma=1.0, xgbregressor__max_depth=2, xgbregressor__n_estimators=100, xgbregressor__subsample=0.75, xgbregressor__min_child_weight=5, score=0.848270094559, total=   0.3s\n",
      "[CV] xgbregressor__gamma=1.0, xgbregressor__max_depth=2, xgbregressor__n_estimators=100, xgbregressor__subsample=0.75, xgbregressor__min_child_weight=5 \n",
      "[CV]  xgbregressor__gamma=1.0, xgbregressor__max_depth=2, xgbregressor__n_estimators=100, xgbregressor__subsample=0.75, xgbregressor__min_child_weight=5, score=0.855468401475, total=   0.3s\n",
      "[CV] xgbregressor__gamma=1.0, xgbregressor__max_depth=2, xgbregressor__n_estimators=100, xgbregressor__subsample=0.75, xgbregressor__min_child_weight=5 \n",
      "[CV]  xgbregressor__gamma=1.0, xgbregressor__max_depth=2, xgbregressor__n_estimators=100, xgbregressor__subsample=0.75, xgbregressor__min_child_weight=5, score=0.850881614297, total=   0.3s\n",
      "[CV] xgbregressor__gamma=1.0, xgbregressor__max_depth=2, xgbregressor__n_estimators=100, xgbregressor__subsample=0.85, xgbregressor__min_child_weight=5 \n",
      "[CV]  xgbregressor__gamma=1.0, xgbregressor__max_depth=2, xgbregressor__n_estimators=100, xgbregressor__subsample=0.85, xgbregressor__min_child_weight=5, score=0.868796435555, total=   0.3s\n",
      "[CV] xgbregressor__gamma=1.0, xgbregressor__max_depth=2, xgbregressor__n_estimators=100, xgbregressor__subsample=0.85, xgbregressor__min_child_weight=5 \n",
      "[CV]  xgbregressor__gamma=1.0, xgbregressor__max_depth=2, xgbregressor__n_estimators=100, xgbregressor__subsample=0.85, xgbregressor__min_child_weight=5, score=0.872290713679, total=   0.3s\n",
      "[CV] xgbregressor__gamma=1.0, xgbregressor__max_depth=2, xgbregressor__n_estimators=100, xgbregressor__subsample=0.85, xgbregressor__min_child_weight=5 \n",
      "[CV]  xgbregressor__gamma=1.0, xgbregressor__max_depth=2, xgbregressor__n_estimators=100, xgbregressor__subsample=0.85, xgbregressor__min_child_weight=5, score=0.85221057097, total=   0.3s\n",
      "[CV] xgbregressor__gamma=1.0, xgbregressor__max_depth=2, xgbregressor__n_estimators=100, xgbregressor__subsample=0.85, xgbregressor__min_child_weight=5 \n",
      "[CV]  xgbregressor__gamma=1.0, xgbregressor__max_depth=2, xgbregressor__n_estimators=100, xgbregressor__subsample=0.85, xgbregressor__min_child_weight=5, score=0.849707274399, total=   0.3s\n",
      "[CV] xgbregressor__gamma=1.0, xgbregressor__max_depth=2, xgbregressor__n_estimators=100, xgbregressor__subsample=0.85, xgbregressor__min_child_weight=5 \n",
      "[CV]  xgbregressor__gamma=1.0, xgbregressor__max_depth=2, xgbregressor__n_estimators=100, xgbregressor__subsample=0.85, xgbregressor__min_child_weight=5, score=0.841910298496, total=   0.3s\n",
      "[CV] xgbregressor__gamma=1.0, xgbregressor__max_depth=2, xgbregressor__n_estimators=500, xgbregressor__subsample=0.65, xgbregressor__min_child_weight=5 \n"
     ]
    },
    {
     "name": "stdout",
     "output_type": "stream",
     "text": [
      "[CV]  xgbregressor__gamma=1.0, xgbregressor__max_depth=2, xgbregressor__n_estimators=500, xgbregressor__subsample=0.65, xgbregressor__min_child_weight=5, score=0.874418609797, total=   1.3s\n",
      "[CV] xgbregressor__gamma=1.0, xgbregressor__max_depth=2, xgbregressor__n_estimators=500, xgbregressor__subsample=0.65, xgbregressor__min_child_weight=5 \n",
      "[CV]  xgbregressor__gamma=1.0, xgbregressor__max_depth=2, xgbregressor__n_estimators=500, xgbregressor__subsample=0.65, xgbregressor__min_child_weight=5, score=0.872499887773, total=   1.3s\n",
      "[CV] xgbregressor__gamma=1.0, xgbregressor__max_depth=2, xgbregressor__n_estimators=500, xgbregressor__subsample=0.65, xgbregressor__min_child_weight=5 \n",
      "[CV]  xgbregressor__gamma=1.0, xgbregressor__max_depth=2, xgbregressor__n_estimators=500, xgbregressor__subsample=0.65, xgbregressor__min_child_weight=5, score=0.856361817292, total=   1.0s\n",
      "[CV] xgbregressor__gamma=1.0, xgbregressor__max_depth=2, xgbregressor__n_estimators=500, xgbregressor__subsample=0.65, xgbregressor__min_child_weight=5 \n",
      "[CV]  xgbregressor__gamma=1.0, xgbregressor__max_depth=2, xgbregressor__n_estimators=500, xgbregressor__subsample=0.65, xgbregressor__min_child_weight=5, score=0.853087249885, total=   1.1s\n",
      "[CV] xgbregressor__gamma=1.0, xgbregressor__max_depth=2, xgbregressor__n_estimators=500, xgbregressor__subsample=0.65, xgbregressor__min_child_weight=5 \n",
      "[CV]  xgbregressor__gamma=1.0, xgbregressor__max_depth=2, xgbregressor__n_estimators=500, xgbregressor__subsample=0.65, xgbregressor__min_child_weight=5, score=0.851559534847, total=   1.2s\n",
      "[CV] xgbregressor__gamma=1.0, xgbregressor__max_depth=2, xgbregressor__n_estimators=500, xgbregressor__subsample=0.75, xgbregressor__min_child_weight=5 \n",
      "[CV]  xgbregressor__gamma=1.0, xgbregressor__max_depth=2, xgbregressor__n_estimators=500, xgbregressor__subsample=0.75, xgbregressor__min_child_weight=5, score=0.876311737256, total=   1.1s\n",
      "[CV] xgbregressor__gamma=1.0, xgbregressor__max_depth=2, xgbregressor__n_estimators=500, xgbregressor__subsample=0.75, xgbregressor__min_child_weight=5 \n",
      "[CV]  xgbregressor__gamma=1.0, xgbregressor__max_depth=2, xgbregressor__n_estimators=500, xgbregressor__subsample=0.75, xgbregressor__min_child_weight=5, score=0.875409984639, total=   1.2s\n",
      "[CV] xgbregressor__gamma=1.0, xgbregressor__max_depth=2, xgbregressor__n_estimators=500, xgbregressor__subsample=0.75, xgbregressor__min_child_weight=5 \n",
      "[CV]  xgbregressor__gamma=1.0, xgbregressor__max_depth=2, xgbregressor__n_estimators=500, xgbregressor__subsample=0.75, xgbregressor__min_child_weight=5, score=0.853034588045, total=   1.2s\n",
      "[CV] xgbregressor__gamma=1.0, xgbregressor__max_depth=2, xgbregressor__n_estimators=500, xgbregressor__subsample=0.75, xgbregressor__min_child_weight=5 \n",
      "[CV]  xgbregressor__gamma=1.0, xgbregressor__max_depth=2, xgbregressor__n_estimators=500, xgbregressor__subsample=0.75, xgbregressor__min_child_weight=5, score=0.860633499053, total=   1.2s\n",
      "[CV] xgbregressor__gamma=1.0, xgbregressor__max_depth=2, xgbregressor__n_estimators=500, xgbregressor__subsample=0.75, xgbregressor__min_child_weight=5 \n",
      "[CV]  xgbregressor__gamma=1.0, xgbregressor__max_depth=2, xgbregressor__n_estimators=500, xgbregressor__subsample=0.75, xgbregressor__min_child_weight=5, score=0.855422596851, total=   1.1s\n",
      "[CV] xgbregressor__gamma=1.0, xgbregressor__max_depth=2, xgbregressor__n_estimators=500, xgbregressor__subsample=0.85, xgbregressor__min_child_weight=5 \n",
      "[CV]  xgbregressor__gamma=1.0, xgbregressor__max_depth=2, xgbregressor__n_estimators=500, xgbregressor__subsample=0.85, xgbregressor__min_child_weight=5, score=0.869856545707, total=   1.0s\n",
      "[CV] xgbregressor__gamma=1.0, xgbregressor__max_depth=2, xgbregressor__n_estimators=500, xgbregressor__subsample=0.85, xgbregressor__min_child_weight=5 \n",
      "[CV]  xgbregressor__gamma=1.0, xgbregressor__max_depth=2, xgbregressor__n_estimators=500, xgbregressor__subsample=0.85, xgbregressor__min_child_weight=5, score=0.87470015343, total=   1.2s\n",
      "[CV] xgbregressor__gamma=1.0, xgbregressor__max_depth=2, xgbregressor__n_estimators=500, xgbregressor__subsample=0.85, xgbregressor__min_child_weight=5 \n",
      "[CV]  xgbregressor__gamma=1.0, xgbregressor__max_depth=2, xgbregressor__n_estimators=500, xgbregressor__subsample=0.85, xgbregressor__min_child_weight=5, score=0.853429654123, total=   1.3s\n",
      "[CV] xgbregressor__gamma=1.0, xgbregressor__max_depth=2, xgbregressor__n_estimators=500, xgbregressor__subsample=0.85, xgbregressor__min_child_weight=5 \n",
      "[CV]  xgbregressor__gamma=1.0, xgbregressor__max_depth=2, xgbregressor__n_estimators=500, xgbregressor__subsample=0.85, xgbregressor__min_child_weight=5, score=0.852613308703, total=   1.2s\n",
      "[CV] xgbregressor__gamma=1.0, xgbregressor__max_depth=2, xgbregressor__n_estimators=500, xgbregressor__subsample=0.85, xgbregressor__min_child_weight=5 \n",
      "[CV]  xgbregressor__gamma=1.0, xgbregressor__max_depth=2, xgbregressor__n_estimators=500, xgbregressor__subsample=0.85, xgbregressor__min_child_weight=5, score=0.841905955475, total=   1.2s\n",
      "[CV] xgbregressor__gamma=1.0, xgbregressor__max_depth=3, xgbregressor__n_estimators=100, xgbregressor__subsample=0.65, xgbregressor__min_child_weight=4 \n",
      "[CV]  xgbregressor__gamma=1.0, xgbregressor__max_depth=3, xgbregressor__n_estimators=100, xgbregressor__subsample=0.65, xgbregressor__min_child_weight=4, score=0.868370760087, total=   0.4s\n",
      "[CV] xgbregressor__gamma=1.0, xgbregressor__max_depth=3, xgbregressor__n_estimators=100, xgbregressor__subsample=0.65, xgbregressor__min_child_weight=4 \n",
      "[CV]  xgbregressor__gamma=1.0, xgbregressor__max_depth=3, xgbregressor__n_estimators=100, xgbregressor__subsample=0.65, xgbregressor__min_child_weight=4, score=0.871512020103, total=   0.4s\n",
      "[CV] xgbregressor__gamma=1.0, xgbregressor__max_depth=3, xgbregressor__n_estimators=100, xgbregressor__subsample=0.65, xgbregressor__min_child_weight=4 \n",
      "[CV]  xgbregressor__gamma=1.0, xgbregressor__max_depth=3, xgbregressor__n_estimators=100, xgbregressor__subsample=0.65, xgbregressor__min_child_weight=4, score=0.851786270584, total=   0.3s\n",
      "[CV] xgbregressor__gamma=1.0, xgbregressor__max_depth=3, xgbregressor__n_estimators=100, xgbregressor__subsample=0.65, xgbregressor__min_child_weight=4 \n",
      "[CV]  xgbregressor__gamma=1.0, xgbregressor__max_depth=3, xgbregressor__n_estimators=100, xgbregressor__subsample=0.65, xgbregressor__min_child_weight=4, score=0.849332561901, total=   0.4s\n",
      "[CV] xgbregressor__gamma=1.0, xgbregressor__max_depth=3, xgbregressor__n_estimators=100, xgbregressor__subsample=0.65, xgbregressor__min_child_weight=4 \n",
      "[CV]  xgbregressor__gamma=1.0, xgbregressor__max_depth=3, xgbregressor__n_estimators=100, xgbregressor__subsample=0.65, xgbregressor__min_child_weight=4, score=0.850905602703, total=   0.4s\n",
      "[CV] xgbregressor__gamma=1.0, xgbregressor__max_depth=3, xgbregressor__n_estimators=100, xgbregressor__subsample=0.75, xgbregressor__min_child_weight=4 \n",
      "[CV]  xgbregressor__gamma=1.0, xgbregressor__max_depth=3, xgbregressor__n_estimators=100, xgbregressor__subsample=0.75, xgbregressor__min_child_weight=4, score=0.869129104489, total=   0.4s\n",
      "[CV] xgbregressor__gamma=1.0, xgbregressor__max_depth=3, xgbregressor__n_estimators=100, xgbregressor__subsample=0.75, xgbregressor__min_child_weight=4 \n",
      "[CV]  xgbregressor__gamma=1.0, xgbregressor__max_depth=3, xgbregressor__n_estimators=100, xgbregressor__subsample=0.75, xgbregressor__min_child_weight=4, score=0.873074666638, total=   0.4s\n",
      "[CV] xgbregressor__gamma=1.0, xgbregressor__max_depth=3, xgbregressor__n_estimators=100, xgbregressor__subsample=0.75, xgbregressor__min_child_weight=4 \n",
      "[CV]  xgbregressor__gamma=1.0, xgbregressor__max_depth=3, xgbregressor__n_estimators=100, xgbregressor__subsample=0.75, xgbregressor__min_child_weight=4, score=0.849985674312, total=   0.4s\n",
      "[CV] xgbregressor__gamma=1.0, xgbregressor__max_depth=3, xgbregressor__n_estimators=100, xgbregressor__subsample=0.75, xgbregressor__min_child_weight=4 \n",
      "[CV]  xgbregressor__gamma=1.0, xgbregressor__max_depth=3, xgbregressor__n_estimators=100, xgbregressor__subsample=0.75, xgbregressor__min_child_weight=4, score=0.851859069379, total=   0.3s\n",
      "[CV] xgbregressor__gamma=1.0, xgbregressor__max_depth=3, xgbregressor__n_estimators=100, xgbregressor__subsample=0.75, xgbregressor__min_child_weight=4 \n"
     ]
    },
    {
     "name": "stdout",
     "output_type": "stream",
     "text": [
      "[CV]  xgbregressor__gamma=1.0, xgbregressor__max_depth=3, xgbregressor__n_estimators=100, xgbregressor__subsample=0.75, xgbregressor__min_child_weight=4, score=0.846462632158, total=   0.3s\n",
      "[CV] xgbregressor__gamma=1.0, xgbregressor__max_depth=3, xgbregressor__n_estimators=100, xgbregressor__subsample=0.85, xgbregressor__min_child_weight=4 \n",
      "[CV]  xgbregressor__gamma=1.0, xgbregressor__max_depth=3, xgbregressor__n_estimators=100, xgbregressor__subsample=0.85, xgbregressor__min_child_weight=4, score=0.868890740818, total=   0.3s\n",
      "[CV] xgbregressor__gamma=1.0, xgbregressor__max_depth=3, xgbregressor__n_estimators=100, xgbregressor__subsample=0.85, xgbregressor__min_child_weight=4 \n",
      "[CV]  xgbregressor__gamma=1.0, xgbregressor__max_depth=3, xgbregressor__n_estimators=100, xgbregressor__subsample=0.85, xgbregressor__min_child_weight=4, score=0.872119316018, total=   0.3s\n",
      "[CV] xgbregressor__gamma=1.0, xgbregressor__max_depth=3, xgbregressor__n_estimators=100, xgbregressor__subsample=0.85, xgbregressor__min_child_weight=4 \n",
      "[CV]  xgbregressor__gamma=1.0, xgbregressor__max_depth=3, xgbregressor__n_estimators=100, xgbregressor__subsample=0.85, xgbregressor__min_child_weight=4, score=0.852732332244, total=   0.4s\n",
      "[CV] xgbregressor__gamma=1.0, xgbregressor__max_depth=3, xgbregressor__n_estimators=100, xgbregressor__subsample=0.85, xgbregressor__min_child_weight=4 \n",
      "[CV]  xgbregressor__gamma=1.0, xgbregressor__max_depth=3, xgbregressor__n_estimators=100, xgbregressor__subsample=0.85, xgbregressor__min_child_weight=4, score=0.852251634994, total=   0.3s\n",
      "[CV] xgbregressor__gamma=1.0, xgbregressor__max_depth=3, xgbregressor__n_estimators=100, xgbregressor__subsample=0.85, xgbregressor__min_child_weight=4 \n",
      "[CV]  xgbregressor__gamma=1.0, xgbregressor__max_depth=3, xgbregressor__n_estimators=100, xgbregressor__subsample=0.85, xgbregressor__min_child_weight=4, score=0.844655439233, total=   0.3s\n",
      "[CV] xgbregressor__gamma=1.0, xgbregressor__max_depth=3, xgbregressor__n_estimators=500, xgbregressor__subsample=0.65, xgbregressor__min_child_weight=4 \n",
      "[CV]  xgbregressor__gamma=1.0, xgbregressor__max_depth=3, xgbregressor__n_estimators=500, xgbregressor__subsample=0.65, xgbregressor__min_child_weight=4, score=0.873955685545, total=   1.8s\n",
      "[CV] xgbregressor__gamma=1.0, xgbregressor__max_depth=3, xgbregressor__n_estimators=500, xgbregressor__subsample=0.65, xgbregressor__min_child_weight=4 \n",
      "[CV]  xgbregressor__gamma=1.0, xgbregressor__max_depth=3, xgbregressor__n_estimators=500, xgbregressor__subsample=0.65, xgbregressor__min_child_weight=4, score=0.873039364757, total=   1.9s\n",
      "[CV] xgbregressor__gamma=1.0, xgbregressor__max_depth=3, xgbregressor__n_estimators=500, xgbregressor__subsample=0.65, xgbregressor__min_child_weight=4 \n",
      "[CV]  xgbregressor__gamma=1.0, xgbregressor__max_depth=3, xgbregressor__n_estimators=500, xgbregressor__subsample=0.65, xgbregressor__min_child_weight=4, score=0.855593289012, total=   1.9s\n",
      "[CV] xgbregressor__gamma=1.0, xgbregressor__max_depth=3, xgbregressor__n_estimators=500, xgbregressor__subsample=0.65, xgbregressor__min_child_weight=4 \n",
      "[CV]  xgbregressor__gamma=1.0, xgbregressor__max_depth=3, xgbregressor__n_estimators=500, xgbregressor__subsample=0.65, xgbregressor__min_child_weight=4, score=0.853755134731, total=   1.8s\n",
      "[CV] xgbregressor__gamma=1.0, xgbregressor__max_depth=3, xgbregressor__n_estimators=500, xgbregressor__subsample=0.65, xgbregressor__min_child_weight=4 \n",
      "[CV]  xgbregressor__gamma=1.0, xgbregressor__max_depth=3, xgbregressor__n_estimators=500, xgbregressor__subsample=0.65, xgbregressor__min_child_weight=4, score=0.854171394489, total=   1.7s\n",
      "[CV] xgbregressor__gamma=1.0, xgbregressor__max_depth=3, xgbregressor__n_estimators=500, xgbregressor__subsample=0.75, xgbregressor__min_child_weight=4 \n",
      "[CV]  xgbregressor__gamma=1.0, xgbregressor__max_depth=3, xgbregressor__n_estimators=500, xgbregressor__subsample=0.75, xgbregressor__min_child_weight=4, score=0.874858461592, total=   1.6s\n",
      "[CV] xgbregressor__gamma=1.0, xgbregressor__max_depth=3, xgbregressor__n_estimators=500, xgbregressor__subsample=0.75, xgbregressor__min_child_weight=4 \n",
      "[CV]  xgbregressor__gamma=1.0, xgbregressor__max_depth=3, xgbregressor__n_estimators=500, xgbregressor__subsample=0.75, xgbregressor__min_child_weight=4, score=0.874863702243, total=   1.5s\n",
      "[CV] xgbregressor__gamma=1.0, xgbregressor__max_depth=3, xgbregressor__n_estimators=500, xgbregressor__subsample=0.75, xgbregressor__min_child_weight=4 \n",
      "[CV]  xgbregressor__gamma=1.0, xgbregressor__max_depth=3, xgbregressor__n_estimators=500, xgbregressor__subsample=0.75, xgbregressor__min_child_weight=4, score=0.853612906577, total=   1.6s\n",
      "[CV] xgbregressor__gamma=1.0, xgbregressor__max_depth=3, xgbregressor__n_estimators=500, xgbregressor__subsample=0.75, xgbregressor__min_child_weight=4 \n",
      "[CV]  xgbregressor__gamma=1.0, xgbregressor__max_depth=3, xgbregressor__n_estimators=500, xgbregressor__subsample=0.75, xgbregressor__min_child_weight=4, score=0.858232479319, total=   1.6s\n",
      "[CV] xgbregressor__gamma=1.0, xgbregressor__max_depth=3, xgbregressor__n_estimators=500, xgbregressor__subsample=0.75, xgbregressor__min_child_weight=4 \n",
      "[CV]  xgbregressor__gamma=1.0, xgbregressor__max_depth=3, xgbregressor__n_estimators=500, xgbregressor__subsample=0.75, xgbregressor__min_child_weight=4, score=0.850579601053, total=   1.7s\n",
      "[CV] xgbregressor__gamma=1.0, xgbregressor__max_depth=3, xgbregressor__n_estimators=500, xgbregressor__subsample=0.85, xgbregressor__min_child_weight=4 \n",
      "[CV]  xgbregressor__gamma=1.0, xgbregressor__max_depth=3, xgbregressor__n_estimators=500, xgbregressor__subsample=0.85, xgbregressor__min_child_weight=4, score=0.869911888271, total=   1.9s\n",
      "[CV] xgbregressor__gamma=1.0, xgbregressor__max_depth=3, xgbregressor__n_estimators=500, xgbregressor__subsample=0.85, xgbregressor__min_child_weight=4 \n",
      "[CV]  xgbregressor__gamma=1.0, xgbregressor__max_depth=3, xgbregressor__n_estimators=500, xgbregressor__subsample=0.85, xgbregressor__min_child_weight=4, score=0.874065772577, total=   1.8s\n",
      "[CV] xgbregressor__gamma=1.0, xgbregressor__max_depth=3, xgbregressor__n_estimators=500, xgbregressor__subsample=0.85, xgbregressor__min_child_weight=4 \n",
      "[CV]  xgbregressor__gamma=1.0, xgbregressor__max_depth=3, xgbregressor__n_estimators=500, xgbregressor__subsample=0.85, xgbregressor__min_child_weight=4, score=0.852689276512, total=   1.7s\n",
      "[CV] xgbregressor__gamma=1.0, xgbregressor__max_depth=3, xgbregressor__n_estimators=500, xgbregressor__subsample=0.85, xgbregressor__min_child_weight=4 \n",
      "[CV]  xgbregressor__gamma=1.0, xgbregressor__max_depth=3, xgbregressor__n_estimators=500, xgbregressor__subsample=0.85, xgbregressor__min_child_weight=4, score=0.855268770777, total=   1.9s\n",
      "[CV] xgbregressor__gamma=1.0, xgbregressor__max_depth=3, xgbregressor__n_estimators=500, xgbregressor__subsample=0.85, xgbregressor__min_child_weight=4 \n",
      "[CV]  xgbregressor__gamma=1.0, xgbregressor__max_depth=3, xgbregressor__n_estimators=500, xgbregressor__subsample=0.85, xgbregressor__min_child_weight=4, score=0.847650400912, total=   1.9s\n",
      "[CV] xgbregressor__gamma=1.0, xgbregressor__max_depth=3, xgbregressor__n_estimators=100, xgbregressor__subsample=0.65, xgbregressor__min_child_weight=5 \n",
      "[CV]  xgbregressor__gamma=1.0, xgbregressor__max_depth=3, xgbregressor__n_estimators=100, xgbregressor__subsample=0.65, xgbregressor__min_child_weight=5, score=0.871119159231, total=   0.4s\n",
      "[CV] xgbregressor__gamma=1.0, xgbregressor__max_depth=3, xgbregressor__n_estimators=100, xgbregressor__subsample=0.65, xgbregressor__min_child_weight=5 \n",
      "[CV]  xgbregressor__gamma=1.0, xgbregressor__max_depth=3, xgbregressor__n_estimators=100, xgbregressor__subsample=0.65, xgbregressor__min_child_weight=5, score=0.871512020103, total=   0.4s\n",
      "[CV] xgbregressor__gamma=1.0, xgbregressor__max_depth=3, xgbregressor__n_estimators=100, xgbregressor__subsample=0.65, xgbregressor__min_child_weight=5 \n",
      "[CV]  xgbregressor__gamma=1.0, xgbregressor__max_depth=3, xgbregressor__n_estimators=100, xgbregressor__subsample=0.65, xgbregressor__min_child_weight=5, score=0.850355728112, total=   0.4s\n",
      "[CV] xgbregressor__gamma=1.0, xgbregressor__max_depth=3, xgbregressor__n_estimators=100, xgbregressor__subsample=0.65, xgbregressor__min_child_weight=5 \n"
     ]
    },
    {
     "name": "stdout",
     "output_type": "stream",
     "text": [
      "[CV]  xgbregressor__gamma=1.0, xgbregressor__max_depth=3, xgbregressor__n_estimators=100, xgbregressor__subsample=0.65, xgbregressor__min_child_weight=5, score=0.849332561901, total=   0.4s\n",
      "[CV] xgbregressor__gamma=1.0, xgbregressor__max_depth=3, xgbregressor__n_estimators=100, xgbregressor__subsample=0.65, xgbregressor__min_child_weight=5 \n",
      "[CV]  xgbregressor__gamma=1.0, xgbregressor__max_depth=3, xgbregressor__n_estimators=100, xgbregressor__subsample=0.65, xgbregressor__min_child_weight=5, score=0.848477763414, total=   0.4s\n",
      "[CV] xgbregressor__gamma=1.0, xgbregressor__max_depth=3, xgbregressor__n_estimators=100, xgbregressor__subsample=0.75, xgbregressor__min_child_weight=5 \n",
      "[CV]  xgbregressor__gamma=1.0, xgbregressor__max_depth=3, xgbregressor__n_estimators=100, xgbregressor__subsample=0.75, xgbregressor__min_child_weight=5, score=0.869467874496, total=   0.4s\n",
      "[CV] xgbregressor__gamma=1.0, xgbregressor__max_depth=3, xgbregressor__n_estimators=100, xgbregressor__subsample=0.75, xgbregressor__min_child_weight=5 \n",
      "[CV]  xgbregressor__gamma=1.0, xgbregressor__max_depth=3, xgbregressor__n_estimators=100, xgbregressor__subsample=0.75, xgbregressor__min_child_weight=5, score=0.872362809772, total=   0.4s\n",
      "[CV] xgbregressor__gamma=1.0, xgbregressor__max_depth=3, xgbregressor__n_estimators=100, xgbregressor__subsample=0.75, xgbregressor__min_child_weight=5 \n",
      "[CV]  xgbregressor__gamma=1.0, xgbregressor__max_depth=3, xgbregressor__n_estimators=100, xgbregressor__subsample=0.75, xgbregressor__min_child_weight=5, score=0.848606744139, total=   0.4s\n",
      "[CV] xgbregressor__gamma=1.0, xgbregressor__max_depth=3, xgbregressor__n_estimators=100, xgbregressor__subsample=0.75, xgbregressor__min_child_weight=5 \n",
      "[CV]  xgbregressor__gamma=1.0, xgbregressor__max_depth=3, xgbregressor__n_estimators=100, xgbregressor__subsample=0.75, xgbregressor__min_child_weight=5, score=0.853467891121, total=   0.4s\n",
      "[CV] xgbregressor__gamma=1.0, xgbregressor__max_depth=3, xgbregressor__n_estimators=100, xgbregressor__subsample=0.75, xgbregressor__min_child_weight=5 \n",
      "[CV]  xgbregressor__gamma=1.0, xgbregressor__max_depth=3, xgbregressor__n_estimators=100, xgbregressor__subsample=0.75, xgbregressor__min_child_weight=5, score=0.851995018809, total=   0.4s\n",
      "[CV] xgbregressor__gamma=1.0, xgbregressor__max_depth=3, xgbregressor__n_estimators=100, xgbregressor__subsample=0.85, xgbregressor__min_child_weight=5 \n",
      "[CV]  xgbregressor__gamma=1.0, xgbregressor__max_depth=3, xgbregressor__n_estimators=100, xgbregressor__subsample=0.85, xgbregressor__min_child_weight=5, score=0.869422566152, total=   0.3s\n",
      "[CV] xgbregressor__gamma=1.0, xgbregressor__max_depth=3, xgbregressor__n_estimators=100, xgbregressor__subsample=0.85, xgbregressor__min_child_weight=5 \n",
      "[CV]  xgbregressor__gamma=1.0, xgbregressor__max_depth=3, xgbregressor__n_estimators=100, xgbregressor__subsample=0.85, xgbregressor__min_child_weight=5, score=0.872119316018, total=   0.3s\n",
      "[CV] xgbregressor__gamma=1.0, xgbregressor__max_depth=3, xgbregressor__n_estimators=100, xgbregressor__subsample=0.85, xgbregressor__min_child_weight=5 \n",
      "[CV]  xgbregressor__gamma=1.0, xgbregressor__max_depth=3, xgbregressor__n_estimators=100, xgbregressor__subsample=0.85, xgbregressor__min_child_weight=5, score=0.85268391263, total=   0.4s\n",
      "[CV] xgbregressor__gamma=1.0, xgbregressor__max_depth=3, xgbregressor__n_estimators=100, xgbregressor__subsample=0.85, xgbregressor__min_child_weight=5 \n",
      "[CV]  xgbregressor__gamma=1.0, xgbregressor__max_depth=3, xgbregressor__n_estimators=100, xgbregressor__subsample=0.85, xgbregressor__min_child_weight=5, score=0.852251634994, total=   0.4s\n",
      "[CV] xgbregressor__gamma=1.0, xgbregressor__max_depth=3, xgbregressor__n_estimators=100, xgbregressor__subsample=0.85, xgbregressor__min_child_weight=5 \n",
      "[CV]  xgbregressor__gamma=1.0, xgbregressor__max_depth=3, xgbregressor__n_estimators=100, xgbregressor__subsample=0.85, xgbregressor__min_child_weight=5, score=0.848725501406, total=   0.4s\n",
      "[CV] xgbregressor__gamma=1.0, xgbregressor__max_depth=3, xgbregressor__n_estimators=500, xgbregressor__subsample=0.65, xgbregressor__min_child_weight=5 \n",
      "[CV]  xgbregressor__gamma=1.0, xgbregressor__max_depth=3, xgbregressor__n_estimators=500, xgbregressor__subsample=0.65, xgbregressor__min_child_weight=5, score=0.874059688815, total=   2.0s\n",
      "[CV] xgbregressor__gamma=1.0, xgbregressor__max_depth=3, xgbregressor__n_estimators=500, xgbregressor__subsample=0.65, xgbregressor__min_child_weight=5 \n",
      "[CV]  xgbregressor__gamma=1.0, xgbregressor__max_depth=3, xgbregressor__n_estimators=500, xgbregressor__subsample=0.65, xgbregressor__min_child_weight=5, score=0.873039364757, total=   1.7s\n",
      "[CV] xgbregressor__gamma=1.0, xgbregressor__max_depth=3, xgbregressor__n_estimators=500, xgbregressor__subsample=0.65, xgbregressor__min_child_weight=5 \n",
      "[CV]  xgbregressor__gamma=1.0, xgbregressor__max_depth=3, xgbregressor__n_estimators=500, xgbregressor__subsample=0.65, xgbregressor__min_child_weight=5, score=0.855117987593, total=   1.6s\n",
      "[CV] xgbregressor__gamma=1.0, xgbregressor__max_depth=3, xgbregressor__n_estimators=500, xgbregressor__subsample=0.65, xgbregressor__min_child_weight=5 \n",
      "[CV]  xgbregressor__gamma=1.0, xgbregressor__max_depth=3, xgbregressor__n_estimators=500, xgbregressor__subsample=0.65, xgbregressor__min_child_weight=5, score=0.853755134731, total=   1.6s\n",
      "[CV] xgbregressor__gamma=1.0, xgbregressor__max_depth=3, xgbregressor__n_estimators=500, xgbregressor__subsample=0.65, xgbregressor__min_child_weight=5 \n",
      "[CV]  xgbregressor__gamma=1.0, xgbregressor__max_depth=3, xgbregressor__n_estimators=500, xgbregressor__subsample=0.65, xgbregressor__min_child_weight=5, score=0.85176127407, total=   1.7s\n",
      "[CV] xgbregressor__gamma=1.0, xgbregressor__max_depth=3, xgbregressor__n_estimators=500, xgbregressor__subsample=0.75, xgbregressor__min_child_weight=5 \n",
      "[CV]  xgbregressor__gamma=1.0, xgbregressor__max_depth=3, xgbregressor__n_estimators=500, xgbregressor__subsample=0.75, xgbregressor__min_child_weight=5, score=0.874346037442, total=   1.5s\n",
      "[CV] xgbregressor__gamma=1.0, xgbregressor__max_depth=3, xgbregressor__n_estimators=500, xgbregressor__subsample=0.75, xgbregressor__min_child_weight=5 \n",
      "[CV]  xgbregressor__gamma=1.0, xgbregressor__max_depth=3, xgbregressor__n_estimators=500, xgbregressor__subsample=0.75, xgbregressor__min_child_weight=5, score=0.873901687239, total=   1.7s\n",
      "[CV] xgbregressor__gamma=1.0, xgbregressor__max_depth=3, xgbregressor__n_estimators=500, xgbregressor__subsample=0.75, xgbregressor__min_child_weight=5 \n",
      "[CV]  xgbregressor__gamma=1.0, xgbregressor__max_depth=3, xgbregressor__n_estimators=500, xgbregressor__subsample=0.75, xgbregressor__min_child_weight=5, score=0.852276886895, total=   1.6s\n",
      "[CV] xgbregressor__gamma=1.0, xgbregressor__max_depth=3, xgbregressor__n_estimators=500, xgbregressor__subsample=0.75, xgbregressor__min_child_weight=5 \n",
      "[CV]  xgbregressor__gamma=1.0, xgbregressor__max_depth=3, xgbregressor__n_estimators=500, xgbregressor__subsample=0.75, xgbregressor__min_child_weight=5, score=0.856050790426, total=   1.7s\n",
      "[CV] xgbregressor__gamma=1.0, xgbregressor__max_depth=3, xgbregressor__n_estimators=500, xgbregressor__subsample=0.75, xgbregressor__min_child_weight=5 \n",
      "[CV]  xgbregressor__gamma=1.0, xgbregressor__max_depth=3, xgbregressor__n_estimators=500, xgbregressor__subsample=0.75, xgbregressor__min_child_weight=5, score=0.854909945757, total=   2.0s\n",
      "[CV] xgbregressor__gamma=1.0, xgbregressor__max_depth=3, xgbregressor__n_estimators=500, xgbregressor__subsample=0.85, xgbregressor__min_child_weight=5 \n",
      "[CV]  xgbregressor__gamma=1.0, xgbregressor__max_depth=3, xgbregressor__n_estimators=500, xgbregressor__subsample=0.85, xgbregressor__min_child_weight=5, score=0.871992899095, total=   1.8s\n",
      "[CV] xgbregressor__gamma=1.0, xgbregressor__max_depth=3, xgbregressor__n_estimators=500, xgbregressor__subsample=0.85, xgbregressor__min_child_weight=5 \n",
      "[CV]  xgbregressor__gamma=1.0, xgbregressor__max_depth=3, xgbregressor__n_estimators=500, xgbregressor__subsample=0.85, xgbregressor__min_child_weight=5, score=0.874065772577, total=   1.7s\n",
      "[CV] xgbregressor__gamma=1.0, xgbregressor__max_depth=3, xgbregressor__n_estimators=500, xgbregressor__subsample=0.85, xgbregressor__min_child_weight=5 \n"
     ]
    },
    {
     "name": "stdout",
     "output_type": "stream",
     "text": [
      "[CV]  xgbregressor__gamma=1.0, xgbregressor__max_depth=3, xgbregressor__n_estimators=500, xgbregressor__subsample=0.85, xgbregressor__min_child_weight=5, score=0.853193127719, total=   1.9s\n",
      "[CV] xgbregressor__gamma=1.0, xgbregressor__max_depth=3, xgbregressor__n_estimators=500, xgbregressor__subsample=0.85, xgbregressor__min_child_weight=5 \n",
      "[CV]  xgbregressor__gamma=1.0, xgbregressor__max_depth=3, xgbregressor__n_estimators=500, xgbregressor__subsample=0.85, xgbregressor__min_child_weight=5, score=0.855268770777, total=   1.6s\n",
      "[CV] xgbregressor__gamma=1.0, xgbregressor__max_depth=3, xgbregressor__n_estimators=500, xgbregressor__subsample=0.85, xgbregressor__min_child_weight=5 \n",
      "[CV]  xgbregressor__gamma=1.0, xgbregressor__max_depth=3, xgbregressor__n_estimators=500, xgbregressor__subsample=0.85, xgbregressor__min_child_weight=5, score=0.849939111495, total=   1.8s\n",
      "[CV] xgbregressor__gamma=1.0, xgbregressor__max_depth=4, xgbregressor__n_estimators=100, xgbregressor__subsample=0.65, xgbregressor__min_child_weight=4 \n",
      "[CV]  xgbregressor__gamma=1.0, xgbregressor__max_depth=4, xgbregressor__n_estimators=100, xgbregressor__subsample=0.65, xgbregressor__min_child_weight=4, score=0.868370760087, total=   0.5s\n",
      "[CV] xgbregressor__gamma=1.0, xgbregressor__max_depth=4, xgbregressor__n_estimators=100, xgbregressor__subsample=0.65, xgbregressor__min_child_weight=4 \n",
      "[CV]  xgbregressor__gamma=1.0, xgbregressor__max_depth=4, xgbregressor__n_estimators=100, xgbregressor__subsample=0.65, xgbregressor__min_child_weight=4, score=0.871512020103, total=   0.5s\n",
      "[CV] xgbregressor__gamma=1.0, xgbregressor__max_depth=4, xgbregressor__n_estimators=100, xgbregressor__subsample=0.65, xgbregressor__min_child_weight=4 \n",
      "[CV]  xgbregressor__gamma=1.0, xgbregressor__max_depth=4, xgbregressor__n_estimators=100, xgbregressor__subsample=0.65, xgbregressor__min_child_weight=4, score=0.851786270584, total=   0.5s\n",
      "[CV] xgbregressor__gamma=1.0, xgbregressor__max_depth=4, xgbregressor__n_estimators=100, xgbregressor__subsample=0.65, xgbregressor__min_child_weight=4 \n",
      "[CV]  xgbregressor__gamma=1.0, xgbregressor__max_depth=4, xgbregressor__n_estimators=100, xgbregressor__subsample=0.65, xgbregressor__min_child_weight=4, score=0.849332561901, total=   0.5s\n",
      "[CV] xgbregressor__gamma=1.0, xgbregressor__max_depth=4, xgbregressor__n_estimators=100, xgbregressor__subsample=0.65, xgbregressor__min_child_weight=4 \n",
      "[CV]  xgbregressor__gamma=1.0, xgbregressor__max_depth=4, xgbregressor__n_estimators=100, xgbregressor__subsample=0.65, xgbregressor__min_child_weight=4, score=0.850905602703, total=   0.5s\n",
      "[CV] xgbregressor__gamma=1.0, xgbregressor__max_depth=4, xgbregressor__n_estimators=100, xgbregressor__subsample=0.75, xgbregressor__min_child_weight=4 \n",
      "[CV]  xgbregressor__gamma=1.0, xgbregressor__max_depth=4, xgbregressor__n_estimators=100, xgbregressor__subsample=0.75, xgbregressor__min_child_weight=4, score=0.869129104489, total=   0.4s\n",
      "[CV] xgbregressor__gamma=1.0, xgbregressor__max_depth=4, xgbregressor__n_estimators=100, xgbregressor__subsample=0.75, xgbregressor__min_child_weight=4 \n",
      "[CV]  xgbregressor__gamma=1.0, xgbregressor__max_depth=4, xgbregressor__n_estimators=100, xgbregressor__subsample=0.75, xgbregressor__min_child_weight=4, score=0.873074666638, total=   0.4s\n",
      "[CV] xgbregressor__gamma=1.0, xgbregressor__max_depth=4, xgbregressor__n_estimators=100, xgbregressor__subsample=0.75, xgbregressor__min_child_weight=4 \n",
      "[CV]  xgbregressor__gamma=1.0, xgbregressor__max_depth=4, xgbregressor__n_estimators=100, xgbregressor__subsample=0.75, xgbregressor__min_child_weight=4, score=0.849985674312, total=   0.5s\n",
      "[CV] xgbregressor__gamma=1.0, xgbregressor__max_depth=4, xgbregressor__n_estimators=100, xgbregressor__subsample=0.75, xgbregressor__min_child_weight=4 \n",
      "[CV]  xgbregressor__gamma=1.0, xgbregressor__max_depth=4, xgbregressor__n_estimators=100, xgbregressor__subsample=0.75, xgbregressor__min_child_weight=4, score=0.851859069379, total=   0.4s\n",
      "[CV] xgbregressor__gamma=1.0, xgbregressor__max_depth=4, xgbregressor__n_estimators=100, xgbregressor__subsample=0.75, xgbregressor__min_child_weight=4 \n",
      "[CV]  xgbregressor__gamma=1.0, xgbregressor__max_depth=4, xgbregressor__n_estimators=100, xgbregressor__subsample=0.75, xgbregressor__min_child_weight=4, score=0.847657816555, total=   0.5s\n",
      "[CV] xgbregressor__gamma=1.0, xgbregressor__max_depth=4, xgbregressor__n_estimators=100, xgbregressor__subsample=0.85, xgbregressor__min_child_weight=4 \n",
      "[CV]  xgbregressor__gamma=1.0, xgbregressor__max_depth=4, xgbregressor__n_estimators=100, xgbregressor__subsample=0.85, xgbregressor__min_child_weight=4, score=0.868890740818, total=   0.4s\n",
      "[CV] xgbregressor__gamma=1.0, xgbregressor__max_depth=4, xgbregressor__n_estimators=100, xgbregressor__subsample=0.85, xgbregressor__min_child_weight=4 \n",
      "[CV]  xgbregressor__gamma=1.0, xgbregressor__max_depth=4, xgbregressor__n_estimators=100, xgbregressor__subsample=0.85, xgbregressor__min_child_weight=4, score=0.872119316018, total=   0.4s\n",
      "[CV] xgbregressor__gamma=1.0, xgbregressor__max_depth=4, xgbregressor__n_estimators=100, xgbregressor__subsample=0.85, xgbregressor__min_child_weight=4 \n",
      "[CV]  xgbregressor__gamma=1.0, xgbregressor__max_depth=4, xgbregressor__n_estimators=100, xgbregressor__subsample=0.85, xgbregressor__min_child_weight=4, score=0.852732332244, total=   0.4s\n",
      "[CV] xgbregressor__gamma=1.0, xgbregressor__max_depth=4, xgbregressor__n_estimators=100, xgbregressor__subsample=0.85, xgbregressor__min_child_weight=4 \n",
      "[CV]  xgbregressor__gamma=1.0, xgbregressor__max_depth=4, xgbregressor__n_estimators=100, xgbregressor__subsample=0.85, xgbregressor__min_child_weight=4, score=0.852251634994, total=   0.4s\n",
      "[CV] xgbregressor__gamma=1.0, xgbregressor__max_depth=4, xgbregressor__n_estimators=100, xgbregressor__subsample=0.85, xgbregressor__min_child_weight=4 \n",
      "[CV]  xgbregressor__gamma=1.0, xgbregressor__max_depth=4, xgbregressor__n_estimators=100, xgbregressor__subsample=0.85, xgbregressor__min_child_weight=4, score=0.844655439233, total=   0.5s\n",
      "[CV] xgbregressor__gamma=1.0, xgbregressor__max_depth=4, xgbregressor__n_estimators=500, xgbregressor__subsample=0.65, xgbregressor__min_child_weight=4 \n",
      "[CV]  xgbregressor__gamma=1.0, xgbregressor__max_depth=4, xgbregressor__n_estimators=500, xgbregressor__subsample=0.65, xgbregressor__min_child_weight=4, score=0.873955685545, total=   2.3s\n",
      "[CV] xgbregressor__gamma=1.0, xgbregressor__max_depth=4, xgbregressor__n_estimators=500, xgbregressor__subsample=0.65, xgbregressor__min_child_weight=4 \n",
      "[CV]  xgbregressor__gamma=1.0, xgbregressor__max_depth=4, xgbregressor__n_estimators=500, xgbregressor__subsample=0.65, xgbregressor__min_child_weight=4, score=0.873039364757, total=   2.2s\n",
      "[CV] xgbregressor__gamma=1.0, xgbregressor__max_depth=4, xgbregressor__n_estimators=500, xgbregressor__subsample=0.65, xgbregressor__min_child_weight=4 \n",
      "[CV]  xgbregressor__gamma=1.0, xgbregressor__max_depth=4, xgbregressor__n_estimators=500, xgbregressor__subsample=0.65, xgbregressor__min_child_weight=4, score=0.855593289012, total=   2.1s\n",
      "[CV] xgbregressor__gamma=1.0, xgbregressor__max_depth=4, xgbregressor__n_estimators=500, xgbregressor__subsample=0.65, xgbregressor__min_child_weight=4 \n",
      "[CV]  xgbregressor__gamma=1.0, xgbregressor__max_depth=4, xgbregressor__n_estimators=500, xgbregressor__subsample=0.65, xgbregressor__min_child_weight=4, score=0.853755134731, total=   2.3s\n",
      "[CV] xgbregressor__gamma=1.0, xgbregressor__max_depth=4, xgbregressor__n_estimators=500, xgbregressor__subsample=0.65, xgbregressor__min_child_weight=4 \n",
      "[CV]  xgbregressor__gamma=1.0, xgbregressor__max_depth=4, xgbregressor__n_estimators=500, xgbregressor__subsample=0.65, xgbregressor__min_child_weight=4, score=0.854171394489, total=   2.1s\n",
      "[CV] xgbregressor__gamma=1.0, xgbregressor__max_depth=4, xgbregressor__n_estimators=500, xgbregressor__subsample=0.75, xgbregressor__min_child_weight=4 \n",
      "[CV]  xgbregressor__gamma=1.0, xgbregressor__max_depth=4, xgbregressor__n_estimators=500, xgbregressor__subsample=0.75, xgbregressor__min_child_weight=4, score=0.874858461592, total=   2.2s\n",
      "[CV] xgbregressor__gamma=1.0, xgbregressor__max_depth=4, xgbregressor__n_estimators=500, xgbregressor__subsample=0.75, xgbregressor__min_child_weight=4 \n"
     ]
    },
    {
     "name": "stdout",
     "output_type": "stream",
     "text": [
      "[CV]  xgbregressor__gamma=1.0, xgbregressor__max_depth=4, xgbregressor__n_estimators=500, xgbregressor__subsample=0.75, xgbregressor__min_child_weight=4, score=0.874863702243, total=   2.3s\n",
      "[CV] xgbregressor__gamma=1.0, xgbregressor__max_depth=4, xgbregressor__n_estimators=500, xgbregressor__subsample=0.75, xgbregressor__min_child_weight=4 \n",
      "[CV]  xgbregressor__gamma=1.0, xgbregressor__max_depth=4, xgbregressor__n_estimators=500, xgbregressor__subsample=0.75, xgbregressor__min_child_weight=4, score=0.853612906577, total=   2.2s\n",
      "[CV] xgbregressor__gamma=1.0, xgbregressor__max_depth=4, xgbregressor__n_estimators=500, xgbregressor__subsample=0.75, xgbregressor__min_child_weight=4 \n",
      "[CV]  xgbregressor__gamma=1.0, xgbregressor__max_depth=4, xgbregressor__n_estimators=500, xgbregressor__subsample=0.75, xgbregressor__min_child_weight=4, score=0.858232479319, total=   2.5s\n",
      "[CV] xgbregressor__gamma=1.0, xgbregressor__max_depth=4, xgbregressor__n_estimators=500, xgbregressor__subsample=0.75, xgbregressor__min_child_weight=4 \n",
      "[CV]  xgbregressor__gamma=1.0, xgbregressor__max_depth=4, xgbregressor__n_estimators=500, xgbregressor__subsample=0.75, xgbregressor__min_child_weight=4, score=0.85098112901, total=   2.4s\n",
      "[CV] xgbregressor__gamma=1.0, xgbregressor__max_depth=4, xgbregressor__n_estimators=500, xgbregressor__subsample=0.85, xgbregressor__min_child_weight=4 \n",
      "[CV]  xgbregressor__gamma=1.0, xgbregressor__max_depth=4, xgbregressor__n_estimators=500, xgbregressor__subsample=0.85, xgbregressor__min_child_weight=4, score=0.869911888271, total=   2.5s\n",
      "[CV] xgbregressor__gamma=1.0, xgbregressor__max_depth=4, xgbregressor__n_estimators=500, xgbregressor__subsample=0.85, xgbregressor__min_child_weight=4 \n",
      "[CV]  xgbregressor__gamma=1.0, xgbregressor__max_depth=4, xgbregressor__n_estimators=500, xgbregressor__subsample=0.85, xgbregressor__min_child_weight=4, score=0.874065772577, total=   2.5s\n",
      "[CV] xgbregressor__gamma=1.0, xgbregressor__max_depth=4, xgbregressor__n_estimators=500, xgbregressor__subsample=0.85, xgbregressor__min_child_weight=4 \n",
      "[CV]  xgbregressor__gamma=1.0, xgbregressor__max_depth=4, xgbregressor__n_estimators=500, xgbregressor__subsample=0.85, xgbregressor__min_child_weight=4, score=0.852689276512, total=   2.6s\n",
      "[CV] xgbregressor__gamma=1.0, xgbregressor__max_depth=4, xgbregressor__n_estimators=500, xgbregressor__subsample=0.85, xgbregressor__min_child_weight=4 \n",
      "[CV]  xgbregressor__gamma=1.0, xgbregressor__max_depth=4, xgbregressor__n_estimators=500, xgbregressor__subsample=0.85, xgbregressor__min_child_weight=4, score=0.855268770777, total=   2.2s\n",
      "[CV] xgbregressor__gamma=1.0, xgbregressor__max_depth=4, xgbregressor__n_estimators=500, xgbregressor__subsample=0.85, xgbregressor__min_child_weight=4 \n",
      "[CV]  xgbregressor__gamma=1.0, xgbregressor__max_depth=4, xgbregressor__n_estimators=500, xgbregressor__subsample=0.85, xgbregressor__min_child_weight=4, score=0.847650400912, total=   2.2s\n",
      "[CV] xgbregressor__gamma=1.0, xgbregressor__max_depth=4, xgbregressor__n_estimators=100, xgbregressor__subsample=0.65, xgbregressor__min_child_weight=5 \n",
      "[CV]  xgbregressor__gamma=1.0, xgbregressor__max_depth=4, xgbregressor__n_estimators=100, xgbregressor__subsample=0.65, xgbregressor__min_child_weight=5, score=0.871119159231, total=   0.4s\n",
      "[CV] xgbregressor__gamma=1.0, xgbregressor__max_depth=4, xgbregressor__n_estimators=100, xgbregressor__subsample=0.65, xgbregressor__min_child_weight=5 \n",
      "[CV]  xgbregressor__gamma=1.0, xgbregressor__max_depth=4, xgbregressor__n_estimators=100, xgbregressor__subsample=0.65, xgbregressor__min_child_weight=5, score=0.871512020103, total=   0.4s\n",
      "[CV] xgbregressor__gamma=1.0, xgbregressor__max_depth=4, xgbregressor__n_estimators=100, xgbregressor__subsample=0.65, xgbregressor__min_child_weight=5 \n",
      "[CV]  xgbregressor__gamma=1.0, xgbregressor__max_depth=4, xgbregressor__n_estimators=100, xgbregressor__subsample=0.65, xgbregressor__min_child_weight=5, score=0.850355728112, total=   0.4s\n",
      "[CV] xgbregressor__gamma=1.0, xgbregressor__max_depth=4, xgbregressor__n_estimators=100, xgbregressor__subsample=0.65, xgbregressor__min_child_weight=5 \n",
      "[CV]  xgbregressor__gamma=1.0, xgbregressor__max_depth=4, xgbregressor__n_estimators=100, xgbregressor__subsample=0.65, xgbregressor__min_child_weight=5, score=0.849332561901, total=   0.5s\n",
      "[CV] xgbregressor__gamma=1.0, xgbregressor__max_depth=4, xgbregressor__n_estimators=100, xgbregressor__subsample=0.65, xgbregressor__min_child_weight=5 \n",
      "[CV]  xgbregressor__gamma=1.0, xgbregressor__max_depth=4, xgbregressor__n_estimators=100, xgbregressor__subsample=0.65, xgbregressor__min_child_weight=5, score=0.848477763414, total=   0.5s\n",
      "[CV] xgbregressor__gamma=1.0, xgbregressor__max_depth=4, xgbregressor__n_estimators=100, xgbregressor__subsample=0.75, xgbregressor__min_child_weight=5 \n",
      "[CV]  xgbregressor__gamma=1.0, xgbregressor__max_depth=4, xgbregressor__n_estimators=100, xgbregressor__subsample=0.75, xgbregressor__min_child_weight=5, score=0.869467874496, total=   0.5s\n",
      "[CV] xgbregressor__gamma=1.0, xgbregressor__max_depth=4, xgbregressor__n_estimators=100, xgbregressor__subsample=0.75, xgbregressor__min_child_weight=5 \n",
      "[CV]  xgbregressor__gamma=1.0, xgbregressor__max_depth=4, xgbregressor__n_estimators=100, xgbregressor__subsample=0.75, xgbregressor__min_child_weight=5, score=0.872362809772, total=   0.5s\n",
      "[CV] xgbregressor__gamma=1.0, xgbregressor__max_depth=4, xgbregressor__n_estimators=100, xgbregressor__subsample=0.75, xgbregressor__min_child_weight=5 \n",
      "[CV]  xgbregressor__gamma=1.0, xgbregressor__max_depth=4, xgbregressor__n_estimators=100, xgbregressor__subsample=0.75, xgbregressor__min_child_weight=5, score=0.848606744139, total=   0.5s\n",
      "[CV] xgbregressor__gamma=1.0, xgbregressor__max_depth=4, xgbregressor__n_estimators=100, xgbregressor__subsample=0.75, xgbregressor__min_child_weight=5 \n",
      "[CV]  xgbregressor__gamma=1.0, xgbregressor__max_depth=4, xgbregressor__n_estimators=100, xgbregressor__subsample=0.75, xgbregressor__min_child_weight=5, score=0.853467891121, total=   0.4s\n",
      "[CV] xgbregressor__gamma=1.0, xgbregressor__max_depth=4, xgbregressor__n_estimators=100, xgbregressor__subsample=0.75, xgbregressor__min_child_weight=5 \n",
      "[CV]  xgbregressor__gamma=1.0, xgbregressor__max_depth=4, xgbregressor__n_estimators=100, xgbregressor__subsample=0.75, xgbregressor__min_child_weight=5, score=0.851995018809, total=   0.5s\n",
      "[CV] xgbregressor__gamma=1.0, xgbregressor__max_depth=4, xgbregressor__n_estimators=100, xgbregressor__subsample=0.85, xgbregressor__min_child_weight=5 \n",
      "[CV]  xgbregressor__gamma=1.0, xgbregressor__max_depth=4, xgbregressor__n_estimators=100, xgbregressor__subsample=0.85, xgbregressor__min_child_weight=5, score=0.869422566152, total=   0.4s\n",
      "[CV] xgbregressor__gamma=1.0, xgbregressor__max_depth=4, xgbregressor__n_estimators=100, xgbregressor__subsample=0.85, xgbregressor__min_child_weight=5 \n",
      "[CV]  xgbregressor__gamma=1.0, xgbregressor__max_depth=4, xgbregressor__n_estimators=100, xgbregressor__subsample=0.85, xgbregressor__min_child_weight=5, score=0.872119316018, total=   0.4s\n",
      "[CV] xgbregressor__gamma=1.0, xgbregressor__max_depth=4, xgbregressor__n_estimators=100, xgbregressor__subsample=0.85, xgbregressor__min_child_weight=5 \n",
      "[CV]  xgbregressor__gamma=1.0, xgbregressor__max_depth=4, xgbregressor__n_estimators=100, xgbregressor__subsample=0.85, xgbregressor__min_child_weight=5, score=0.85268391263, total=   0.4s\n",
      "[CV] xgbregressor__gamma=1.0, xgbregressor__max_depth=4, xgbregressor__n_estimators=100, xgbregressor__subsample=0.85, xgbregressor__min_child_weight=5 \n",
      "[CV]  xgbregressor__gamma=1.0, xgbregressor__max_depth=4, xgbregressor__n_estimators=100, xgbregressor__subsample=0.85, xgbregressor__min_child_weight=5, score=0.852251634994, total=   0.4s\n",
      "[CV] xgbregressor__gamma=1.0, xgbregressor__max_depth=4, xgbregressor__n_estimators=100, xgbregressor__subsample=0.85, xgbregressor__min_child_weight=5 \n",
      "[CV]  xgbregressor__gamma=1.0, xgbregressor__max_depth=4, xgbregressor__n_estimators=100, xgbregressor__subsample=0.85, xgbregressor__min_child_weight=5, score=0.848725501406, total=   0.4s\n",
      "[CV] xgbregressor__gamma=1.0, xgbregressor__max_depth=4, xgbregressor__n_estimators=500, xgbregressor__subsample=0.65, xgbregressor__min_child_weight=5 \n"
     ]
    },
    {
     "name": "stdout",
     "output_type": "stream",
     "text": [
      "[CV]  xgbregressor__gamma=1.0, xgbregressor__max_depth=4, xgbregressor__n_estimators=500, xgbregressor__subsample=0.65, xgbregressor__min_child_weight=5, score=0.874059688815, total=   2.5s\n",
      "[CV] xgbregressor__gamma=1.0, xgbregressor__max_depth=4, xgbregressor__n_estimators=500, xgbregressor__subsample=0.65, xgbregressor__min_child_weight=5 \n",
      "[CV]  xgbregressor__gamma=1.0, xgbregressor__max_depth=4, xgbregressor__n_estimators=500, xgbregressor__subsample=0.65, xgbregressor__min_child_weight=5, score=0.873039364757, total=   2.7s\n",
      "[CV] xgbregressor__gamma=1.0, xgbregressor__max_depth=4, xgbregressor__n_estimators=500, xgbregressor__subsample=0.65, xgbregressor__min_child_weight=5 \n",
      "[CV]  xgbregressor__gamma=1.0, xgbregressor__max_depth=4, xgbregressor__n_estimators=500, xgbregressor__subsample=0.65, xgbregressor__min_child_weight=5, score=0.855117987593, total=   2.9s\n",
      "[CV] xgbregressor__gamma=1.0, xgbregressor__max_depth=4, xgbregressor__n_estimators=500, xgbregressor__subsample=0.65, xgbregressor__min_child_weight=5 \n",
      "[CV]  xgbregressor__gamma=1.0, xgbregressor__max_depth=4, xgbregressor__n_estimators=500, xgbregressor__subsample=0.65, xgbregressor__min_child_weight=5, score=0.853755134731, total=   2.7s\n",
      "[CV] xgbregressor__gamma=1.0, xgbregressor__max_depth=4, xgbregressor__n_estimators=500, xgbregressor__subsample=0.65, xgbregressor__min_child_weight=5 \n",
      "[CV]  xgbregressor__gamma=1.0, xgbregressor__max_depth=4, xgbregressor__n_estimators=500, xgbregressor__subsample=0.65, xgbregressor__min_child_weight=5, score=0.85176127407, total=   2.5s\n",
      "[CV] xgbregressor__gamma=1.0, xgbregressor__max_depth=4, xgbregressor__n_estimators=500, xgbregressor__subsample=0.75, xgbregressor__min_child_weight=5 \n",
      "[CV]  xgbregressor__gamma=1.0, xgbregressor__max_depth=4, xgbregressor__n_estimators=500, xgbregressor__subsample=0.75, xgbregressor__min_child_weight=5, score=0.874346037442, total=   2.5s\n",
      "[CV] xgbregressor__gamma=1.0, xgbregressor__max_depth=4, xgbregressor__n_estimators=500, xgbregressor__subsample=0.75, xgbregressor__min_child_weight=5 \n",
      "[CV]  xgbregressor__gamma=1.0, xgbregressor__max_depth=4, xgbregressor__n_estimators=500, xgbregressor__subsample=0.75, xgbregressor__min_child_weight=5, score=0.873901687239, total=   2.5s\n",
      "[CV] xgbregressor__gamma=1.0, xgbregressor__max_depth=4, xgbregressor__n_estimators=500, xgbregressor__subsample=0.75, xgbregressor__min_child_weight=5 \n",
      "[CV]  xgbregressor__gamma=1.0, xgbregressor__max_depth=4, xgbregressor__n_estimators=500, xgbregressor__subsample=0.75, xgbregressor__min_child_weight=5, score=0.852276886895, total=   2.4s\n",
      "[CV] xgbregressor__gamma=1.0, xgbregressor__max_depth=4, xgbregressor__n_estimators=500, xgbregressor__subsample=0.75, xgbregressor__min_child_weight=5 \n",
      "[CV]  xgbregressor__gamma=1.0, xgbregressor__max_depth=4, xgbregressor__n_estimators=500, xgbregressor__subsample=0.75, xgbregressor__min_child_weight=5, score=0.856050790426, total=   2.5s\n",
      "[CV] xgbregressor__gamma=1.0, xgbregressor__max_depth=4, xgbregressor__n_estimators=500, xgbregressor__subsample=0.75, xgbregressor__min_child_weight=5 \n",
      "[CV]  xgbregressor__gamma=1.0, xgbregressor__max_depth=4, xgbregressor__n_estimators=500, xgbregressor__subsample=0.75, xgbregressor__min_child_weight=5, score=0.854909945757, total=   2.9s\n",
      "[CV] xgbregressor__gamma=1.0, xgbregressor__max_depth=4, xgbregressor__n_estimators=500, xgbregressor__subsample=0.85, xgbregressor__min_child_weight=5 \n",
      "[CV]  xgbregressor__gamma=1.0, xgbregressor__max_depth=4, xgbregressor__n_estimators=500, xgbregressor__subsample=0.85, xgbregressor__min_child_weight=5, score=0.871992899095, total=   2.9s\n",
      "[CV] xgbregressor__gamma=1.0, xgbregressor__max_depth=4, xgbregressor__n_estimators=500, xgbregressor__subsample=0.85, xgbregressor__min_child_weight=5 \n",
      "[CV]  xgbregressor__gamma=1.0, xgbregressor__max_depth=4, xgbregressor__n_estimators=500, xgbregressor__subsample=0.85, xgbregressor__min_child_weight=5, score=0.874065772577, total=   2.8s\n",
      "[CV] xgbregressor__gamma=1.0, xgbregressor__max_depth=4, xgbregressor__n_estimators=500, xgbregressor__subsample=0.85, xgbregressor__min_child_weight=5 \n",
      "[CV]  xgbregressor__gamma=1.0, xgbregressor__max_depth=4, xgbregressor__n_estimators=500, xgbregressor__subsample=0.85, xgbregressor__min_child_weight=5, score=0.853193127719, total=   2.8s\n",
      "[CV] xgbregressor__gamma=1.0, xgbregressor__max_depth=4, xgbregressor__n_estimators=500, xgbregressor__subsample=0.85, xgbregressor__min_child_weight=5 \n",
      "[CV]  xgbregressor__gamma=1.0, xgbregressor__max_depth=4, xgbregressor__n_estimators=500, xgbregressor__subsample=0.85, xgbregressor__min_child_weight=5, score=0.855268770777, total=   2.4s\n",
      "[CV] xgbregressor__gamma=1.0, xgbregressor__max_depth=4, xgbregressor__n_estimators=500, xgbregressor__subsample=0.85, xgbregressor__min_child_weight=5 \n",
      "[CV]  xgbregressor__gamma=1.0, xgbregressor__max_depth=4, xgbregressor__n_estimators=500, xgbregressor__subsample=0.85, xgbregressor__min_child_weight=5, score=0.849939111495, total=   2.4s\n",
      "[CV] xgbregressor__gamma=5.0, xgbregressor__max_depth=2, xgbregressor__n_estimators=100, xgbregressor__subsample=0.65, xgbregressor__min_child_weight=4 \n",
      "[CV]  xgbregressor__gamma=5.0, xgbregressor__max_depth=2, xgbregressor__n_estimators=100, xgbregressor__subsample=0.65, xgbregressor__min_child_weight=4, score=0.778791837232, total=   0.3s\n",
      "[CV] xgbregressor__gamma=5.0, xgbregressor__max_depth=2, xgbregressor__n_estimators=100, xgbregressor__subsample=0.65, xgbregressor__min_child_weight=4 \n",
      "[CV]  xgbregressor__gamma=5.0, xgbregressor__max_depth=2, xgbregressor__n_estimators=100, xgbregressor__subsample=0.65, xgbregressor__min_child_weight=4, score=0.755831889067, total=   0.3s\n",
      "[CV] xgbregressor__gamma=5.0, xgbregressor__max_depth=2, xgbregressor__n_estimators=100, xgbregressor__subsample=0.65, xgbregressor__min_child_weight=4 \n",
      "[CV]  xgbregressor__gamma=5.0, xgbregressor__max_depth=2, xgbregressor__n_estimators=100, xgbregressor__subsample=0.65, xgbregressor__min_child_weight=4, score=0.738676220199, total=   0.3s\n",
      "[CV] xgbregressor__gamma=5.0, xgbregressor__max_depth=2, xgbregressor__n_estimators=100, xgbregressor__subsample=0.65, xgbregressor__min_child_weight=4 \n",
      "[CV]  xgbregressor__gamma=5.0, xgbregressor__max_depth=2, xgbregressor__n_estimators=100, xgbregressor__subsample=0.65, xgbregressor__min_child_weight=4, score=0.745553115414, total=   0.3s\n",
      "[CV] xgbregressor__gamma=5.0, xgbregressor__max_depth=2, xgbregressor__n_estimators=100, xgbregressor__subsample=0.65, xgbregressor__min_child_weight=4 \n",
      "[CV]  xgbregressor__gamma=5.0, xgbregressor__max_depth=2, xgbregressor__n_estimators=100, xgbregressor__subsample=0.65, xgbregressor__min_child_weight=4, score=0.750518048821, total=   0.3s\n",
      "[CV] xgbregressor__gamma=5.0, xgbregressor__max_depth=2, xgbregressor__n_estimators=100, xgbregressor__subsample=0.75, xgbregressor__min_child_weight=4 \n",
      "[CV]  xgbregressor__gamma=5.0, xgbregressor__max_depth=2, xgbregressor__n_estimators=100, xgbregressor__subsample=0.75, xgbregressor__min_child_weight=4, score=0.775992454893, total=   0.3s\n",
      "[CV] xgbregressor__gamma=5.0, xgbregressor__max_depth=2, xgbregressor__n_estimators=100, xgbregressor__subsample=0.75, xgbregressor__min_child_weight=4 \n",
      "[CV]  xgbregressor__gamma=5.0, xgbregressor__max_depth=2, xgbregressor__n_estimators=100, xgbregressor__subsample=0.75, xgbregressor__min_child_weight=4, score=0.771750989389, total=   0.3s\n",
      "[CV] xgbregressor__gamma=5.0, xgbregressor__max_depth=2, xgbregressor__n_estimators=100, xgbregressor__subsample=0.75, xgbregressor__min_child_weight=4 \n",
      "[CV]  xgbregressor__gamma=5.0, xgbregressor__max_depth=2, xgbregressor__n_estimators=100, xgbregressor__subsample=0.75, xgbregressor__min_child_weight=4, score=0.74613656812, total=   0.3s\n",
      "[CV] xgbregressor__gamma=5.0, xgbregressor__max_depth=2, xgbregressor__n_estimators=100, xgbregressor__subsample=0.75, xgbregressor__min_child_weight=4 \n",
      "[CV]  xgbregressor__gamma=5.0, xgbregressor__max_depth=2, xgbregressor__n_estimators=100, xgbregressor__subsample=0.75, xgbregressor__min_child_weight=4, score=0.747150194166, total=   0.3s\n",
      "[CV] xgbregressor__gamma=5.0, xgbregressor__max_depth=2, xgbregressor__n_estimators=100, xgbregressor__subsample=0.75, xgbregressor__min_child_weight=4 \n"
     ]
    },
    {
     "name": "stdout",
     "output_type": "stream",
     "text": [
      "[CV]  xgbregressor__gamma=5.0, xgbregressor__max_depth=2, xgbregressor__n_estimators=100, xgbregressor__subsample=0.75, xgbregressor__min_child_weight=4, score=0.746423107437, total=   0.3s\n",
      "[CV] xgbregressor__gamma=5.0, xgbregressor__max_depth=2, xgbregressor__n_estimators=100, xgbregressor__subsample=0.85, xgbregressor__min_child_weight=4 \n",
      "[CV]  xgbregressor__gamma=5.0, xgbregressor__max_depth=2, xgbregressor__n_estimators=100, xgbregressor__subsample=0.85, xgbregressor__min_child_weight=4, score=0.786801446881, total=   0.3s\n",
      "[CV] xgbregressor__gamma=5.0, xgbregressor__max_depth=2, xgbregressor__n_estimators=100, xgbregressor__subsample=0.85, xgbregressor__min_child_weight=4 \n",
      "[CV]  xgbregressor__gamma=5.0, xgbregressor__max_depth=2, xgbregressor__n_estimators=100, xgbregressor__subsample=0.85, xgbregressor__min_child_weight=4, score=0.771356196076, total=   0.3s\n",
      "[CV] xgbregressor__gamma=5.0, xgbregressor__max_depth=2, xgbregressor__n_estimators=100, xgbregressor__subsample=0.85, xgbregressor__min_child_weight=4 \n",
      "[CV]  xgbregressor__gamma=5.0, xgbregressor__max_depth=2, xgbregressor__n_estimators=100, xgbregressor__subsample=0.85, xgbregressor__min_child_weight=4, score=0.749507216193, total=   0.3s\n",
      "[CV] xgbregressor__gamma=5.0, xgbregressor__max_depth=2, xgbregressor__n_estimators=100, xgbregressor__subsample=0.85, xgbregressor__min_child_weight=4 \n",
      "[CV]  xgbregressor__gamma=5.0, xgbregressor__max_depth=2, xgbregressor__n_estimators=100, xgbregressor__subsample=0.85, xgbregressor__min_child_weight=4, score=0.751883312306, total=   0.2s\n",
      "[CV] xgbregressor__gamma=5.0, xgbregressor__max_depth=2, xgbregressor__n_estimators=100, xgbregressor__subsample=0.85, xgbregressor__min_child_weight=4 \n",
      "[CV]  xgbregressor__gamma=5.0, xgbregressor__max_depth=2, xgbregressor__n_estimators=100, xgbregressor__subsample=0.85, xgbregressor__min_child_weight=4, score=0.751214678863, total=   0.2s\n",
      "[CV] xgbregressor__gamma=5.0, xgbregressor__max_depth=2, xgbregressor__n_estimators=500, xgbregressor__subsample=0.65, xgbregressor__min_child_weight=4 \n",
      "[CV]  xgbregressor__gamma=5.0, xgbregressor__max_depth=2, xgbregressor__n_estimators=500, xgbregressor__subsample=0.65, xgbregressor__min_child_weight=4, score=0.783418969622, total=   1.3s\n",
      "[CV] xgbregressor__gamma=5.0, xgbregressor__max_depth=2, xgbregressor__n_estimators=500, xgbregressor__subsample=0.65, xgbregressor__min_child_weight=4 \n",
      "[CV]  xgbregressor__gamma=5.0, xgbregressor__max_depth=2, xgbregressor__n_estimators=500, xgbregressor__subsample=0.65, xgbregressor__min_child_weight=4, score=0.768591673119, total=   1.2s\n",
      "[CV] xgbregressor__gamma=5.0, xgbregressor__max_depth=2, xgbregressor__n_estimators=500, xgbregressor__subsample=0.65, xgbregressor__min_child_weight=4 \n",
      "[CV]  xgbregressor__gamma=5.0, xgbregressor__max_depth=2, xgbregressor__n_estimators=500, xgbregressor__subsample=0.65, xgbregressor__min_child_weight=4, score=0.742324106892, total=   1.2s\n",
      "[CV] xgbregressor__gamma=5.0, xgbregressor__max_depth=2, xgbregressor__n_estimators=500, xgbregressor__subsample=0.65, xgbregressor__min_child_weight=4 \n",
      "[CV]  xgbregressor__gamma=5.0, xgbregressor__max_depth=2, xgbregressor__n_estimators=500, xgbregressor__subsample=0.65, xgbregressor__min_child_weight=4, score=0.754157403446, total=   1.5s\n",
      "[CV] xgbregressor__gamma=5.0, xgbregressor__max_depth=2, xgbregressor__n_estimators=500, xgbregressor__subsample=0.65, xgbregressor__min_child_weight=4 \n",
      "[CV]  xgbregressor__gamma=5.0, xgbregressor__max_depth=2, xgbregressor__n_estimators=500, xgbregressor__subsample=0.65, xgbregressor__min_child_weight=4, score=0.757326395885, total=   1.6s\n",
      "[CV] xgbregressor__gamma=5.0, xgbregressor__max_depth=2, xgbregressor__n_estimators=500, xgbregressor__subsample=0.75, xgbregressor__min_child_weight=4 \n",
      "[CV]  xgbregressor__gamma=5.0, xgbregressor__max_depth=2, xgbregressor__n_estimators=500, xgbregressor__subsample=0.75, xgbregressor__min_child_weight=4, score=0.785995365889, total=   1.6s\n",
      "[CV] xgbregressor__gamma=5.0, xgbregressor__max_depth=2, xgbregressor__n_estimators=500, xgbregressor__subsample=0.75, xgbregressor__min_child_weight=4 \n",
      "[CV]  xgbregressor__gamma=5.0, xgbregressor__max_depth=2, xgbregressor__n_estimators=500, xgbregressor__subsample=0.75, xgbregressor__min_child_weight=4, score=0.777943985128, total=   1.5s\n",
      "[CV] xgbregressor__gamma=5.0, xgbregressor__max_depth=2, xgbregressor__n_estimators=500, xgbregressor__subsample=0.75, xgbregressor__min_child_weight=4 \n",
      "[CV]  xgbregressor__gamma=5.0, xgbregressor__max_depth=2, xgbregressor__n_estimators=500, xgbregressor__subsample=0.75, xgbregressor__min_child_weight=4, score=0.753009912401, total=   1.6s\n",
      "[CV] xgbregressor__gamma=5.0, xgbregressor__max_depth=2, xgbregressor__n_estimators=500, xgbregressor__subsample=0.75, xgbregressor__min_child_weight=4 \n",
      "[CV]  xgbregressor__gamma=5.0, xgbregressor__max_depth=2, xgbregressor__n_estimators=500, xgbregressor__subsample=0.75, xgbregressor__min_child_weight=4, score=0.75142170889, total=   1.4s\n",
      "[CV] xgbregressor__gamma=5.0, xgbregressor__max_depth=2, xgbregressor__n_estimators=500, xgbregressor__subsample=0.75, xgbregressor__min_child_weight=4 \n",
      "[CV]  xgbregressor__gamma=5.0, xgbregressor__max_depth=2, xgbregressor__n_estimators=500, xgbregressor__subsample=0.75, xgbregressor__min_child_weight=4, score=0.753789037277, total=   1.5s\n",
      "[CV] xgbregressor__gamma=5.0, xgbregressor__max_depth=2, xgbregressor__n_estimators=500, xgbregressor__subsample=0.85, xgbregressor__min_child_weight=4 \n",
      "[CV]  xgbregressor__gamma=5.0, xgbregressor__max_depth=2, xgbregressor__n_estimators=500, xgbregressor__subsample=0.85, xgbregressor__min_child_weight=4, score=0.789984450706, total=   1.6s\n",
      "[CV] xgbregressor__gamma=5.0, xgbregressor__max_depth=2, xgbregressor__n_estimators=500, xgbregressor__subsample=0.85, xgbregressor__min_child_weight=4 \n",
      "[CV]  xgbregressor__gamma=5.0, xgbregressor__max_depth=2, xgbregressor__n_estimators=500, xgbregressor__subsample=0.85, xgbregressor__min_child_weight=4, score=0.771383988744, total=   1.6s\n",
      "[CV] xgbregressor__gamma=5.0, xgbregressor__max_depth=2, xgbregressor__n_estimators=500, xgbregressor__subsample=0.85, xgbregressor__min_child_weight=4 \n",
      "[CV]  xgbregressor__gamma=5.0, xgbregressor__max_depth=2, xgbregressor__n_estimators=500, xgbregressor__subsample=0.85, xgbregressor__min_child_weight=4, score=0.761011020173, total=   1.5s\n",
      "[CV] xgbregressor__gamma=5.0, xgbregressor__max_depth=2, xgbregressor__n_estimators=500, xgbregressor__subsample=0.85, xgbregressor__min_child_weight=4 \n",
      "[CV]  xgbregressor__gamma=5.0, xgbregressor__max_depth=2, xgbregressor__n_estimators=500, xgbregressor__subsample=0.85, xgbregressor__min_child_weight=4, score=0.760767562059, total=   1.5s\n",
      "[CV] xgbregressor__gamma=5.0, xgbregressor__max_depth=2, xgbregressor__n_estimators=500, xgbregressor__subsample=0.85, xgbregressor__min_child_weight=4 \n",
      "[CV]  xgbregressor__gamma=5.0, xgbregressor__max_depth=2, xgbregressor__n_estimators=500, xgbregressor__subsample=0.85, xgbregressor__min_child_weight=4, score=0.756492333099, total=   1.6s\n",
      "[CV] xgbregressor__gamma=5.0, xgbregressor__max_depth=2, xgbregressor__n_estimators=100, xgbregressor__subsample=0.65, xgbregressor__min_child_weight=5 \n",
      "[CV]  xgbregressor__gamma=5.0, xgbregressor__max_depth=2, xgbregressor__n_estimators=100, xgbregressor__subsample=0.65, xgbregressor__min_child_weight=5, score=0.778791837232, total=   0.4s\n",
      "[CV] xgbregressor__gamma=5.0, xgbregressor__max_depth=2, xgbregressor__n_estimators=100, xgbregressor__subsample=0.65, xgbregressor__min_child_weight=5 \n",
      "[CV]  xgbregressor__gamma=5.0, xgbregressor__max_depth=2, xgbregressor__n_estimators=100, xgbregressor__subsample=0.65, xgbregressor__min_child_weight=5, score=0.755831889067, total=   0.4s\n",
      "[CV] xgbregressor__gamma=5.0, xgbregressor__max_depth=2, xgbregressor__n_estimators=100, xgbregressor__subsample=0.65, xgbregressor__min_child_weight=5 \n",
      "[CV]  xgbregressor__gamma=5.0, xgbregressor__max_depth=2, xgbregressor__n_estimators=100, xgbregressor__subsample=0.65, xgbregressor__min_child_weight=5, score=0.738676220199, total=   0.3s\n",
      "[CV] xgbregressor__gamma=5.0, xgbregressor__max_depth=2, xgbregressor__n_estimators=100, xgbregressor__subsample=0.65, xgbregressor__min_child_weight=5 \n"
     ]
    },
    {
     "name": "stdout",
     "output_type": "stream",
     "text": [
      "[CV]  xgbregressor__gamma=5.0, xgbregressor__max_depth=2, xgbregressor__n_estimators=100, xgbregressor__subsample=0.65, xgbregressor__min_child_weight=5, score=0.745553115414, total=   0.4s\n",
      "[CV] xgbregressor__gamma=5.0, xgbregressor__max_depth=2, xgbregressor__n_estimators=100, xgbregressor__subsample=0.65, xgbregressor__min_child_weight=5 \n",
      "[CV]  xgbregressor__gamma=5.0, xgbregressor__max_depth=2, xgbregressor__n_estimators=100, xgbregressor__subsample=0.65, xgbregressor__min_child_weight=5, score=0.750518048821, total=   0.4s\n",
      "[CV] xgbregressor__gamma=5.0, xgbregressor__max_depth=2, xgbregressor__n_estimators=100, xgbregressor__subsample=0.75, xgbregressor__min_child_weight=5 \n",
      "[CV]  xgbregressor__gamma=5.0, xgbregressor__max_depth=2, xgbregressor__n_estimators=100, xgbregressor__subsample=0.75, xgbregressor__min_child_weight=5, score=0.775992454893, total=   0.4s\n",
      "[CV] xgbregressor__gamma=5.0, xgbregressor__max_depth=2, xgbregressor__n_estimators=100, xgbregressor__subsample=0.75, xgbregressor__min_child_weight=5 \n",
      "[CV]  xgbregressor__gamma=5.0, xgbregressor__max_depth=2, xgbregressor__n_estimators=100, xgbregressor__subsample=0.75, xgbregressor__min_child_weight=5, score=0.771750989389, total=   0.4s\n",
      "[CV] xgbregressor__gamma=5.0, xgbregressor__max_depth=2, xgbregressor__n_estimators=100, xgbregressor__subsample=0.75, xgbregressor__min_child_weight=5 \n",
      "[CV]  xgbregressor__gamma=5.0, xgbregressor__max_depth=2, xgbregressor__n_estimators=100, xgbregressor__subsample=0.75, xgbregressor__min_child_weight=5, score=0.74613656812, total=   0.4s\n",
      "[CV] xgbregressor__gamma=5.0, xgbregressor__max_depth=2, xgbregressor__n_estimators=100, xgbregressor__subsample=0.75, xgbregressor__min_child_weight=5 \n",
      "[CV]  xgbregressor__gamma=5.0, xgbregressor__max_depth=2, xgbregressor__n_estimators=100, xgbregressor__subsample=0.75, xgbregressor__min_child_weight=5, score=0.747150194166, total=   0.3s\n",
      "[CV] xgbregressor__gamma=5.0, xgbregressor__max_depth=2, xgbregressor__n_estimators=100, xgbregressor__subsample=0.75, xgbregressor__min_child_weight=5 \n",
      "[CV]  xgbregressor__gamma=5.0, xgbregressor__max_depth=2, xgbregressor__n_estimators=100, xgbregressor__subsample=0.75, xgbregressor__min_child_weight=5, score=0.746423107437, total=   0.4s\n",
      "[CV] xgbregressor__gamma=5.0, xgbregressor__max_depth=2, xgbregressor__n_estimators=100, xgbregressor__subsample=0.85, xgbregressor__min_child_weight=5 \n",
      "[CV]  xgbregressor__gamma=5.0, xgbregressor__max_depth=2, xgbregressor__n_estimators=100, xgbregressor__subsample=0.85, xgbregressor__min_child_weight=5, score=0.786801446881, total=   0.4s\n",
      "[CV] xgbregressor__gamma=5.0, xgbregressor__max_depth=2, xgbregressor__n_estimators=100, xgbregressor__subsample=0.85, xgbregressor__min_child_weight=5 \n",
      "[CV]  xgbregressor__gamma=5.0, xgbregressor__max_depth=2, xgbregressor__n_estimators=100, xgbregressor__subsample=0.85, xgbregressor__min_child_weight=5, score=0.771356196076, total=   0.4s\n",
      "[CV] xgbregressor__gamma=5.0, xgbregressor__max_depth=2, xgbregressor__n_estimators=100, xgbregressor__subsample=0.85, xgbregressor__min_child_weight=5 \n",
      "[CV]  xgbregressor__gamma=5.0, xgbregressor__max_depth=2, xgbregressor__n_estimators=100, xgbregressor__subsample=0.85, xgbregressor__min_child_weight=5, score=0.749507216193, total=   0.4s\n",
      "[CV] xgbregressor__gamma=5.0, xgbregressor__max_depth=2, xgbregressor__n_estimators=100, xgbregressor__subsample=0.85, xgbregressor__min_child_weight=5 \n",
      "[CV]  xgbregressor__gamma=5.0, xgbregressor__max_depth=2, xgbregressor__n_estimators=100, xgbregressor__subsample=0.85, xgbregressor__min_child_weight=5, score=0.751883312306, total=   0.4s\n",
      "[CV] xgbregressor__gamma=5.0, xgbregressor__max_depth=2, xgbregressor__n_estimators=100, xgbregressor__subsample=0.85, xgbregressor__min_child_weight=5 \n",
      "[CV]  xgbregressor__gamma=5.0, xgbregressor__max_depth=2, xgbregressor__n_estimators=100, xgbregressor__subsample=0.85, xgbregressor__min_child_weight=5, score=0.751214678863, total=   0.4s\n",
      "[CV] xgbregressor__gamma=5.0, xgbregressor__max_depth=2, xgbregressor__n_estimators=500, xgbregressor__subsample=0.65, xgbregressor__min_child_weight=5 \n",
      "[CV]  xgbregressor__gamma=5.0, xgbregressor__max_depth=2, xgbregressor__n_estimators=500, xgbregressor__subsample=0.65, xgbregressor__min_child_weight=5, score=0.783418969622, total=   1.6s\n",
      "[CV] xgbregressor__gamma=5.0, xgbregressor__max_depth=2, xgbregressor__n_estimators=500, xgbregressor__subsample=0.65, xgbregressor__min_child_weight=5 \n",
      "[CV]  xgbregressor__gamma=5.0, xgbregressor__max_depth=2, xgbregressor__n_estimators=500, xgbregressor__subsample=0.65, xgbregressor__min_child_weight=5, score=0.768591673119, total=   1.5s\n",
      "[CV] xgbregressor__gamma=5.0, xgbregressor__max_depth=2, xgbregressor__n_estimators=500, xgbregressor__subsample=0.65, xgbregressor__min_child_weight=5 \n",
      "[CV]  xgbregressor__gamma=5.0, xgbregressor__max_depth=2, xgbregressor__n_estimators=500, xgbregressor__subsample=0.65, xgbregressor__min_child_weight=5, score=0.742324106892, total=   1.5s\n",
      "[CV] xgbregressor__gamma=5.0, xgbregressor__max_depth=2, xgbregressor__n_estimators=500, xgbregressor__subsample=0.65, xgbregressor__min_child_weight=5 \n",
      "[CV]  xgbregressor__gamma=5.0, xgbregressor__max_depth=2, xgbregressor__n_estimators=500, xgbregressor__subsample=0.65, xgbregressor__min_child_weight=5, score=0.754157403446, total=   1.3s\n",
      "[CV] xgbregressor__gamma=5.0, xgbregressor__max_depth=2, xgbregressor__n_estimators=500, xgbregressor__subsample=0.65, xgbregressor__min_child_weight=5 \n",
      "[CV]  xgbregressor__gamma=5.0, xgbregressor__max_depth=2, xgbregressor__n_estimators=500, xgbregressor__subsample=0.65, xgbregressor__min_child_weight=5, score=0.757326395885, total=   1.4s\n",
      "[CV] xgbregressor__gamma=5.0, xgbregressor__max_depth=2, xgbregressor__n_estimators=500, xgbregressor__subsample=0.75, xgbregressor__min_child_weight=5 \n",
      "[CV]  xgbregressor__gamma=5.0, xgbregressor__max_depth=2, xgbregressor__n_estimators=500, xgbregressor__subsample=0.75, xgbregressor__min_child_weight=5, score=0.785995365889, total=   1.3s\n",
      "[CV] xgbregressor__gamma=5.0, xgbregressor__max_depth=2, xgbregressor__n_estimators=500, xgbregressor__subsample=0.75, xgbregressor__min_child_weight=5 \n",
      "[CV]  xgbregressor__gamma=5.0, xgbregressor__max_depth=2, xgbregressor__n_estimators=500, xgbregressor__subsample=0.75, xgbregressor__min_child_weight=5, score=0.777943985128, total=   1.3s\n",
      "[CV] xgbregressor__gamma=5.0, xgbregressor__max_depth=2, xgbregressor__n_estimators=500, xgbregressor__subsample=0.75, xgbregressor__min_child_weight=5 \n",
      "[CV]  xgbregressor__gamma=5.0, xgbregressor__max_depth=2, xgbregressor__n_estimators=500, xgbregressor__subsample=0.75, xgbregressor__min_child_weight=5, score=0.753009912401, total=   1.2s\n",
      "[CV] xgbregressor__gamma=5.0, xgbregressor__max_depth=2, xgbregressor__n_estimators=500, xgbregressor__subsample=0.75, xgbregressor__min_child_weight=5 \n",
      "[CV]  xgbregressor__gamma=5.0, xgbregressor__max_depth=2, xgbregressor__n_estimators=500, xgbregressor__subsample=0.75, xgbregressor__min_child_weight=5, score=0.75142170889, total=   1.2s\n",
      "[CV] xgbregressor__gamma=5.0, xgbregressor__max_depth=2, xgbregressor__n_estimators=500, xgbregressor__subsample=0.75, xgbregressor__min_child_weight=5 \n",
      "[CV]  xgbregressor__gamma=5.0, xgbregressor__max_depth=2, xgbregressor__n_estimators=500, xgbregressor__subsample=0.75, xgbregressor__min_child_weight=5, score=0.753789037277, total=   1.2s\n",
      "[CV] xgbregressor__gamma=5.0, xgbregressor__max_depth=2, xgbregressor__n_estimators=500, xgbregressor__subsample=0.85, xgbregressor__min_child_weight=5 \n",
      "[CV]  xgbregressor__gamma=5.0, xgbregressor__max_depth=2, xgbregressor__n_estimators=500, xgbregressor__subsample=0.85, xgbregressor__min_child_weight=5, score=0.789984450706, total=   1.2s\n",
      "[CV] xgbregressor__gamma=5.0, xgbregressor__max_depth=2, xgbregressor__n_estimators=500, xgbregressor__subsample=0.85, xgbregressor__min_child_weight=5 \n",
      "[CV]  xgbregressor__gamma=5.0, xgbregressor__max_depth=2, xgbregressor__n_estimators=500, xgbregressor__subsample=0.85, xgbregressor__min_child_weight=5, score=0.771383988744, total=   1.2s\n",
      "[CV] xgbregressor__gamma=5.0, xgbregressor__max_depth=2, xgbregressor__n_estimators=500, xgbregressor__subsample=0.85, xgbregressor__min_child_weight=5 \n"
     ]
    },
    {
     "name": "stdout",
     "output_type": "stream",
     "text": [
      "[CV]  xgbregressor__gamma=5.0, xgbregressor__max_depth=2, xgbregressor__n_estimators=500, xgbregressor__subsample=0.85, xgbregressor__min_child_weight=5, score=0.761011020173, total=   1.2s\n",
      "[CV] xgbregressor__gamma=5.0, xgbregressor__max_depth=2, xgbregressor__n_estimators=500, xgbregressor__subsample=0.85, xgbregressor__min_child_weight=5 \n",
      "[CV]  xgbregressor__gamma=5.0, xgbregressor__max_depth=2, xgbregressor__n_estimators=500, xgbregressor__subsample=0.85, xgbregressor__min_child_weight=5, score=0.760767562059, total=   1.1s\n",
      "[CV] xgbregressor__gamma=5.0, xgbregressor__max_depth=2, xgbregressor__n_estimators=500, xgbregressor__subsample=0.85, xgbregressor__min_child_weight=5 \n",
      "[CV]  xgbregressor__gamma=5.0, xgbregressor__max_depth=2, xgbregressor__n_estimators=500, xgbregressor__subsample=0.85, xgbregressor__min_child_weight=5, score=0.756492333099, total=   1.2s\n",
      "[CV] xgbregressor__gamma=5.0, xgbregressor__max_depth=3, xgbregressor__n_estimators=100, xgbregressor__subsample=0.65, xgbregressor__min_child_weight=4 \n",
      "[CV]  xgbregressor__gamma=5.0, xgbregressor__max_depth=3, xgbregressor__n_estimators=100, xgbregressor__subsample=0.65, xgbregressor__min_child_weight=4, score=0.778791837232, total=   0.4s\n",
      "[CV] xgbregressor__gamma=5.0, xgbregressor__max_depth=3, xgbregressor__n_estimators=100, xgbregressor__subsample=0.65, xgbregressor__min_child_weight=4 \n",
      "[CV]  xgbregressor__gamma=5.0, xgbregressor__max_depth=3, xgbregressor__n_estimators=100, xgbregressor__subsample=0.65, xgbregressor__min_child_weight=4, score=0.755831889067, total=   0.4s\n",
      "[CV] xgbregressor__gamma=5.0, xgbregressor__max_depth=3, xgbregressor__n_estimators=100, xgbregressor__subsample=0.65, xgbregressor__min_child_weight=4 \n",
      "[CV]  xgbregressor__gamma=5.0, xgbregressor__max_depth=3, xgbregressor__n_estimators=100, xgbregressor__subsample=0.65, xgbregressor__min_child_weight=4, score=0.738676220199, total=   0.4s\n",
      "[CV] xgbregressor__gamma=5.0, xgbregressor__max_depth=3, xgbregressor__n_estimators=100, xgbregressor__subsample=0.65, xgbregressor__min_child_weight=4 \n",
      "[CV]  xgbregressor__gamma=5.0, xgbregressor__max_depth=3, xgbregressor__n_estimators=100, xgbregressor__subsample=0.65, xgbregressor__min_child_weight=4, score=0.745553115414, total=   0.3s\n",
      "[CV] xgbregressor__gamma=5.0, xgbregressor__max_depth=3, xgbregressor__n_estimators=100, xgbregressor__subsample=0.65, xgbregressor__min_child_weight=4 \n",
      "[CV]  xgbregressor__gamma=5.0, xgbregressor__max_depth=3, xgbregressor__n_estimators=100, xgbregressor__subsample=0.65, xgbregressor__min_child_weight=4, score=0.750518048821, total=   0.4s\n",
      "[CV] xgbregressor__gamma=5.0, xgbregressor__max_depth=3, xgbregressor__n_estimators=100, xgbregressor__subsample=0.75, xgbregressor__min_child_weight=4 \n",
      "[CV]  xgbregressor__gamma=5.0, xgbregressor__max_depth=3, xgbregressor__n_estimators=100, xgbregressor__subsample=0.75, xgbregressor__min_child_weight=4, score=0.775992454893, total=   0.4s\n",
      "[CV] xgbregressor__gamma=5.0, xgbregressor__max_depth=3, xgbregressor__n_estimators=100, xgbregressor__subsample=0.75, xgbregressor__min_child_weight=4 \n",
      "[CV]  xgbregressor__gamma=5.0, xgbregressor__max_depth=3, xgbregressor__n_estimators=100, xgbregressor__subsample=0.75, xgbregressor__min_child_weight=4, score=0.771750989389, total=   0.3s\n",
      "[CV] xgbregressor__gamma=5.0, xgbregressor__max_depth=3, xgbregressor__n_estimators=100, xgbregressor__subsample=0.75, xgbregressor__min_child_weight=4 \n",
      "[CV]  xgbregressor__gamma=5.0, xgbregressor__max_depth=3, xgbregressor__n_estimators=100, xgbregressor__subsample=0.75, xgbregressor__min_child_weight=4, score=0.74613656812, total=   0.3s\n",
      "[CV] xgbregressor__gamma=5.0, xgbregressor__max_depth=3, xgbregressor__n_estimators=100, xgbregressor__subsample=0.75, xgbregressor__min_child_weight=4 \n",
      "[CV]  xgbregressor__gamma=5.0, xgbregressor__max_depth=3, xgbregressor__n_estimators=100, xgbregressor__subsample=0.75, xgbregressor__min_child_weight=4, score=0.747150194166, total=   0.4s\n",
      "[CV] xgbregressor__gamma=5.0, xgbregressor__max_depth=3, xgbregressor__n_estimators=100, xgbregressor__subsample=0.75, xgbregressor__min_child_weight=4 \n",
      "[CV]  xgbregressor__gamma=5.0, xgbregressor__max_depth=3, xgbregressor__n_estimators=100, xgbregressor__subsample=0.75, xgbregressor__min_child_weight=4, score=0.746423107437, total=   0.4s\n",
      "[CV] xgbregressor__gamma=5.0, xgbregressor__max_depth=3, xgbregressor__n_estimators=100, xgbregressor__subsample=0.85, xgbregressor__min_child_weight=4 \n",
      "[CV]  xgbregressor__gamma=5.0, xgbregressor__max_depth=3, xgbregressor__n_estimators=100, xgbregressor__subsample=0.85, xgbregressor__min_child_weight=4, score=0.786801446881, total=   0.3s\n",
      "[CV] xgbregressor__gamma=5.0, xgbregressor__max_depth=3, xgbregressor__n_estimators=100, xgbregressor__subsample=0.85, xgbregressor__min_child_weight=4 \n",
      "[CV]  xgbregressor__gamma=5.0, xgbregressor__max_depth=3, xgbregressor__n_estimators=100, xgbregressor__subsample=0.85, xgbregressor__min_child_weight=4, score=0.771356196076, total=   0.4s\n",
      "[CV] xgbregressor__gamma=5.0, xgbregressor__max_depth=3, xgbregressor__n_estimators=100, xgbregressor__subsample=0.85, xgbregressor__min_child_weight=4 \n",
      "[CV]  xgbregressor__gamma=5.0, xgbregressor__max_depth=3, xgbregressor__n_estimators=100, xgbregressor__subsample=0.85, xgbregressor__min_child_weight=4, score=0.749507216193, total=   0.4s\n",
      "[CV] xgbregressor__gamma=5.0, xgbregressor__max_depth=3, xgbregressor__n_estimators=100, xgbregressor__subsample=0.85, xgbregressor__min_child_weight=4 \n",
      "[CV]  xgbregressor__gamma=5.0, xgbregressor__max_depth=3, xgbregressor__n_estimators=100, xgbregressor__subsample=0.85, xgbregressor__min_child_weight=4, score=0.751883312306, total=   0.4s\n",
      "[CV] xgbregressor__gamma=5.0, xgbregressor__max_depth=3, xgbregressor__n_estimators=100, xgbregressor__subsample=0.85, xgbregressor__min_child_weight=4 \n",
      "[CV]  xgbregressor__gamma=5.0, xgbregressor__max_depth=3, xgbregressor__n_estimators=100, xgbregressor__subsample=0.85, xgbregressor__min_child_weight=4, score=0.751214678863, total=   0.4s\n",
      "[CV] xgbregressor__gamma=5.0, xgbregressor__max_depth=3, xgbregressor__n_estimators=500, xgbregressor__subsample=0.65, xgbregressor__min_child_weight=4 \n",
      "[CV]  xgbregressor__gamma=5.0, xgbregressor__max_depth=3, xgbregressor__n_estimators=500, xgbregressor__subsample=0.65, xgbregressor__min_child_weight=4, score=0.783418969622, total=   1.7s\n",
      "[CV] xgbregressor__gamma=5.0, xgbregressor__max_depth=3, xgbregressor__n_estimators=500, xgbregressor__subsample=0.65, xgbregressor__min_child_weight=4 \n",
      "[CV]  xgbregressor__gamma=5.0, xgbregressor__max_depth=3, xgbregressor__n_estimators=500, xgbregressor__subsample=0.65, xgbregressor__min_child_weight=4, score=0.768591673119, total=   1.7s\n",
      "[CV] xgbregressor__gamma=5.0, xgbregressor__max_depth=3, xgbregressor__n_estimators=500, xgbregressor__subsample=0.65, xgbregressor__min_child_weight=4 \n",
      "[CV]  xgbregressor__gamma=5.0, xgbregressor__max_depth=3, xgbregressor__n_estimators=500, xgbregressor__subsample=0.65, xgbregressor__min_child_weight=4, score=0.742324106892, total=   1.8s\n",
      "[CV] xgbregressor__gamma=5.0, xgbregressor__max_depth=3, xgbregressor__n_estimators=500, xgbregressor__subsample=0.65, xgbregressor__min_child_weight=4 \n",
      "[CV]  xgbregressor__gamma=5.0, xgbregressor__max_depth=3, xgbregressor__n_estimators=500, xgbregressor__subsample=0.65, xgbregressor__min_child_weight=4, score=0.754157403446, total=   1.6s\n",
      "[CV] xgbregressor__gamma=5.0, xgbregressor__max_depth=3, xgbregressor__n_estimators=500, xgbregressor__subsample=0.65, xgbregressor__min_child_weight=4 \n",
      "[CV]  xgbregressor__gamma=5.0, xgbregressor__max_depth=3, xgbregressor__n_estimators=500, xgbregressor__subsample=0.65, xgbregressor__min_child_weight=4, score=0.757326395885, total=   1.6s\n",
      "[CV] xgbregressor__gamma=5.0, xgbregressor__max_depth=3, xgbregressor__n_estimators=500, xgbregressor__subsample=0.75, xgbregressor__min_child_weight=4 \n",
      "[CV]  xgbregressor__gamma=5.0, xgbregressor__max_depth=3, xgbregressor__n_estimators=500, xgbregressor__subsample=0.75, xgbregressor__min_child_weight=4, score=0.785995365889, total=   1.7s\n",
      "[CV] xgbregressor__gamma=5.0, xgbregressor__max_depth=3, xgbregressor__n_estimators=500, xgbregressor__subsample=0.75, xgbregressor__min_child_weight=4 \n"
     ]
    },
    {
     "name": "stdout",
     "output_type": "stream",
     "text": [
      "[CV]  xgbregressor__gamma=5.0, xgbregressor__max_depth=3, xgbregressor__n_estimators=500, xgbregressor__subsample=0.75, xgbregressor__min_child_weight=4, score=0.777943985128, total=   1.6s\n",
      "[CV] xgbregressor__gamma=5.0, xgbregressor__max_depth=3, xgbregressor__n_estimators=500, xgbregressor__subsample=0.75, xgbregressor__min_child_weight=4 \n",
      "[CV]  xgbregressor__gamma=5.0, xgbregressor__max_depth=3, xgbregressor__n_estimators=500, xgbregressor__subsample=0.75, xgbregressor__min_child_weight=4, score=0.753009912401, total=   1.6s\n",
      "[CV] xgbregressor__gamma=5.0, xgbregressor__max_depth=3, xgbregressor__n_estimators=500, xgbregressor__subsample=0.75, xgbregressor__min_child_weight=4 \n",
      "[CV]  xgbregressor__gamma=5.0, xgbregressor__max_depth=3, xgbregressor__n_estimators=500, xgbregressor__subsample=0.75, xgbregressor__min_child_weight=4, score=0.75142170889, total=   1.7s\n",
      "[CV] xgbregressor__gamma=5.0, xgbregressor__max_depth=3, xgbregressor__n_estimators=500, xgbregressor__subsample=0.75, xgbregressor__min_child_weight=4 \n",
      "[CV]  xgbregressor__gamma=5.0, xgbregressor__max_depth=3, xgbregressor__n_estimators=500, xgbregressor__subsample=0.75, xgbregressor__min_child_weight=4, score=0.753789037277, total=   1.7s\n",
      "[CV] xgbregressor__gamma=5.0, xgbregressor__max_depth=3, xgbregressor__n_estimators=500, xgbregressor__subsample=0.85, xgbregressor__min_child_weight=4 \n",
      "[CV]  xgbregressor__gamma=5.0, xgbregressor__max_depth=3, xgbregressor__n_estimators=500, xgbregressor__subsample=0.85, xgbregressor__min_child_weight=4, score=0.789984450706, total=   1.7s\n",
      "[CV] xgbregressor__gamma=5.0, xgbregressor__max_depth=3, xgbregressor__n_estimators=500, xgbregressor__subsample=0.85, xgbregressor__min_child_weight=4 \n",
      "[CV]  xgbregressor__gamma=5.0, xgbregressor__max_depth=3, xgbregressor__n_estimators=500, xgbregressor__subsample=0.85, xgbregressor__min_child_weight=4, score=0.771383988744, total=   1.5s\n",
      "[CV] xgbregressor__gamma=5.0, xgbregressor__max_depth=3, xgbregressor__n_estimators=500, xgbregressor__subsample=0.85, xgbregressor__min_child_weight=4 \n",
      "[CV]  xgbregressor__gamma=5.0, xgbregressor__max_depth=3, xgbregressor__n_estimators=500, xgbregressor__subsample=0.85, xgbregressor__min_child_weight=4, score=0.761011020173, total=   1.5s\n",
      "[CV] xgbregressor__gamma=5.0, xgbregressor__max_depth=3, xgbregressor__n_estimators=500, xgbregressor__subsample=0.85, xgbregressor__min_child_weight=4 \n",
      "[CV]  xgbregressor__gamma=5.0, xgbregressor__max_depth=3, xgbregressor__n_estimators=500, xgbregressor__subsample=0.85, xgbregressor__min_child_weight=4, score=0.760767562059, total=   1.5s\n",
      "[CV] xgbregressor__gamma=5.0, xgbregressor__max_depth=3, xgbregressor__n_estimators=500, xgbregressor__subsample=0.85, xgbregressor__min_child_weight=4 \n",
      "[CV]  xgbregressor__gamma=5.0, xgbregressor__max_depth=3, xgbregressor__n_estimators=500, xgbregressor__subsample=0.85, xgbregressor__min_child_weight=4, score=0.756492333099, total=   1.5s\n",
      "[CV] xgbregressor__gamma=5.0, xgbregressor__max_depth=3, xgbregressor__n_estimators=100, xgbregressor__subsample=0.65, xgbregressor__min_child_weight=5 \n",
      "[CV]  xgbregressor__gamma=5.0, xgbregressor__max_depth=3, xgbregressor__n_estimators=100, xgbregressor__subsample=0.65, xgbregressor__min_child_weight=5, score=0.778791837232, total=   0.3s\n",
      "[CV] xgbregressor__gamma=5.0, xgbregressor__max_depth=3, xgbregressor__n_estimators=100, xgbregressor__subsample=0.65, xgbregressor__min_child_weight=5 \n",
      "[CV]  xgbregressor__gamma=5.0, xgbregressor__max_depth=3, xgbregressor__n_estimators=100, xgbregressor__subsample=0.65, xgbregressor__min_child_weight=5, score=0.755831889067, total=   0.3s\n",
      "[CV] xgbregressor__gamma=5.0, xgbregressor__max_depth=3, xgbregressor__n_estimators=100, xgbregressor__subsample=0.65, xgbregressor__min_child_weight=5 \n",
      "[CV]  xgbregressor__gamma=5.0, xgbregressor__max_depth=3, xgbregressor__n_estimators=100, xgbregressor__subsample=0.65, xgbregressor__min_child_weight=5, score=0.738676220199, total=   0.3s\n",
      "[CV] xgbregressor__gamma=5.0, xgbregressor__max_depth=3, xgbregressor__n_estimators=100, xgbregressor__subsample=0.65, xgbregressor__min_child_weight=5 \n",
      "[CV]  xgbregressor__gamma=5.0, xgbregressor__max_depth=3, xgbregressor__n_estimators=100, xgbregressor__subsample=0.65, xgbregressor__min_child_weight=5, score=0.745553115414, total=   0.3s\n",
      "[CV] xgbregressor__gamma=5.0, xgbregressor__max_depth=3, xgbregressor__n_estimators=100, xgbregressor__subsample=0.65, xgbregressor__min_child_weight=5 \n",
      "[CV]  xgbregressor__gamma=5.0, xgbregressor__max_depth=3, xgbregressor__n_estimators=100, xgbregressor__subsample=0.65, xgbregressor__min_child_weight=5, score=0.750518048821, total=   0.4s\n",
      "[CV] xgbregressor__gamma=5.0, xgbregressor__max_depth=3, xgbregressor__n_estimators=100, xgbregressor__subsample=0.75, xgbregressor__min_child_weight=5 \n",
      "[CV]  xgbregressor__gamma=5.0, xgbregressor__max_depth=3, xgbregressor__n_estimators=100, xgbregressor__subsample=0.75, xgbregressor__min_child_weight=5, score=0.775992454893, total=   0.3s\n",
      "[CV] xgbregressor__gamma=5.0, xgbregressor__max_depth=3, xgbregressor__n_estimators=100, xgbregressor__subsample=0.75, xgbregressor__min_child_weight=5 \n",
      "[CV]  xgbregressor__gamma=5.0, xgbregressor__max_depth=3, xgbregressor__n_estimators=100, xgbregressor__subsample=0.75, xgbregressor__min_child_weight=5, score=0.771750989389, total=   0.3s\n",
      "[CV] xgbregressor__gamma=5.0, xgbregressor__max_depth=3, xgbregressor__n_estimators=100, xgbregressor__subsample=0.75, xgbregressor__min_child_weight=5 \n",
      "[CV]  xgbregressor__gamma=5.0, xgbregressor__max_depth=3, xgbregressor__n_estimators=100, xgbregressor__subsample=0.75, xgbregressor__min_child_weight=5, score=0.74613656812, total=   0.3s\n",
      "[CV] xgbregressor__gamma=5.0, xgbregressor__max_depth=3, xgbregressor__n_estimators=100, xgbregressor__subsample=0.75, xgbregressor__min_child_weight=5 \n",
      "[CV]  xgbregressor__gamma=5.0, xgbregressor__max_depth=3, xgbregressor__n_estimators=100, xgbregressor__subsample=0.75, xgbregressor__min_child_weight=5, score=0.747150194166, total=   0.4s\n",
      "[CV] xgbregressor__gamma=5.0, xgbregressor__max_depth=3, xgbregressor__n_estimators=100, xgbregressor__subsample=0.75, xgbregressor__min_child_weight=5 \n",
      "[CV]  xgbregressor__gamma=5.0, xgbregressor__max_depth=3, xgbregressor__n_estimators=100, xgbregressor__subsample=0.75, xgbregressor__min_child_weight=5, score=0.746423107437, total=   0.3s\n",
      "[CV] xgbregressor__gamma=5.0, xgbregressor__max_depth=3, xgbregressor__n_estimators=100, xgbregressor__subsample=0.85, xgbregressor__min_child_weight=5 \n",
      "[CV]  xgbregressor__gamma=5.0, xgbregressor__max_depth=3, xgbregressor__n_estimators=100, xgbregressor__subsample=0.85, xgbregressor__min_child_weight=5, score=0.786801446881, total=   0.4s\n",
      "[CV] xgbregressor__gamma=5.0, xgbregressor__max_depth=3, xgbregressor__n_estimators=100, xgbregressor__subsample=0.85, xgbregressor__min_child_weight=5 \n",
      "[CV]  xgbregressor__gamma=5.0, xgbregressor__max_depth=3, xgbregressor__n_estimators=100, xgbregressor__subsample=0.85, xgbregressor__min_child_weight=5, score=0.771356196076, total=   0.3s\n",
      "[CV] xgbregressor__gamma=5.0, xgbregressor__max_depth=3, xgbregressor__n_estimators=100, xgbregressor__subsample=0.85, xgbregressor__min_child_weight=5 \n",
      "[CV]  xgbregressor__gamma=5.0, xgbregressor__max_depth=3, xgbregressor__n_estimators=100, xgbregressor__subsample=0.85, xgbregressor__min_child_weight=5, score=0.749507216193, total=   0.3s\n",
      "[CV] xgbregressor__gamma=5.0, xgbregressor__max_depth=3, xgbregressor__n_estimators=100, xgbregressor__subsample=0.85, xgbregressor__min_child_weight=5 \n",
      "[CV]  xgbregressor__gamma=5.0, xgbregressor__max_depth=3, xgbregressor__n_estimators=100, xgbregressor__subsample=0.85, xgbregressor__min_child_weight=5, score=0.751883312306, total=   0.4s\n",
      "[CV] xgbregressor__gamma=5.0, xgbregressor__max_depth=3, xgbregressor__n_estimators=100, xgbregressor__subsample=0.85, xgbregressor__min_child_weight=5 \n",
      "[CV]  xgbregressor__gamma=5.0, xgbregressor__max_depth=3, xgbregressor__n_estimators=100, xgbregressor__subsample=0.85, xgbregressor__min_child_weight=5, score=0.751214678863, total=   0.3s\n",
      "[CV] xgbregressor__gamma=5.0, xgbregressor__max_depth=3, xgbregressor__n_estimators=500, xgbregressor__subsample=0.65, xgbregressor__min_child_weight=5 \n"
     ]
    },
    {
     "name": "stdout",
     "output_type": "stream",
     "text": [
      "[CV]  xgbregressor__gamma=5.0, xgbregressor__max_depth=3, xgbregressor__n_estimators=500, xgbregressor__subsample=0.65, xgbregressor__min_child_weight=5, score=0.783418969622, total=   1.7s\n",
      "[CV] xgbregressor__gamma=5.0, xgbregressor__max_depth=3, xgbregressor__n_estimators=500, xgbregressor__subsample=0.65, xgbregressor__min_child_weight=5 \n",
      "[CV]  xgbregressor__gamma=5.0, xgbregressor__max_depth=3, xgbregressor__n_estimators=500, xgbregressor__subsample=0.65, xgbregressor__min_child_weight=5, score=0.768591673119, total=   1.6s\n",
      "[CV] xgbregressor__gamma=5.0, xgbregressor__max_depth=3, xgbregressor__n_estimators=500, xgbregressor__subsample=0.65, xgbregressor__min_child_weight=5 \n",
      "[CV]  xgbregressor__gamma=5.0, xgbregressor__max_depth=3, xgbregressor__n_estimators=500, xgbregressor__subsample=0.65, xgbregressor__min_child_weight=5, score=0.742324106892, total=   1.7s\n",
      "[CV] xgbregressor__gamma=5.0, xgbregressor__max_depth=3, xgbregressor__n_estimators=500, xgbregressor__subsample=0.65, xgbregressor__min_child_weight=5 \n",
      "[CV]  xgbregressor__gamma=5.0, xgbregressor__max_depth=3, xgbregressor__n_estimators=500, xgbregressor__subsample=0.65, xgbregressor__min_child_weight=5, score=0.754157403446, total=   1.6s\n",
      "[CV] xgbregressor__gamma=5.0, xgbregressor__max_depth=3, xgbregressor__n_estimators=500, xgbregressor__subsample=0.65, xgbregressor__min_child_weight=5 \n",
      "[CV]  xgbregressor__gamma=5.0, xgbregressor__max_depth=3, xgbregressor__n_estimators=500, xgbregressor__subsample=0.65, xgbregressor__min_child_weight=5, score=0.757326395885, total=   1.6s\n",
      "[CV] xgbregressor__gamma=5.0, xgbregressor__max_depth=3, xgbregressor__n_estimators=500, xgbregressor__subsample=0.75, xgbregressor__min_child_weight=5 \n",
      "[CV]  xgbregressor__gamma=5.0, xgbregressor__max_depth=3, xgbregressor__n_estimators=500, xgbregressor__subsample=0.75, xgbregressor__min_child_weight=5, score=0.785995365889, total=   1.9s\n",
      "[CV] xgbregressor__gamma=5.0, xgbregressor__max_depth=3, xgbregressor__n_estimators=500, xgbregressor__subsample=0.75, xgbregressor__min_child_weight=5 \n",
      "[CV]  xgbregressor__gamma=5.0, xgbregressor__max_depth=3, xgbregressor__n_estimators=500, xgbregressor__subsample=0.75, xgbregressor__min_child_weight=5, score=0.777943985128, total=   1.6s\n",
      "[CV] xgbregressor__gamma=5.0, xgbregressor__max_depth=3, xgbregressor__n_estimators=500, xgbregressor__subsample=0.75, xgbregressor__min_child_weight=5 \n",
      "[CV]  xgbregressor__gamma=5.0, xgbregressor__max_depth=3, xgbregressor__n_estimators=500, xgbregressor__subsample=0.75, xgbregressor__min_child_weight=5, score=0.753009912401, total=   1.6s\n",
      "[CV] xgbregressor__gamma=5.0, xgbregressor__max_depth=3, xgbregressor__n_estimators=500, xgbregressor__subsample=0.75, xgbregressor__min_child_weight=5 \n",
      "[CV]  xgbregressor__gamma=5.0, xgbregressor__max_depth=3, xgbregressor__n_estimators=500, xgbregressor__subsample=0.75, xgbregressor__min_child_weight=5, score=0.75142170889, total=   1.6s\n",
      "[CV] xgbregressor__gamma=5.0, xgbregressor__max_depth=3, xgbregressor__n_estimators=500, xgbregressor__subsample=0.75, xgbregressor__min_child_weight=5 \n",
      "[CV]  xgbregressor__gamma=5.0, xgbregressor__max_depth=3, xgbregressor__n_estimators=500, xgbregressor__subsample=0.75, xgbregressor__min_child_weight=5, score=0.753789037277, total=   1.6s\n",
      "[CV] xgbregressor__gamma=5.0, xgbregressor__max_depth=3, xgbregressor__n_estimators=500, xgbregressor__subsample=0.85, xgbregressor__min_child_weight=5 \n",
      "[CV]  xgbregressor__gamma=5.0, xgbregressor__max_depth=3, xgbregressor__n_estimators=500, xgbregressor__subsample=0.85, xgbregressor__min_child_weight=5, score=0.789984450706, total=   1.9s\n",
      "[CV] xgbregressor__gamma=5.0, xgbregressor__max_depth=3, xgbregressor__n_estimators=500, xgbregressor__subsample=0.85, xgbregressor__min_child_weight=5 \n",
      "[CV]  xgbregressor__gamma=5.0, xgbregressor__max_depth=3, xgbregressor__n_estimators=500, xgbregressor__subsample=0.85, xgbregressor__min_child_weight=5, score=0.771383988744, total=   1.7s\n",
      "[CV] xgbregressor__gamma=5.0, xgbregressor__max_depth=3, xgbregressor__n_estimators=500, xgbregressor__subsample=0.85, xgbregressor__min_child_weight=5 \n",
      "[CV]  xgbregressor__gamma=5.0, xgbregressor__max_depth=3, xgbregressor__n_estimators=500, xgbregressor__subsample=0.85, xgbregressor__min_child_weight=5, score=0.761011020173, total=   1.5s\n",
      "[CV] xgbregressor__gamma=5.0, xgbregressor__max_depth=3, xgbregressor__n_estimators=500, xgbregressor__subsample=0.85, xgbregressor__min_child_weight=5 \n",
      "[CV]  xgbregressor__gamma=5.0, xgbregressor__max_depth=3, xgbregressor__n_estimators=500, xgbregressor__subsample=0.85, xgbregressor__min_child_weight=5, score=0.760767562059, total=   1.7s\n",
      "[CV] xgbregressor__gamma=5.0, xgbregressor__max_depth=3, xgbregressor__n_estimators=500, xgbregressor__subsample=0.85, xgbregressor__min_child_weight=5 \n",
      "[CV]  xgbregressor__gamma=5.0, xgbregressor__max_depth=3, xgbregressor__n_estimators=500, xgbregressor__subsample=0.85, xgbregressor__min_child_weight=5, score=0.756492333099, total=   1.9s\n",
      "[CV] xgbregressor__gamma=5.0, xgbregressor__max_depth=4, xgbregressor__n_estimators=100, xgbregressor__subsample=0.65, xgbregressor__min_child_weight=4 \n",
      "[CV]  xgbregressor__gamma=5.0, xgbregressor__max_depth=4, xgbregressor__n_estimators=100, xgbregressor__subsample=0.65, xgbregressor__min_child_weight=4, score=0.778791837232, total=   0.4s\n",
      "[CV] xgbregressor__gamma=5.0, xgbregressor__max_depth=4, xgbregressor__n_estimators=100, xgbregressor__subsample=0.65, xgbregressor__min_child_weight=4 \n",
      "[CV]  xgbregressor__gamma=5.0, xgbregressor__max_depth=4, xgbregressor__n_estimators=100, xgbregressor__subsample=0.65, xgbregressor__min_child_weight=4, score=0.755831889067, total=   0.4s\n",
      "[CV] xgbregressor__gamma=5.0, xgbregressor__max_depth=4, xgbregressor__n_estimators=100, xgbregressor__subsample=0.65, xgbregressor__min_child_weight=4 \n",
      "[CV]  xgbregressor__gamma=5.0, xgbregressor__max_depth=4, xgbregressor__n_estimators=100, xgbregressor__subsample=0.65, xgbregressor__min_child_weight=4, score=0.738676220199, total=   0.4s\n",
      "[CV] xgbregressor__gamma=5.0, xgbregressor__max_depth=4, xgbregressor__n_estimators=100, xgbregressor__subsample=0.65, xgbregressor__min_child_weight=4 \n",
      "[CV]  xgbregressor__gamma=5.0, xgbregressor__max_depth=4, xgbregressor__n_estimators=100, xgbregressor__subsample=0.65, xgbregressor__min_child_weight=4, score=0.745553115414, total=   0.4s\n",
      "[CV] xgbregressor__gamma=5.0, xgbregressor__max_depth=4, xgbregressor__n_estimators=100, xgbregressor__subsample=0.65, xgbregressor__min_child_weight=4 \n",
      "[CV]  xgbregressor__gamma=5.0, xgbregressor__max_depth=4, xgbregressor__n_estimators=100, xgbregressor__subsample=0.65, xgbregressor__min_child_weight=4, score=0.750518048821, total=   0.4s\n",
      "[CV] xgbregressor__gamma=5.0, xgbregressor__max_depth=4, xgbregressor__n_estimators=100, xgbregressor__subsample=0.75, xgbregressor__min_child_weight=4 \n",
      "[CV]  xgbregressor__gamma=5.0, xgbregressor__max_depth=4, xgbregressor__n_estimators=100, xgbregressor__subsample=0.75, xgbregressor__min_child_weight=4, score=0.775992454893, total=   0.4s\n",
      "[CV] xgbregressor__gamma=5.0, xgbregressor__max_depth=4, xgbregressor__n_estimators=100, xgbregressor__subsample=0.75, xgbregressor__min_child_weight=4 \n",
      "[CV]  xgbregressor__gamma=5.0, xgbregressor__max_depth=4, xgbregressor__n_estimators=100, xgbregressor__subsample=0.75, xgbregressor__min_child_weight=4, score=0.771750989389, total=   0.4s\n",
      "[CV] xgbregressor__gamma=5.0, xgbregressor__max_depth=4, xgbregressor__n_estimators=100, xgbregressor__subsample=0.75, xgbregressor__min_child_weight=4 \n",
      "[CV]  xgbregressor__gamma=5.0, xgbregressor__max_depth=4, xgbregressor__n_estimators=100, xgbregressor__subsample=0.75, xgbregressor__min_child_weight=4, score=0.74613656812, total=   0.4s\n",
      "[CV] xgbregressor__gamma=5.0, xgbregressor__max_depth=4, xgbregressor__n_estimators=100, xgbregressor__subsample=0.75, xgbregressor__min_child_weight=4 \n",
      "[CV]  xgbregressor__gamma=5.0, xgbregressor__max_depth=4, xgbregressor__n_estimators=100, xgbregressor__subsample=0.75, xgbregressor__min_child_weight=4, score=0.747150194166, total=   0.4s\n",
      "[CV] xgbregressor__gamma=5.0, xgbregressor__max_depth=4, xgbregressor__n_estimators=100, xgbregressor__subsample=0.75, xgbregressor__min_child_weight=4 \n"
     ]
    },
    {
     "name": "stdout",
     "output_type": "stream",
     "text": [
      "[CV]  xgbregressor__gamma=5.0, xgbregressor__max_depth=4, xgbregressor__n_estimators=100, xgbregressor__subsample=0.75, xgbregressor__min_child_weight=4, score=0.746423107437, total=   0.4s\n",
      "[CV] xgbregressor__gamma=5.0, xgbregressor__max_depth=4, xgbregressor__n_estimators=100, xgbregressor__subsample=0.85, xgbregressor__min_child_weight=4 \n",
      "[CV]  xgbregressor__gamma=5.0, xgbregressor__max_depth=4, xgbregressor__n_estimators=100, xgbregressor__subsample=0.85, xgbregressor__min_child_weight=4, score=0.786801446881, total=   0.4s\n",
      "[CV] xgbregressor__gamma=5.0, xgbregressor__max_depth=4, xgbregressor__n_estimators=100, xgbregressor__subsample=0.85, xgbregressor__min_child_weight=4 \n",
      "[CV]  xgbregressor__gamma=5.0, xgbregressor__max_depth=4, xgbregressor__n_estimators=100, xgbregressor__subsample=0.85, xgbregressor__min_child_weight=4, score=0.771356196076, total=   0.4s\n",
      "[CV] xgbregressor__gamma=5.0, xgbregressor__max_depth=4, xgbregressor__n_estimators=100, xgbregressor__subsample=0.85, xgbregressor__min_child_weight=4 \n",
      "[CV]  xgbregressor__gamma=5.0, xgbregressor__max_depth=4, xgbregressor__n_estimators=100, xgbregressor__subsample=0.85, xgbregressor__min_child_weight=4, score=0.749507216193, total=   0.4s\n",
      "[CV] xgbregressor__gamma=5.0, xgbregressor__max_depth=4, xgbregressor__n_estimators=100, xgbregressor__subsample=0.85, xgbregressor__min_child_weight=4 \n",
      "[CV]  xgbregressor__gamma=5.0, xgbregressor__max_depth=4, xgbregressor__n_estimators=100, xgbregressor__subsample=0.85, xgbregressor__min_child_weight=4, score=0.751883312306, total=   0.4s\n",
      "[CV] xgbregressor__gamma=5.0, xgbregressor__max_depth=4, xgbregressor__n_estimators=100, xgbregressor__subsample=0.85, xgbregressor__min_child_weight=4 \n",
      "[CV]  xgbregressor__gamma=5.0, xgbregressor__max_depth=4, xgbregressor__n_estimators=100, xgbregressor__subsample=0.85, xgbregressor__min_child_weight=4, score=0.751214678863, total=   0.4s\n",
      "[CV] xgbregressor__gamma=5.0, xgbregressor__max_depth=4, xgbregressor__n_estimators=500, xgbregressor__subsample=0.65, xgbregressor__min_child_weight=4 \n",
      "[CV]  xgbregressor__gamma=5.0, xgbregressor__max_depth=4, xgbregressor__n_estimators=500, xgbregressor__subsample=0.65, xgbregressor__min_child_weight=4, score=0.783418969622, total=   2.1s\n",
      "[CV] xgbregressor__gamma=5.0, xgbregressor__max_depth=4, xgbregressor__n_estimators=500, xgbregressor__subsample=0.65, xgbregressor__min_child_weight=4 \n",
      "[CV]  xgbregressor__gamma=5.0, xgbregressor__max_depth=4, xgbregressor__n_estimators=500, xgbregressor__subsample=0.65, xgbregressor__min_child_weight=4, score=0.768591673119, total=   2.2s\n",
      "[CV] xgbregressor__gamma=5.0, xgbregressor__max_depth=4, xgbregressor__n_estimators=500, xgbregressor__subsample=0.65, xgbregressor__min_child_weight=4 \n",
      "[CV]  xgbregressor__gamma=5.0, xgbregressor__max_depth=4, xgbregressor__n_estimators=500, xgbregressor__subsample=0.65, xgbregressor__min_child_weight=4, score=0.742324106892, total=   2.1s\n",
      "[CV] xgbregressor__gamma=5.0, xgbregressor__max_depth=4, xgbregressor__n_estimators=500, xgbregressor__subsample=0.65, xgbregressor__min_child_weight=4 \n",
      "[CV]  xgbregressor__gamma=5.0, xgbregressor__max_depth=4, xgbregressor__n_estimators=500, xgbregressor__subsample=0.65, xgbregressor__min_child_weight=4, score=0.754157403446, total=   2.0s\n",
      "[CV] xgbregressor__gamma=5.0, xgbregressor__max_depth=4, xgbregressor__n_estimators=500, xgbregressor__subsample=0.65, xgbregressor__min_child_weight=4 \n",
      "[CV]  xgbregressor__gamma=5.0, xgbregressor__max_depth=4, xgbregressor__n_estimators=500, xgbregressor__subsample=0.65, xgbregressor__min_child_weight=4, score=0.757326395885, total=   2.0s\n",
      "[CV] xgbregressor__gamma=5.0, xgbregressor__max_depth=4, xgbregressor__n_estimators=500, xgbregressor__subsample=0.75, xgbregressor__min_child_weight=4 \n",
      "[CV]  xgbregressor__gamma=5.0, xgbregressor__max_depth=4, xgbregressor__n_estimators=500, xgbregressor__subsample=0.75, xgbregressor__min_child_weight=4, score=0.785995365889, total=   2.1s\n",
      "[CV] xgbregressor__gamma=5.0, xgbregressor__max_depth=4, xgbregressor__n_estimators=500, xgbregressor__subsample=0.75, xgbregressor__min_child_weight=4 \n",
      "[CV]  xgbregressor__gamma=5.0, xgbregressor__max_depth=4, xgbregressor__n_estimators=500, xgbregressor__subsample=0.75, xgbregressor__min_child_weight=4, score=0.777943985128, total=   2.0s\n",
      "[CV] xgbregressor__gamma=5.0, xgbregressor__max_depth=4, xgbregressor__n_estimators=500, xgbregressor__subsample=0.75, xgbregressor__min_child_weight=4 \n",
      "[CV]  xgbregressor__gamma=5.0, xgbregressor__max_depth=4, xgbregressor__n_estimators=500, xgbregressor__subsample=0.75, xgbregressor__min_child_weight=4, score=0.753009912401, total=   2.2s\n",
      "[CV] xgbregressor__gamma=5.0, xgbregressor__max_depth=4, xgbregressor__n_estimators=500, xgbregressor__subsample=0.75, xgbregressor__min_child_weight=4 \n",
      "[CV]  xgbregressor__gamma=5.0, xgbregressor__max_depth=4, xgbregressor__n_estimators=500, xgbregressor__subsample=0.75, xgbregressor__min_child_weight=4, score=0.75142170889, total=   2.1s\n",
      "[CV] xgbregressor__gamma=5.0, xgbregressor__max_depth=4, xgbregressor__n_estimators=500, xgbregressor__subsample=0.75, xgbregressor__min_child_weight=4 \n",
      "[CV]  xgbregressor__gamma=5.0, xgbregressor__max_depth=4, xgbregressor__n_estimators=500, xgbregressor__subsample=0.75, xgbregressor__min_child_weight=4, score=0.753789037277, total=   2.0s\n",
      "[CV] xgbregressor__gamma=5.0, xgbregressor__max_depth=4, xgbregressor__n_estimators=500, xgbregressor__subsample=0.85, xgbregressor__min_child_weight=4 \n",
      "[CV]  xgbregressor__gamma=5.0, xgbregressor__max_depth=4, xgbregressor__n_estimators=500, xgbregressor__subsample=0.85, xgbregressor__min_child_weight=4, score=0.789984450706, total=   2.0s\n",
      "[CV] xgbregressor__gamma=5.0, xgbregressor__max_depth=4, xgbregressor__n_estimators=500, xgbregressor__subsample=0.85, xgbregressor__min_child_weight=4 \n",
      "[CV]  xgbregressor__gamma=5.0, xgbregressor__max_depth=4, xgbregressor__n_estimators=500, xgbregressor__subsample=0.85, xgbregressor__min_child_weight=4, score=0.771383988744, total=   2.0s\n",
      "[CV] xgbregressor__gamma=5.0, xgbregressor__max_depth=4, xgbregressor__n_estimators=500, xgbregressor__subsample=0.85, xgbregressor__min_child_weight=4 \n",
      "[CV]  xgbregressor__gamma=5.0, xgbregressor__max_depth=4, xgbregressor__n_estimators=500, xgbregressor__subsample=0.85, xgbregressor__min_child_weight=4, score=0.761011020173, total=   1.9s\n",
      "[CV] xgbregressor__gamma=5.0, xgbregressor__max_depth=4, xgbregressor__n_estimators=500, xgbregressor__subsample=0.85, xgbregressor__min_child_weight=4 \n",
      "[CV]  xgbregressor__gamma=5.0, xgbregressor__max_depth=4, xgbregressor__n_estimators=500, xgbregressor__subsample=0.85, xgbregressor__min_child_weight=4, score=0.760767562059, total=   2.0s\n",
      "[CV] xgbregressor__gamma=5.0, xgbregressor__max_depth=4, xgbregressor__n_estimators=500, xgbregressor__subsample=0.85, xgbregressor__min_child_weight=4 \n",
      "[CV]  xgbregressor__gamma=5.0, xgbregressor__max_depth=4, xgbregressor__n_estimators=500, xgbregressor__subsample=0.85, xgbregressor__min_child_weight=4, score=0.756492333099, total=   2.1s\n",
      "[CV] xgbregressor__gamma=5.0, xgbregressor__max_depth=4, xgbregressor__n_estimators=100, xgbregressor__subsample=0.65, xgbregressor__min_child_weight=5 \n",
      "[CV]  xgbregressor__gamma=5.0, xgbregressor__max_depth=4, xgbregressor__n_estimators=100, xgbregressor__subsample=0.65, xgbregressor__min_child_weight=5, score=0.778791837232, total=   0.4s\n",
      "[CV] xgbregressor__gamma=5.0, xgbregressor__max_depth=4, xgbregressor__n_estimators=100, xgbregressor__subsample=0.65, xgbregressor__min_child_weight=5 \n",
      "[CV]  xgbregressor__gamma=5.0, xgbregressor__max_depth=4, xgbregressor__n_estimators=100, xgbregressor__subsample=0.65, xgbregressor__min_child_weight=5, score=0.755831889067, total=   0.4s\n",
      "[CV] xgbregressor__gamma=5.0, xgbregressor__max_depth=4, xgbregressor__n_estimators=100, xgbregressor__subsample=0.65, xgbregressor__min_child_weight=5 \n",
      "[CV]  xgbregressor__gamma=5.0, xgbregressor__max_depth=4, xgbregressor__n_estimators=100, xgbregressor__subsample=0.65, xgbregressor__min_child_weight=5, score=0.738676220199, total=   0.5s\n",
      "[CV] xgbregressor__gamma=5.0, xgbregressor__max_depth=4, xgbregressor__n_estimators=100, xgbregressor__subsample=0.65, xgbregressor__min_child_weight=5 \n"
     ]
    },
    {
     "name": "stdout",
     "output_type": "stream",
     "text": [
      "[CV]  xgbregressor__gamma=5.0, xgbregressor__max_depth=4, xgbregressor__n_estimators=100, xgbregressor__subsample=0.65, xgbregressor__min_child_weight=5, score=0.745553115414, total=   0.4s\n",
      "[CV] xgbregressor__gamma=5.0, xgbregressor__max_depth=4, xgbregressor__n_estimators=100, xgbregressor__subsample=0.65, xgbregressor__min_child_weight=5 \n",
      "[CV]  xgbregressor__gamma=5.0, xgbregressor__max_depth=4, xgbregressor__n_estimators=100, xgbregressor__subsample=0.65, xgbregressor__min_child_weight=5, score=0.750518048821, total=   0.5s\n",
      "[CV] xgbregressor__gamma=5.0, xgbregressor__max_depth=4, xgbregressor__n_estimators=100, xgbregressor__subsample=0.75, xgbregressor__min_child_weight=5 \n",
      "[CV]  xgbregressor__gamma=5.0, xgbregressor__max_depth=4, xgbregressor__n_estimators=100, xgbregressor__subsample=0.75, xgbregressor__min_child_weight=5, score=0.775992454893, total=   0.4s\n",
      "[CV] xgbregressor__gamma=5.0, xgbregressor__max_depth=4, xgbregressor__n_estimators=100, xgbregressor__subsample=0.75, xgbregressor__min_child_weight=5 \n",
      "[CV]  xgbregressor__gamma=5.0, xgbregressor__max_depth=4, xgbregressor__n_estimators=100, xgbregressor__subsample=0.75, xgbregressor__min_child_weight=5, score=0.771750989389, total=   0.4s\n",
      "[CV] xgbregressor__gamma=5.0, xgbregressor__max_depth=4, xgbregressor__n_estimators=100, xgbregressor__subsample=0.75, xgbregressor__min_child_weight=5 \n",
      "[CV]  xgbregressor__gamma=5.0, xgbregressor__max_depth=4, xgbregressor__n_estimators=100, xgbregressor__subsample=0.75, xgbregressor__min_child_weight=5, score=0.74613656812, total=   0.5s\n",
      "[CV] xgbregressor__gamma=5.0, xgbregressor__max_depth=4, xgbregressor__n_estimators=100, xgbregressor__subsample=0.75, xgbregressor__min_child_weight=5 \n",
      "[CV]  xgbregressor__gamma=5.0, xgbregressor__max_depth=4, xgbregressor__n_estimators=100, xgbregressor__subsample=0.75, xgbregressor__min_child_weight=5, score=0.747150194166, total=   0.4s\n",
      "[CV] xgbregressor__gamma=5.0, xgbregressor__max_depth=4, xgbregressor__n_estimators=100, xgbregressor__subsample=0.75, xgbregressor__min_child_weight=5 \n",
      "[CV]  xgbregressor__gamma=5.0, xgbregressor__max_depth=4, xgbregressor__n_estimators=100, xgbregressor__subsample=0.75, xgbregressor__min_child_weight=5, score=0.746423107437, total=   0.4s\n",
      "[CV] xgbregressor__gamma=5.0, xgbregressor__max_depth=4, xgbregressor__n_estimators=100, xgbregressor__subsample=0.85, xgbregressor__min_child_weight=5 \n",
      "[CV]  xgbregressor__gamma=5.0, xgbregressor__max_depth=4, xgbregressor__n_estimators=100, xgbregressor__subsample=0.85, xgbregressor__min_child_weight=5, score=0.786801446881, total=   0.4s\n",
      "[CV] xgbregressor__gamma=5.0, xgbregressor__max_depth=4, xgbregressor__n_estimators=100, xgbregressor__subsample=0.85, xgbregressor__min_child_weight=5 \n",
      "[CV]  xgbregressor__gamma=5.0, xgbregressor__max_depth=4, xgbregressor__n_estimators=100, xgbregressor__subsample=0.85, xgbregressor__min_child_weight=5, score=0.771356196076, total=   0.4s\n",
      "[CV] xgbregressor__gamma=5.0, xgbregressor__max_depth=4, xgbregressor__n_estimators=100, xgbregressor__subsample=0.85, xgbregressor__min_child_weight=5 \n",
      "[CV]  xgbregressor__gamma=5.0, xgbregressor__max_depth=4, xgbregressor__n_estimators=100, xgbregressor__subsample=0.85, xgbregressor__min_child_weight=5, score=0.749507216193, total=   0.4s\n",
      "[CV] xgbregressor__gamma=5.0, xgbregressor__max_depth=4, xgbregressor__n_estimators=100, xgbregressor__subsample=0.85, xgbregressor__min_child_weight=5 \n",
      "[CV]  xgbregressor__gamma=5.0, xgbregressor__max_depth=4, xgbregressor__n_estimators=100, xgbregressor__subsample=0.85, xgbregressor__min_child_weight=5, score=0.751883312306, total=   0.4s\n",
      "[CV] xgbregressor__gamma=5.0, xgbregressor__max_depth=4, xgbregressor__n_estimators=100, xgbregressor__subsample=0.85, xgbregressor__min_child_weight=5 \n",
      "[CV]  xgbregressor__gamma=5.0, xgbregressor__max_depth=4, xgbregressor__n_estimators=100, xgbregressor__subsample=0.85, xgbregressor__min_child_weight=5, score=0.751214678863, total=   0.4s\n",
      "[CV] xgbregressor__gamma=5.0, xgbregressor__max_depth=4, xgbregressor__n_estimators=500, xgbregressor__subsample=0.65, xgbregressor__min_child_weight=5 \n",
      "[CV]  xgbregressor__gamma=5.0, xgbregressor__max_depth=4, xgbregressor__n_estimators=500, xgbregressor__subsample=0.65, xgbregressor__min_child_weight=5, score=0.783418969622, total=   2.3s\n",
      "[CV] xgbregressor__gamma=5.0, xgbregressor__max_depth=4, xgbregressor__n_estimators=500, xgbregressor__subsample=0.65, xgbregressor__min_child_weight=5 \n",
      "[CV]  xgbregressor__gamma=5.0, xgbregressor__max_depth=4, xgbregressor__n_estimators=500, xgbregressor__subsample=0.65, xgbregressor__min_child_weight=5, score=0.768591673119, total=   2.2s\n",
      "[CV] xgbregressor__gamma=5.0, xgbregressor__max_depth=4, xgbregressor__n_estimators=500, xgbregressor__subsample=0.65, xgbregressor__min_child_weight=5 \n",
      "[CV]  xgbregressor__gamma=5.0, xgbregressor__max_depth=4, xgbregressor__n_estimators=500, xgbregressor__subsample=0.65, xgbregressor__min_child_weight=5, score=0.742324106892, total=   2.3s\n",
      "[CV] xgbregressor__gamma=5.0, xgbregressor__max_depth=4, xgbregressor__n_estimators=500, xgbregressor__subsample=0.65, xgbregressor__min_child_weight=5 \n",
      "[CV]  xgbregressor__gamma=5.0, xgbregressor__max_depth=4, xgbregressor__n_estimators=500, xgbregressor__subsample=0.65, xgbregressor__min_child_weight=5, score=0.754157403446, total=   2.8s\n",
      "[CV] xgbregressor__gamma=5.0, xgbregressor__max_depth=4, xgbregressor__n_estimators=500, xgbregressor__subsample=0.65, xgbregressor__min_child_weight=5 \n",
      "[CV]  xgbregressor__gamma=5.0, xgbregressor__max_depth=4, xgbregressor__n_estimators=500, xgbregressor__subsample=0.65, xgbregressor__min_child_weight=5, score=0.757326395885, total=   2.8s\n",
      "[CV] xgbregressor__gamma=5.0, xgbregressor__max_depth=4, xgbregressor__n_estimators=500, xgbregressor__subsample=0.75, xgbregressor__min_child_weight=5 \n",
      "[CV]  xgbregressor__gamma=5.0, xgbregressor__max_depth=4, xgbregressor__n_estimators=500, xgbregressor__subsample=0.75, xgbregressor__min_child_weight=5, score=0.785995365889, total=   2.6s\n",
      "[CV] xgbregressor__gamma=5.0, xgbregressor__max_depth=4, xgbregressor__n_estimators=500, xgbregressor__subsample=0.75, xgbregressor__min_child_weight=5 \n",
      "[CV]  xgbregressor__gamma=5.0, xgbregressor__max_depth=4, xgbregressor__n_estimators=500, xgbregressor__subsample=0.75, xgbregressor__min_child_weight=5, score=0.777943985128, total=   2.2s\n",
      "[CV] xgbregressor__gamma=5.0, xgbregressor__max_depth=4, xgbregressor__n_estimators=500, xgbregressor__subsample=0.75, xgbregressor__min_child_weight=5 \n",
      "[CV]  xgbregressor__gamma=5.0, xgbregressor__max_depth=4, xgbregressor__n_estimators=500, xgbregressor__subsample=0.75, xgbregressor__min_child_weight=5, score=0.753009912401, total=   2.1s\n",
      "[CV] xgbregressor__gamma=5.0, xgbregressor__max_depth=4, xgbregressor__n_estimators=500, xgbregressor__subsample=0.75, xgbregressor__min_child_weight=5 \n",
      "[CV]  xgbregressor__gamma=5.0, xgbregressor__max_depth=4, xgbregressor__n_estimators=500, xgbregressor__subsample=0.75, xgbregressor__min_child_weight=5, score=0.75142170889, total=   2.5s\n",
      "[CV] xgbregressor__gamma=5.0, xgbregressor__max_depth=4, xgbregressor__n_estimators=500, xgbregressor__subsample=0.75, xgbregressor__min_child_weight=5 \n",
      "[CV]  xgbregressor__gamma=5.0, xgbregressor__max_depth=4, xgbregressor__n_estimators=500, xgbregressor__subsample=0.75, xgbregressor__min_child_weight=5, score=0.753789037277, total=   2.2s\n",
      "[CV] xgbregressor__gamma=5.0, xgbregressor__max_depth=4, xgbregressor__n_estimators=500, xgbregressor__subsample=0.85, xgbregressor__min_child_weight=5 \n",
      "[CV]  xgbregressor__gamma=5.0, xgbregressor__max_depth=4, xgbregressor__n_estimators=500, xgbregressor__subsample=0.85, xgbregressor__min_child_weight=5, score=0.789984450706, total=   2.1s\n",
      "[CV] xgbregressor__gamma=5.0, xgbregressor__max_depth=4, xgbregressor__n_estimators=500, xgbregressor__subsample=0.85, xgbregressor__min_child_weight=5 \n",
      "[CV]  xgbregressor__gamma=5.0, xgbregressor__max_depth=4, xgbregressor__n_estimators=500, xgbregressor__subsample=0.85, xgbregressor__min_child_weight=5, score=0.771383988744, total=   2.2s\n",
      "[CV] xgbregressor__gamma=5.0, xgbregressor__max_depth=4, xgbregressor__n_estimators=500, xgbregressor__subsample=0.85, xgbregressor__min_child_weight=5 \n"
     ]
    },
    {
     "name": "stdout",
     "output_type": "stream",
     "text": [
      "[CV]  xgbregressor__gamma=5.0, xgbregressor__max_depth=4, xgbregressor__n_estimators=500, xgbregressor__subsample=0.85, xgbregressor__min_child_weight=5, score=0.761011020173, total=   2.2s\n",
      "[CV] xgbregressor__gamma=5.0, xgbregressor__max_depth=4, xgbregressor__n_estimators=500, xgbregressor__subsample=0.85, xgbregressor__min_child_weight=5 \n",
      "[CV]  xgbregressor__gamma=5.0, xgbregressor__max_depth=4, xgbregressor__n_estimators=500, xgbregressor__subsample=0.85, xgbregressor__min_child_weight=5, score=0.760767562059, total=   2.1s\n",
      "[CV] xgbregressor__gamma=5.0, xgbregressor__max_depth=4, xgbregressor__n_estimators=500, xgbregressor__subsample=0.85, xgbregressor__min_child_weight=5 \n",
      "[CV]  xgbregressor__gamma=5.0, xgbregressor__max_depth=4, xgbregressor__n_estimators=500, xgbregressor__subsample=0.85, xgbregressor__min_child_weight=5, score=0.756492333099, total=   2.4s\n"
     ]
    },
    {
     "name": "stderr",
     "output_type": "stream",
     "text": [
      "[Parallel(n_jobs=1)]: Done 540 out of 540 | elapsed:  9.7min finished\n"
     ]
    },
    {
     "data": {
      "text/plain": [
       "GridSearchCV(cv=5, error_score='raise',\n",
       "       estimator=Pipeline(memory=None,\n",
       "     steps=[('robustscaler', RobustScaler(copy=True, quantile_range=(25.0, 75.0), with_centering=True,\n",
       "       with_scaling=True)), ('xgbregressor', XGBRegressor(base_score=0.5, colsample_bylevel=1, colsample_bytree=1, gamma=0,\n",
       "       learning_rate=0.1, max_delta_step=...:linear', reg_alpha=0, reg_lambda=1,\n",
       "       scale_pos_weight=1, seed=0, silent=True, subsample=1))]),\n",
       "       fit_params=None, iid=True, n_jobs=1,\n",
       "       param_grid={'xgbregressor__gamma': [0, 1.0, 5.0], 'xgbregressor__max_depth': [2, 3, 4], 'xgbregressor__n_estimators': [100, 500], 'xgbregressor__subsample': [0.65, 0.75, 0.85], 'xgbregressor__min_child_weight': [4, 5]},\n",
       "       pre_dispatch='2*n_jobs', refit=True, return_train_score='warn',\n",
       "       scoring=None, verbose=3)"
      ]
     },
     "execution_count": 271,
     "metadata": {},
     "output_type": "execute_result"
    }
   ],
   "source": [
    "grid.fit(train.values, y_train)"
   ]
  },
  {
   "cell_type": "code",
   "execution_count": 272,
   "metadata": {},
   "outputs": [
    {
     "data": {
      "text/plain": [
       "0.91459107843138099"
      ]
     },
     "execution_count": 272,
     "metadata": {},
     "output_type": "execute_result"
    }
   ],
   "source": [
    "grid.best_score_"
   ]
  },
  {
   "cell_type": "code",
   "execution_count": 273,
   "metadata": {},
   "outputs": [
    {
     "data": {
      "text/plain": [
       "Pipeline(memory=None,\n",
       "     steps=[('robustscaler', RobustScaler(copy=True, quantile_range=(25.0, 75.0), with_centering=True,\n",
       "       with_scaling=True)), ('xgbregressor', XGBRegressor(base_score=0.5, colsample_bylevel=1, colsample_bytree=1, gamma=0,\n",
       "       learning_rate=0.1, max_delta_step=0, max_depth=4,\n",
       "       min_child_weight=5, missing=None, n_estimators=500, nthread=-1,\n",
       "       objective='reg:linear', reg_alpha=0, reg_lambda=1,\n",
       "       scale_pos_weight=1, seed=0, silent=True, subsample=0.75))])"
      ]
     },
     "execution_count": 273,
     "metadata": {},
     "output_type": "execute_result"
    }
   ],
   "source": [
    "grid.best_estimator_"
   ]
  },
  {
   "cell_type": "code",
   "execution_count": 286,
   "metadata": {},
   "outputs": [
    {
     "data": {
      "text/plain": [
       "0.023417301142047556"
      ]
     },
     "execution_count": 286,
     "metadata": {},
     "output_type": "execute_result"
    }
   ],
   "source": [
    "np.sqrt(np.mean((grid.predict(train.values) - y_train)**2)) #this is way too small"
   ]
  },
  {
   "cell_type": "code",
   "execution_count": 287,
   "metadata": {
    "collapsed": true
   },
   "outputs": [],
   "source": [
    "params = {'xgbregressor__min_child_weight':[4,5], \n",
    "          'xgbregressor__gamma':[0,0.1],  \n",
    "          'xgbregressor__subsample':[0.75,0.85,0.95],\n",
    "          'xgbregressor__learning_rate':[0.05,0.1],\n",
    "          'xgbregressor__n_estimators': [500]}"
   ]
  },
  {
   "cell_type": "code",
   "execution_count": 288,
   "metadata": {
    "collapsed": true
   },
   "outputs": [],
   "source": [
    "grid = GridSearchCV(pipe, param_grid=params, cv=5, verbose=3, scoring='neg_mean_squared_error') #certain verbose level"
   ]
  },
  {
   "cell_type": "code",
   "execution_count": 289,
   "metadata": {},
   "outputs": [
    {
     "name": "stdout",
     "output_type": "stream",
     "text": [
      "Fitting 5 folds for each of 24 candidates, totalling 120 fits\n",
      "[CV] xgbregressor__gamma=0, xgbregressor__n_estimators=500, xgbregressor__learning_rate=0.05, xgbregressor__subsample=0.75, xgbregressor__min_child_weight=4 \n",
      "[CV]  xgbregressor__gamma=0, xgbregressor__n_estimators=500, xgbregressor__learning_rate=0.05, xgbregressor__subsample=0.75, xgbregressor__min_child_weight=4, score=-0.0117663262711, total=   1.5s\n",
      "[CV] xgbregressor__gamma=0, xgbregressor__n_estimators=500, xgbregressor__learning_rate=0.05, xgbregressor__subsample=0.75, xgbregressor__min_child_weight=4 \n"
     ]
    },
    {
     "name": "stderr",
     "output_type": "stream",
     "text": [
      "[Parallel(n_jobs=1)]: Done   1 out of   1 | elapsed:    1.5s remaining:    0.0s\n"
     ]
    },
    {
     "name": "stdout",
     "output_type": "stream",
     "text": [
      "[CV]  xgbregressor__gamma=0, xgbregressor__n_estimators=500, xgbregressor__learning_rate=0.05, xgbregressor__subsample=0.75, xgbregressor__min_child_weight=4, score=-0.014059527788, total=   1.4s\n",
      "[CV] xgbregressor__gamma=0, xgbregressor__n_estimators=500, xgbregressor__learning_rate=0.05, xgbregressor__subsample=0.75, xgbregressor__min_child_weight=4 \n"
     ]
    },
    {
     "name": "stderr",
     "output_type": "stream",
     "text": [
      "[Parallel(n_jobs=1)]: Done   2 out of   2 | elapsed:    3.0s remaining:    0.0s\n"
     ]
    },
    {
     "name": "stdout",
     "output_type": "stream",
     "text": [
      "[CV]  xgbregressor__gamma=0, xgbregressor__n_estimators=500, xgbregressor__learning_rate=0.05, xgbregressor__subsample=0.75, xgbregressor__min_child_weight=4, score=-0.01533726644, total=   1.6s\n",
      "[CV] xgbregressor__gamma=0, xgbregressor__n_estimators=500, xgbregressor__learning_rate=0.05, xgbregressor__subsample=0.75, xgbregressor__min_child_weight=4 \n",
      "[CV]  xgbregressor__gamma=0, xgbregressor__n_estimators=500, xgbregressor__learning_rate=0.05, xgbregressor__subsample=0.75, xgbregressor__min_child_weight=4, score=-0.0110413209059, total=   1.6s\n",
      "[CV] xgbregressor__gamma=0, xgbregressor__n_estimators=500, xgbregressor__learning_rate=0.05, xgbregressor__subsample=0.75, xgbregressor__min_child_weight=4 \n",
      "[CV]  xgbregressor__gamma=0, xgbregressor__n_estimators=500, xgbregressor__learning_rate=0.05, xgbregressor__subsample=0.75, xgbregressor__min_child_weight=4, score=-0.0136384145007, total=   1.6s\n",
      "[CV] xgbregressor__gamma=0, xgbregressor__n_estimators=500, xgbregressor__learning_rate=0.05, xgbregressor__subsample=0.85, xgbregressor__min_child_weight=4 \n",
      "[CV]  xgbregressor__gamma=0, xgbregressor__n_estimators=500, xgbregressor__learning_rate=0.05, xgbregressor__subsample=0.85, xgbregressor__min_child_weight=4, score=-0.0124514503459, total=   1.6s\n",
      "[CV] xgbregressor__gamma=0, xgbregressor__n_estimators=500, xgbregressor__learning_rate=0.05, xgbregressor__subsample=0.85, xgbregressor__min_child_weight=4 \n",
      "[CV]  xgbregressor__gamma=0, xgbregressor__n_estimators=500, xgbregressor__learning_rate=0.05, xgbregressor__subsample=0.85, xgbregressor__min_child_weight=4, score=-0.0148763066586, total=   1.9s\n",
      "[CV] xgbregressor__gamma=0, xgbregressor__n_estimators=500, xgbregressor__learning_rate=0.05, xgbregressor__subsample=0.85, xgbregressor__min_child_weight=4 \n",
      "[CV]  xgbregressor__gamma=0, xgbregressor__n_estimators=500, xgbregressor__learning_rate=0.05, xgbregressor__subsample=0.85, xgbregressor__min_child_weight=4, score=-0.0156048026488, total=   1.9s\n",
      "[CV] xgbregressor__gamma=0, xgbregressor__n_estimators=500, xgbregressor__learning_rate=0.05, xgbregressor__subsample=0.85, xgbregressor__min_child_weight=4 \n",
      "[CV]  xgbregressor__gamma=0, xgbregressor__n_estimators=500, xgbregressor__learning_rate=0.05, xgbregressor__subsample=0.85, xgbregressor__min_child_weight=4, score=-0.0113447165933, total=   1.7s\n",
      "[CV] xgbregressor__gamma=0, xgbregressor__n_estimators=500, xgbregressor__learning_rate=0.05, xgbregressor__subsample=0.85, xgbregressor__min_child_weight=4 \n",
      "[CV]  xgbregressor__gamma=0, xgbregressor__n_estimators=500, xgbregressor__learning_rate=0.05, xgbregressor__subsample=0.85, xgbregressor__min_child_weight=4, score=-0.0139286114445, total=   1.9s\n",
      "[CV] xgbregressor__gamma=0, xgbregressor__n_estimators=500, xgbregressor__learning_rate=0.05, xgbregressor__subsample=0.95, xgbregressor__min_child_weight=4 \n",
      "[CV]  xgbregressor__gamma=0, xgbregressor__n_estimators=500, xgbregressor__learning_rate=0.05, xgbregressor__subsample=0.95, xgbregressor__min_child_weight=4, score=-0.0125129384897, total=   1.7s\n",
      "[CV] xgbregressor__gamma=0, xgbregressor__n_estimators=500, xgbregressor__learning_rate=0.05, xgbregressor__subsample=0.95, xgbregressor__min_child_weight=4 \n",
      "[CV]  xgbregressor__gamma=0, xgbregressor__n_estimators=500, xgbregressor__learning_rate=0.05, xgbregressor__subsample=0.95, xgbregressor__min_child_weight=4, score=-0.0147113280309, total=   1.7s\n",
      "[CV] xgbregressor__gamma=0, xgbregressor__n_estimators=500, xgbregressor__learning_rate=0.05, xgbregressor__subsample=0.95, xgbregressor__min_child_weight=4 \n",
      "[CV]  xgbregressor__gamma=0, xgbregressor__n_estimators=500, xgbregressor__learning_rate=0.05, xgbregressor__subsample=0.95, xgbregressor__min_child_weight=4, score=-0.0158486232243, total=   1.9s\n",
      "[CV] xgbregressor__gamma=0, xgbregressor__n_estimators=500, xgbregressor__learning_rate=0.05, xgbregressor__subsample=0.95, xgbregressor__min_child_weight=4 \n",
      "[CV]  xgbregressor__gamma=0, xgbregressor__n_estimators=500, xgbregressor__learning_rate=0.05, xgbregressor__subsample=0.95, xgbregressor__min_child_weight=4, score=-0.0114830872405, total=   1.7s\n",
      "[CV] xgbregressor__gamma=0, xgbregressor__n_estimators=500, xgbregressor__learning_rate=0.05, xgbregressor__subsample=0.95, xgbregressor__min_child_weight=4 \n",
      "[CV]  xgbregressor__gamma=0, xgbregressor__n_estimators=500, xgbregressor__learning_rate=0.05, xgbregressor__subsample=0.95, xgbregressor__min_child_weight=4, score=-0.014209700269, total=   1.8s\n",
      "[CV] xgbregressor__gamma=0, xgbregressor__n_estimators=500, xgbregressor__learning_rate=0.05, xgbregressor__subsample=0.75, xgbregressor__min_child_weight=5 \n",
      "[CV]  xgbregressor__gamma=0, xgbregressor__n_estimators=500, xgbregressor__learning_rate=0.05, xgbregressor__subsample=0.75, xgbregressor__min_child_weight=5, score=-0.0119111408659, total=   1.9s\n",
      "[CV] xgbregressor__gamma=0, xgbregressor__n_estimators=500, xgbregressor__learning_rate=0.05, xgbregressor__subsample=0.75, xgbregressor__min_child_weight=5 \n",
      "[CV]  xgbregressor__gamma=0, xgbregressor__n_estimators=500, xgbregressor__learning_rate=0.05, xgbregressor__subsample=0.75, xgbregressor__min_child_weight=5, score=-0.0142868466322, total=   1.7s\n",
      "[CV] xgbregressor__gamma=0, xgbregressor__n_estimators=500, xgbregressor__learning_rate=0.05, xgbregressor__subsample=0.75, xgbregressor__min_child_weight=5 \n",
      "[CV]  xgbregressor__gamma=0, xgbregressor__n_estimators=500, xgbregressor__learning_rate=0.05, xgbregressor__subsample=0.75, xgbregressor__min_child_weight=5, score=-0.0163689742184, total=   1.9s\n",
      "[CV] xgbregressor__gamma=0, xgbregressor__n_estimators=500, xgbregressor__learning_rate=0.05, xgbregressor__subsample=0.75, xgbregressor__min_child_weight=5 \n",
      "[CV]  xgbregressor__gamma=0, xgbregressor__n_estimators=500, xgbregressor__learning_rate=0.05, xgbregressor__subsample=0.75, xgbregressor__min_child_weight=5, score=-0.0108816675087, total=   1.9s\n",
      "[CV] xgbregressor__gamma=0, xgbregressor__n_estimators=500, xgbregressor__learning_rate=0.05, xgbregressor__subsample=0.75, xgbregressor__min_child_weight=5 \n",
      "[CV]  xgbregressor__gamma=0, xgbregressor__n_estimators=500, xgbregressor__learning_rate=0.05, xgbregressor__subsample=0.75, xgbregressor__min_child_weight=5, score=-0.0142037985352, total=   1.7s\n",
      "[CV] xgbregressor__gamma=0, xgbregressor__n_estimators=500, xgbregressor__learning_rate=0.05, xgbregressor__subsample=0.85, xgbregressor__min_child_weight=5 \n",
      "[CV]  xgbregressor__gamma=0, xgbregressor__n_estimators=500, xgbregressor__learning_rate=0.05, xgbregressor__subsample=0.85, xgbregressor__min_child_weight=5, score=-0.0129189705198, total=   1.9s\n",
      "[CV] xgbregressor__gamma=0, xgbregressor__n_estimators=500, xgbregressor__learning_rate=0.05, xgbregressor__subsample=0.85, xgbregressor__min_child_weight=5 \n",
      "[CV]  xgbregressor__gamma=0, xgbregressor__n_estimators=500, xgbregressor__learning_rate=0.05, xgbregressor__subsample=0.85, xgbregressor__min_child_weight=5, score=-0.014650928883, total=   1.7s\n",
      "[CV] xgbregressor__gamma=0, xgbregressor__n_estimators=500, xgbregressor__learning_rate=0.05, xgbregressor__subsample=0.85, xgbregressor__min_child_weight=5 \n",
      "[CV]  xgbregressor__gamma=0, xgbregressor__n_estimators=500, xgbregressor__learning_rate=0.05, xgbregressor__subsample=0.85, xgbregressor__min_child_weight=5, score=-0.0158104705716, total=   1.8s\n",
      "[CV] xgbregressor__gamma=0, xgbregressor__n_estimators=500, xgbregressor__learning_rate=0.05, xgbregressor__subsample=0.85, xgbregressor__min_child_weight=5 \n",
      "[CV]  xgbregressor__gamma=0, xgbregressor__n_estimators=500, xgbregressor__learning_rate=0.05, xgbregressor__subsample=0.85, xgbregressor__min_child_weight=5, score=-0.0112459423837, total=   1.7s\n",
      "[CV] xgbregressor__gamma=0, xgbregressor__n_estimators=500, xgbregressor__learning_rate=0.05, xgbregressor__subsample=0.85, xgbregressor__min_child_weight=5 \n",
      "[CV]  xgbregressor__gamma=0, xgbregressor__n_estimators=500, xgbregressor__learning_rate=0.05, xgbregressor__subsample=0.85, xgbregressor__min_child_weight=5, score=-0.0139877650126, total=   1.8s\n",
      "[CV] xgbregressor__gamma=0, xgbregressor__n_estimators=500, xgbregressor__learning_rate=0.05, xgbregressor__subsample=0.95, xgbregressor__min_child_weight=5 \n",
      "[CV]  xgbregressor__gamma=0, xgbregressor__n_estimators=500, xgbregressor__learning_rate=0.05, xgbregressor__subsample=0.95, xgbregressor__min_child_weight=5, score=-0.0125378733732, total=   1.8s\n",
      "[CV] xgbregressor__gamma=0, xgbregressor__n_estimators=500, xgbregressor__learning_rate=0.05, xgbregressor__subsample=0.95, xgbregressor__min_child_weight=5 \n"
     ]
    },
    {
     "name": "stdout",
     "output_type": "stream",
     "text": [
      "[CV]  xgbregressor__gamma=0, xgbregressor__n_estimators=500, xgbregressor__learning_rate=0.05, xgbregressor__subsample=0.95, xgbregressor__min_child_weight=5, score=-0.0146668767405, total=   1.6s\n",
      "[CV] xgbregressor__gamma=0, xgbregressor__n_estimators=500, xgbregressor__learning_rate=0.05, xgbregressor__subsample=0.95, xgbregressor__min_child_weight=5 \n",
      "[CV]  xgbregressor__gamma=0, xgbregressor__n_estimators=500, xgbregressor__learning_rate=0.05, xgbregressor__subsample=0.95, xgbregressor__min_child_weight=5, score=-0.0158083003615, total=   1.8s\n",
      "[CV] xgbregressor__gamma=0, xgbregressor__n_estimators=500, xgbregressor__learning_rate=0.05, xgbregressor__subsample=0.95, xgbregressor__min_child_weight=5 \n",
      "[CV]  xgbregressor__gamma=0, xgbregressor__n_estimators=500, xgbregressor__learning_rate=0.05, xgbregressor__subsample=0.95, xgbregressor__min_child_weight=5, score=-0.0113819776548, total=   1.6s\n",
      "[CV] xgbregressor__gamma=0, xgbregressor__n_estimators=500, xgbregressor__learning_rate=0.05, xgbregressor__subsample=0.95, xgbregressor__min_child_weight=5 \n",
      "[CV]  xgbregressor__gamma=0, xgbregressor__n_estimators=500, xgbregressor__learning_rate=0.05, xgbregressor__subsample=0.95, xgbregressor__min_child_weight=5, score=-0.013860606047, total=   1.8s\n",
      "[CV] xgbregressor__gamma=0, xgbregressor__n_estimators=500, xgbregressor__learning_rate=0.1, xgbregressor__subsample=0.75, xgbregressor__min_child_weight=4 \n",
      "[CV]  xgbregressor__gamma=0, xgbregressor__n_estimators=500, xgbregressor__learning_rate=0.1, xgbregressor__subsample=0.75, xgbregressor__min_child_weight=4, score=-0.0125812382695, total=   1.9s\n",
      "[CV] xgbregressor__gamma=0, xgbregressor__n_estimators=500, xgbregressor__learning_rate=0.1, xgbregressor__subsample=0.75, xgbregressor__min_child_weight=4 \n",
      "[CV]  xgbregressor__gamma=0, xgbregressor__n_estimators=500, xgbregressor__learning_rate=0.1, xgbregressor__subsample=0.75, xgbregressor__min_child_weight=4, score=-0.0150972369395, total=   1.8s\n",
      "[CV] xgbregressor__gamma=0, xgbregressor__n_estimators=500, xgbregressor__learning_rate=0.1, xgbregressor__subsample=0.75, xgbregressor__min_child_weight=4 \n",
      "[CV]  xgbregressor__gamma=0, xgbregressor__n_estimators=500, xgbregressor__learning_rate=0.1, xgbregressor__subsample=0.75, xgbregressor__min_child_weight=4, score=-0.0166147714906, total=   1.8s\n",
      "[CV] xgbregressor__gamma=0, xgbregressor__n_estimators=500, xgbregressor__learning_rate=0.1, xgbregressor__subsample=0.75, xgbregressor__min_child_weight=4 \n",
      "[CV]  xgbregressor__gamma=0, xgbregressor__n_estimators=500, xgbregressor__learning_rate=0.1, xgbregressor__subsample=0.75, xgbregressor__min_child_weight=4, score=-0.0121603043987, total=   1.8s\n",
      "[CV] xgbregressor__gamma=0, xgbregressor__n_estimators=500, xgbregressor__learning_rate=0.1, xgbregressor__subsample=0.75, xgbregressor__min_child_weight=4 \n",
      "[CV]  xgbregressor__gamma=0, xgbregressor__n_estimators=500, xgbregressor__learning_rate=0.1, xgbregressor__subsample=0.75, xgbregressor__min_child_weight=4, score=-0.0134368637773, total=   1.8s\n",
      "[CV] xgbregressor__gamma=0, xgbregressor__n_estimators=500, xgbregressor__learning_rate=0.1, xgbregressor__subsample=0.85, xgbregressor__min_child_weight=4 \n",
      "[CV]  xgbregressor__gamma=0, xgbregressor__n_estimators=500, xgbregressor__learning_rate=0.1, xgbregressor__subsample=0.85, xgbregressor__min_child_weight=4, score=-0.0125873954412, total=   1.7s\n",
      "[CV] xgbregressor__gamma=0, xgbregressor__n_estimators=500, xgbregressor__learning_rate=0.1, xgbregressor__subsample=0.85, xgbregressor__min_child_weight=4 \n",
      "[CV]  xgbregressor__gamma=0, xgbregressor__n_estimators=500, xgbregressor__learning_rate=0.1, xgbregressor__subsample=0.85, xgbregressor__min_child_weight=4, score=-0.0141967153247, total=   1.8s\n",
      "[CV] xgbregressor__gamma=0, xgbregressor__n_estimators=500, xgbregressor__learning_rate=0.1, xgbregressor__subsample=0.85, xgbregressor__min_child_weight=4 \n",
      "[CV]  xgbregressor__gamma=0, xgbregressor__n_estimators=500, xgbregressor__learning_rate=0.1, xgbregressor__subsample=0.85, xgbregressor__min_child_weight=4, score=-0.0161237707933, total=   1.8s\n",
      "[CV] xgbregressor__gamma=0, xgbregressor__n_estimators=500, xgbregressor__learning_rate=0.1, xgbregressor__subsample=0.85, xgbregressor__min_child_weight=4 \n",
      "[CV]  xgbregressor__gamma=0, xgbregressor__n_estimators=500, xgbregressor__learning_rate=0.1, xgbregressor__subsample=0.85, xgbregressor__min_child_weight=4, score=-0.0119047099627, total=   1.7s\n",
      "[CV] xgbregressor__gamma=0, xgbregressor__n_estimators=500, xgbregressor__learning_rate=0.1, xgbregressor__subsample=0.85, xgbregressor__min_child_weight=4 \n",
      "[CV]  xgbregressor__gamma=0, xgbregressor__n_estimators=500, xgbregressor__learning_rate=0.1, xgbregressor__subsample=0.85, xgbregressor__min_child_weight=4, score=-0.01422043311, total=   1.8s\n",
      "[CV] xgbregressor__gamma=0, xgbregressor__n_estimators=500, xgbregressor__learning_rate=0.1, xgbregressor__subsample=0.95, xgbregressor__min_child_weight=4 \n",
      "[CV]  xgbregressor__gamma=0, xgbregressor__n_estimators=500, xgbregressor__learning_rate=0.1, xgbregressor__subsample=0.95, xgbregressor__min_child_weight=4, score=-0.0122907449137, total=   1.8s\n",
      "[CV] xgbregressor__gamma=0, xgbregressor__n_estimators=500, xgbregressor__learning_rate=0.1, xgbregressor__subsample=0.95, xgbregressor__min_child_weight=4 \n",
      "[CV]  xgbregressor__gamma=0, xgbregressor__n_estimators=500, xgbregressor__learning_rate=0.1, xgbregressor__subsample=0.95, xgbregressor__min_child_weight=4, score=-0.0152094327073, total=   1.6s\n",
      "[CV] xgbregressor__gamma=0, xgbregressor__n_estimators=500, xgbregressor__learning_rate=0.1, xgbregressor__subsample=0.95, xgbregressor__min_child_weight=4 \n",
      "[CV]  xgbregressor__gamma=0, xgbregressor__n_estimators=500, xgbregressor__learning_rate=0.1, xgbregressor__subsample=0.95, xgbregressor__min_child_weight=4, score=-0.0165247780181, total=   1.6s\n",
      "[CV] xgbregressor__gamma=0, xgbregressor__n_estimators=500, xgbregressor__learning_rate=0.1, xgbregressor__subsample=0.95, xgbregressor__min_child_weight=4 \n",
      "[CV]  xgbregressor__gamma=0, xgbregressor__n_estimators=500, xgbregressor__learning_rate=0.1, xgbregressor__subsample=0.95, xgbregressor__min_child_weight=4, score=-0.0128819147399, total=   1.8s\n",
      "[CV] xgbregressor__gamma=0, xgbregressor__n_estimators=500, xgbregressor__learning_rate=0.1, xgbregressor__subsample=0.95, xgbregressor__min_child_weight=4 \n",
      "[CV]  xgbregressor__gamma=0, xgbregressor__n_estimators=500, xgbregressor__learning_rate=0.1, xgbregressor__subsample=0.95, xgbregressor__min_child_weight=4, score=-0.0139374127577, total=   1.8s\n",
      "[CV] xgbregressor__gamma=0, xgbregressor__n_estimators=500, xgbregressor__learning_rate=0.1, xgbregressor__subsample=0.75, xgbregressor__min_child_weight=5 \n",
      "[CV]  xgbregressor__gamma=0, xgbregressor__n_estimators=500, xgbregressor__learning_rate=0.1, xgbregressor__subsample=0.75, xgbregressor__min_child_weight=5, score=-0.0134282245339, total=   1.7s\n",
      "[CV] xgbregressor__gamma=0, xgbregressor__n_estimators=500, xgbregressor__learning_rate=0.1, xgbregressor__subsample=0.75, xgbregressor__min_child_weight=5 \n",
      "[CV]  xgbregressor__gamma=0, xgbregressor__n_estimators=500, xgbregressor__learning_rate=0.1, xgbregressor__subsample=0.75, xgbregressor__min_child_weight=5, score=-0.0151188318134, total=   1.7s\n",
      "[CV] xgbregressor__gamma=0, xgbregressor__n_estimators=500, xgbregressor__learning_rate=0.1, xgbregressor__subsample=0.75, xgbregressor__min_child_weight=5 \n",
      "[CV]  xgbregressor__gamma=0, xgbregressor__n_estimators=500, xgbregressor__learning_rate=0.1, xgbregressor__subsample=0.75, xgbregressor__min_child_weight=5, score=-0.0158522122305, total=   1.8s\n",
      "[CV] xgbregressor__gamma=0, xgbregressor__n_estimators=500, xgbregressor__learning_rate=0.1, xgbregressor__subsample=0.75, xgbregressor__min_child_weight=5 \n",
      "[CV]  xgbregressor__gamma=0, xgbregressor__n_estimators=500, xgbregressor__learning_rate=0.1, xgbregressor__subsample=0.75, xgbregressor__min_child_weight=5, score=-0.0119691970379, total=   1.8s\n",
      "[CV] xgbregressor__gamma=0, xgbregressor__n_estimators=500, xgbregressor__learning_rate=0.1, xgbregressor__subsample=0.75, xgbregressor__min_child_weight=5 \n",
      "[CV]  xgbregressor__gamma=0, xgbregressor__n_estimators=500, xgbregressor__learning_rate=0.1, xgbregressor__subsample=0.75, xgbregressor__min_child_weight=5, score=-0.0140932749125, total=   1.7s\n",
      "[CV] xgbregressor__gamma=0, xgbregressor__n_estimators=500, xgbregressor__learning_rate=0.1, xgbregressor__subsample=0.85, xgbregressor__min_child_weight=5 \n"
     ]
    },
    {
     "name": "stdout",
     "output_type": "stream",
     "text": [
      "[CV]  xgbregressor__gamma=0, xgbregressor__n_estimators=500, xgbregressor__learning_rate=0.1, xgbregressor__subsample=0.85, xgbregressor__min_child_weight=5, score=-0.0126851814124, total=   1.7s\n",
      "[CV] xgbregressor__gamma=0, xgbregressor__n_estimators=500, xgbregressor__learning_rate=0.1, xgbregressor__subsample=0.85, xgbregressor__min_child_weight=5 \n",
      "[CV]  xgbregressor__gamma=0, xgbregressor__n_estimators=500, xgbregressor__learning_rate=0.1, xgbregressor__subsample=0.85, xgbregressor__min_child_weight=5, score=-0.0146444874561, total=   1.8s\n",
      "[CV] xgbregressor__gamma=0, xgbregressor__n_estimators=500, xgbregressor__learning_rate=0.1, xgbregressor__subsample=0.85, xgbregressor__min_child_weight=5 \n",
      "[CV]  xgbregressor__gamma=0, xgbregressor__n_estimators=500, xgbregressor__learning_rate=0.1, xgbregressor__subsample=0.85, xgbregressor__min_child_weight=5, score=-0.0158476286084, total=   1.8s\n",
      "[CV] xgbregressor__gamma=0, xgbregressor__n_estimators=500, xgbregressor__learning_rate=0.1, xgbregressor__subsample=0.85, xgbregressor__min_child_weight=5 \n",
      "[CV]  xgbregressor__gamma=0, xgbregressor__n_estimators=500, xgbregressor__learning_rate=0.1, xgbregressor__subsample=0.85, xgbregressor__min_child_weight=5, score=-0.0123915794006, total=   1.6s\n",
      "[CV] xgbregressor__gamma=0, xgbregressor__n_estimators=500, xgbregressor__learning_rate=0.1, xgbregressor__subsample=0.85, xgbregressor__min_child_weight=5 \n",
      "[CV]  xgbregressor__gamma=0, xgbregressor__n_estimators=500, xgbregressor__learning_rate=0.1, xgbregressor__subsample=0.85, xgbregressor__min_child_weight=5, score=-0.0134760529539, total=   1.9s\n",
      "[CV] xgbregressor__gamma=0, xgbregressor__n_estimators=500, xgbregressor__learning_rate=0.1, xgbregressor__subsample=0.95, xgbregressor__min_child_weight=5 \n",
      "[CV]  xgbregressor__gamma=0, xgbregressor__n_estimators=500, xgbregressor__learning_rate=0.1, xgbregressor__subsample=0.95, xgbregressor__min_child_weight=5, score=-0.0123262619421, total=   1.8s\n",
      "[CV] xgbregressor__gamma=0, xgbregressor__n_estimators=500, xgbregressor__learning_rate=0.1, xgbregressor__subsample=0.95, xgbregressor__min_child_weight=5 \n",
      "[CV]  xgbregressor__gamma=0, xgbregressor__n_estimators=500, xgbregressor__learning_rate=0.1, xgbregressor__subsample=0.95, xgbregressor__min_child_weight=5, score=-0.0151755359075, total=   1.6s\n",
      "[CV] xgbregressor__gamma=0, xgbregressor__n_estimators=500, xgbregressor__learning_rate=0.1, xgbregressor__subsample=0.95, xgbregressor__min_child_weight=5 \n",
      "[CV]  xgbregressor__gamma=0, xgbregressor__n_estimators=500, xgbregressor__learning_rate=0.1, xgbregressor__subsample=0.95, xgbregressor__min_child_weight=5, score=-0.0158559262406, total=   1.7s\n",
      "[CV] xgbregressor__gamma=0, xgbregressor__n_estimators=500, xgbregressor__learning_rate=0.1, xgbregressor__subsample=0.95, xgbregressor__min_child_weight=5 \n",
      "[CV]  xgbregressor__gamma=0, xgbregressor__n_estimators=500, xgbregressor__learning_rate=0.1, xgbregressor__subsample=0.95, xgbregressor__min_child_weight=5, score=-0.011789985155, total=   1.8s\n",
      "[CV] xgbregressor__gamma=0, xgbregressor__n_estimators=500, xgbregressor__learning_rate=0.1, xgbregressor__subsample=0.95, xgbregressor__min_child_weight=5 \n",
      "[CV]  xgbregressor__gamma=0, xgbregressor__n_estimators=500, xgbregressor__learning_rate=0.1, xgbregressor__subsample=0.95, xgbregressor__min_child_weight=5, score=-0.0134840001326, total=   1.8s\n",
      "[CV] xgbregressor__gamma=0.1, xgbregressor__n_estimators=500, xgbregressor__learning_rate=0.05, xgbregressor__subsample=0.75, xgbregressor__min_child_weight=4 \n",
      "[CV]  xgbregressor__gamma=0.1, xgbregressor__n_estimators=500, xgbregressor__learning_rate=0.05, xgbregressor__subsample=0.75, xgbregressor__min_child_weight=4, score=-0.012905066642, total=   2.0s\n",
      "[CV] xgbregressor__gamma=0.1, xgbregressor__n_estimators=500, xgbregressor__learning_rate=0.05, xgbregressor__subsample=0.75, xgbregressor__min_child_weight=4 \n",
      "[CV]  xgbregressor__gamma=0.1, xgbregressor__n_estimators=500, xgbregressor__learning_rate=0.05, xgbregressor__subsample=0.75, xgbregressor__min_child_weight=4, score=-0.0149453100579, total=   1.7s\n",
      "[CV] xgbregressor__gamma=0.1, xgbregressor__n_estimators=500, xgbregressor__learning_rate=0.05, xgbregressor__subsample=0.75, xgbregressor__min_child_weight=4 \n",
      "[CV]  xgbregressor__gamma=0.1, xgbregressor__n_estimators=500, xgbregressor__learning_rate=0.05, xgbregressor__subsample=0.75, xgbregressor__min_child_weight=4, score=-0.016553035274, total=   1.7s\n",
      "[CV] xgbregressor__gamma=0.1, xgbregressor__n_estimators=500, xgbregressor__learning_rate=0.05, xgbregressor__subsample=0.75, xgbregressor__min_child_weight=4 \n",
      "[CV]  xgbregressor__gamma=0.1, xgbregressor__n_estimators=500, xgbregressor__learning_rate=0.05, xgbregressor__subsample=0.75, xgbregressor__min_child_weight=4, score=-0.0128056029553, total=   1.8s\n",
      "[CV] xgbregressor__gamma=0.1, xgbregressor__n_estimators=500, xgbregressor__learning_rate=0.05, xgbregressor__subsample=0.75, xgbregressor__min_child_weight=4 \n",
      "[CV]  xgbregressor__gamma=0.1, xgbregressor__n_estimators=500, xgbregressor__learning_rate=0.05, xgbregressor__subsample=0.75, xgbregressor__min_child_weight=4, score=-0.0141108908698, total=   1.9s\n",
      "[CV] xgbregressor__gamma=0.1, xgbregressor__n_estimators=500, xgbregressor__learning_rate=0.05, xgbregressor__subsample=0.85, xgbregressor__min_child_weight=4 \n",
      "[CV]  xgbregressor__gamma=0.1, xgbregressor__n_estimators=500, xgbregressor__learning_rate=0.05, xgbregressor__subsample=0.85, xgbregressor__min_child_weight=4, score=-0.0128850543021, total=   1.6s\n",
      "[CV] xgbregressor__gamma=0.1, xgbregressor__n_estimators=500, xgbregressor__learning_rate=0.05, xgbregressor__subsample=0.85, xgbregressor__min_child_weight=4 \n",
      "[CV]  xgbregressor__gamma=0.1, xgbregressor__n_estimators=500, xgbregressor__learning_rate=0.05, xgbregressor__subsample=0.85, xgbregressor__min_child_weight=4, score=-0.0158718106984, total=   1.7s\n",
      "[CV] xgbregressor__gamma=0.1, xgbregressor__n_estimators=500, xgbregressor__learning_rate=0.05, xgbregressor__subsample=0.85, xgbregressor__min_child_weight=4 \n",
      "[CV]  xgbregressor__gamma=0.1, xgbregressor__n_estimators=500, xgbregressor__learning_rate=0.05, xgbregressor__subsample=0.85, xgbregressor__min_child_weight=4, score=-0.0164640820982, total=   1.7s\n",
      "[CV] xgbregressor__gamma=0.1, xgbregressor__n_estimators=500, xgbregressor__learning_rate=0.05, xgbregressor__subsample=0.85, xgbregressor__min_child_weight=4 \n",
      "[CV]  xgbregressor__gamma=0.1, xgbregressor__n_estimators=500, xgbregressor__learning_rate=0.05, xgbregressor__subsample=0.85, xgbregressor__min_child_weight=4, score=-0.0126199590978, total=   1.4s\n",
      "[CV] xgbregressor__gamma=0.1, xgbregressor__n_estimators=500, xgbregressor__learning_rate=0.05, xgbregressor__subsample=0.85, xgbregressor__min_child_weight=4 \n",
      "[CV]  xgbregressor__gamma=0.1, xgbregressor__n_estimators=500, xgbregressor__learning_rate=0.05, xgbregressor__subsample=0.85, xgbregressor__min_child_weight=4, score=-0.014701636057, total=   1.7s\n",
      "[CV] xgbregressor__gamma=0.1, xgbregressor__n_estimators=500, xgbregressor__learning_rate=0.05, xgbregressor__subsample=0.95, xgbregressor__min_child_weight=4 \n",
      "[CV]  xgbregressor__gamma=0.1, xgbregressor__n_estimators=500, xgbregressor__learning_rate=0.05, xgbregressor__subsample=0.95, xgbregressor__min_child_weight=4, score=-0.0133409117319, total=   1.5s\n",
      "[CV] xgbregressor__gamma=0.1, xgbregressor__n_estimators=500, xgbregressor__learning_rate=0.05, xgbregressor__subsample=0.95, xgbregressor__min_child_weight=4 \n",
      "[CV]  xgbregressor__gamma=0.1, xgbregressor__n_estimators=500, xgbregressor__learning_rate=0.05, xgbregressor__subsample=0.95, xgbregressor__min_child_weight=4, score=-0.0158317177543, total=   1.6s\n",
      "[CV] xgbregressor__gamma=0.1, xgbregressor__n_estimators=500, xgbregressor__learning_rate=0.05, xgbregressor__subsample=0.95, xgbregressor__min_child_weight=4 \n",
      "[CV]  xgbregressor__gamma=0.1, xgbregressor__n_estimators=500, xgbregressor__learning_rate=0.05, xgbregressor__subsample=0.95, xgbregressor__min_child_weight=4, score=-0.0168312024305, total=   1.5s\n",
      "[CV] xgbregressor__gamma=0.1, xgbregressor__n_estimators=500, xgbregressor__learning_rate=0.05, xgbregressor__subsample=0.95, xgbregressor__min_child_weight=4 \n"
     ]
    },
    {
     "name": "stdout",
     "output_type": "stream",
     "text": [
      "[CV]  xgbregressor__gamma=0.1, xgbregressor__n_estimators=500, xgbregressor__learning_rate=0.05, xgbregressor__subsample=0.95, xgbregressor__min_child_weight=4, score=-0.0131520620374, total=   1.5s\n",
      "[CV] xgbregressor__gamma=0.1, xgbregressor__n_estimators=500, xgbregressor__learning_rate=0.05, xgbregressor__subsample=0.95, xgbregressor__min_child_weight=4 \n",
      "[CV]  xgbregressor__gamma=0.1, xgbregressor__n_estimators=500, xgbregressor__learning_rate=0.05, xgbregressor__subsample=0.95, xgbregressor__min_child_weight=4, score=-0.0153536053646, total=   1.6s\n",
      "[CV] xgbregressor__gamma=0.1, xgbregressor__n_estimators=500, xgbregressor__learning_rate=0.05, xgbregressor__subsample=0.75, xgbregressor__min_child_weight=5 \n",
      "[CV]  xgbregressor__gamma=0.1, xgbregressor__n_estimators=500, xgbregressor__learning_rate=0.05, xgbregressor__subsample=0.75, xgbregressor__min_child_weight=5, score=-0.0124431822127, total=   1.9s\n",
      "[CV] xgbregressor__gamma=0.1, xgbregressor__n_estimators=500, xgbregressor__learning_rate=0.05, xgbregressor__subsample=0.75, xgbregressor__min_child_weight=5 \n",
      "[CV]  xgbregressor__gamma=0.1, xgbregressor__n_estimators=500, xgbregressor__learning_rate=0.05, xgbregressor__subsample=0.75, xgbregressor__min_child_weight=5, score=-0.0148317715001, total=   2.0s\n",
      "[CV] xgbregressor__gamma=0.1, xgbregressor__n_estimators=500, xgbregressor__learning_rate=0.05, xgbregressor__subsample=0.75, xgbregressor__min_child_weight=5 \n",
      "[CV]  xgbregressor__gamma=0.1, xgbregressor__n_estimators=500, xgbregressor__learning_rate=0.05, xgbregressor__subsample=0.75, xgbregressor__min_child_weight=5, score=-0.0169202673675, total=   1.8s\n",
      "[CV] xgbregressor__gamma=0.1, xgbregressor__n_estimators=500, xgbregressor__learning_rate=0.05, xgbregressor__subsample=0.75, xgbregressor__min_child_weight=5 \n",
      "[CV]  xgbregressor__gamma=0.1, xgbregressor__n_estimators=500, xgbregressor__learning_rate=0.05, xgbregressor__subsample=0.75, xgbregressor__min_child_weight=5, score=-0.0127235282691, total=   1.7s\n",
      "[CV] xgbregressor__gamma=0.1, xgbregressor__n_estimators=500, xgbregressor__learning_rate=0.05, xgbregressor__subsample=0.75, xgbregressor__min_child_weight=5 \n",
      "[CV]  xgbregressor__gamma=0.1, xgbregressor__n_estimators=500, xgbregressor__learning_rate=0.05, xgbregressor__subsample=0.75, xgbregressor__min_child_weight=5, score=-0.0141128114366, total=   1.6s\n",
      "[CV] xgbregressor__gamma=0.1, xgbregressor__n_estimators=500, xgbregressor__learning_rate=0.05, xgbregressor__subsample=0.85, xgbregressor__min_child_weight=5 \n",
      "[CV]  xgbregressor__gamma=0.1, xgbregressor__n_estimators=500, xgbregressor__learning_rate=0.05, xgbregressor__subsample=0.85, xgbregressor__min_child_weight=5, score=-0.0130993424986, total=   1.5s\n",
      "[CV] xgbregressor__gamma=0.1, xgbregressor__n_estimators=500, xgbregressor__learning_rate=0.05, xgbregressor__subsample=0.85, xgbregressor__min_child_weight=5 \n",
      "[CV]  xgbregressor__gamma=0.1, xgbregressor__n_estimators=500, xgbregressor__learning_rate=0.05, xgbregressor__subsample=0.85, xgbregressor__min_child_weight=5, score=-0.0157630736748, total=   1.6s\n",
      "[CV] xgbregressor__gamma=0.1, xgbregressor__n_estimators=500, xgbregressor__learning_rate=0.05, xgbregressor__subsample=0.85, xgbregressor__min_child_weight=5 \n",
      "[CV]  xgbregressor__gamma=0.1, xgbregressor__n_estimators=500, xgbregressor__learning_rate=0.05, xgbregressor__subsample=0.85, xgbregressor__min_child_weight=5, score=-0.0165983402447, total=   1.6s\n",
      "[CV] xgbregressor__gamma=0.1, xgbregressor__n_estimators=500, xgbregressor__learning_rate=0.05, xgbregressor__subsample=0.85, xgbregressor__min_child_weight=5 \n",
      "[CV]  xgbregressor__gamma=0.1, xgbregressor__n_estimators=500, xgbregressor__learning_rate=0.05, xgbregressor__subsample=0.85, xgbregressor__min_child_weight=5, score=-0.0127544763135, total=   1.6s\n",
      "[CV] xgbregressor__gamma=0.1, xgbregressor__n_estimators=500, xgbregressor__learning_rate=0.05, xgbregressor__subsample=0.85, xgbregressor__min_child_weight=5 \n",
      "[CV]  xgbregressor__gamma=0.1, xgbregressor__n_estimators=500, xgbregressor__learning_rate=0.05, xgbregressor__subsample=0.85, xgbregressor__min_child_weight=5, score=-0.0148301375374, total=   1.6s\n",
      "[CV] xgbregressor__gamma=0.1, xgbregressor__n_estimators=500, xgbregressor__learning_rate=0.05, xgbregressor__subsample=0.95, xgbregressor__min_child_weight=5 \n",
      "[CV]  xgbregressor__gamma=0.1, xgbregressor__n_estimators=500, xgbregressor__learning_rate=0.05, xgbregressor__subsample=0.95, xgbregressor__min_child_weight=5, score=-0.013362063377, total=   1.5s\n",
      "[CV] xgbregressor__gamma=0.1, xgbregressor__n_estimators=500, xgbregressor__learning_rate=0.05, xgbregressor__subsample=0.95, xgbregressor__min_child_weight=5 \n",
      "[CV]  xgbregressor__gamma=0.1, xgbregressor__n_estimators=500, xgbregressor__learning_rate=0.05, xgbregressor__subsample=0.95, xgbregressor__min_child_weight=5, score=-0.0154723899377, total=   1.5s\n",
      "[CV] xgbregressor__gamma=0.1, xgbregressor__n_estimators=500, xgbregressor__learning_rate=0.05, xgbregressor__subsample=0.95, xgbregressor__min_child_weight=5 \n",
      "[CV]  xgbregressor__gamma=0.1, xgbregressor__n_estimators=500, xgbregressor__learning_rate=0.05, xgbregressor__subsample=0.95, xgbregressor__min_child_weight=5, score=-0.0167308560003, total=   1.5s\n",
      "[CV] xgbregressor__gamma=0.1, xgbregressor__n_estimators=500, xgbregressor__learning_rate=0.05, xgbregressor__subsample=0.95, xgbregressor__min_child_weight=5 \n",
      "[CV]  xgbregressor__gamma=0.1, xgbregressor__n_estimators=500, xgbregressor__learning_rate=0.05, xgbregressor__subsample=0.95, xgbregressor__min_child_weight=5, score=-0.0133341577179, total=   1.7s\n",
      "[CV] xgbregressor__gamma=0.1, xgbregressor__n_estimators=500, xgbregressor__learning_rate=0.05, xgbregressor__subsample=0.95, xgbregressor__min_child_weight=5 \n",
      "[CV]  xgbregressor__gamma=0.1, xgbregressor__n_estimators=500, xgbregressor__learning_rate=0.05, xgbregressor__subsample=0.95, xgbregressor__min_child_weight=5, score=-0.0149145323711, total=   1.6s\n",
      "[CV] xgbregressor__gamma=0.1, xgbregressor__n_estimators=500, xgbregressor__learning_rate=0.1, xgbregressor__subsample=0.75, xgbregressor__min_child_weight=4 \n",
      "[CV]  xgbregressor__gamma=0.1, xgbregressor__n_estimators=500, xgbregressor__learning_rate=0.1, xgbregressor__subsample=0.75, xgbregressor__min_child_weight=4, score=-0.0136545143071, total=   1.7s\n",
      "[CV] xgbregressor__gamma=0.1, xgbregressor__n_estimators=500, xgbregressor__learning_rate=0.1, xgbregressor__subsample=0.75, xgbregressor__min_child_weight=4 \n",
      "[CV]  xgbregressor__gamma=0.1, xgbregressor__n_estimators=500, xgbregressor__learning_rate=0.1, xgbregressor__subsample=0.75, xgbregressor__min_child_weight=4, score=-0.0153743949785, total=   1.9s\n",
      "[CV] xgbregressor__gamma=0.1, xgbregressor__n_estimators=500, xgbregressor__learning_rate=0.1, xgbregressor__subsample=0.75, xgbregressor__min_child_weight=4 \n",
      "[CV]  xgbregressor__gamma=0.1, xgbregressor__n_estimators=500, xgbregressor__learning_rate=0.1, xgbregressor__subsample=0.75, xgbregressor__min_child_weight=4, score=-0.0172609154223, total=   1.9s\n",
      "[CV] xgbregressor__gamma=0.1, xgbregressor__n_estimators=500, xgbregressor__learning_rate=0.1, xgbregressor__subsample=0.75, xgbregressor__min_child_weight=4 \n",
      "[CV]  xgbregressor__gamma=0.1, xgbregressor__n_estimators=500, xgbregressor__learning_rate=0.1, xgbregressor__subsample=0.75, xgbregressor__min_child_weight=4, score=-0.0130191362924, total=   1.7s\n",
      "[CV] xgbregressor__gamma=0.1, xgbregressor__n_estimators=500, xgbregressor__learning_rate=0.1, xgbregressor__subsample=0.75, xgbregressor__min_child_weight=4 \n",
      "[CV]  xgbregressor__gamma=0.1, xgbregressor__n_estimators=500, xgbregressor__learning_rate=0.1, xgbregressor__subsample=0.75, xgbregressor__min_child_weight=4, score=-0.0145193632529, total=   1.7s\n",
      "[CV] xgbregressor__gamma=0.1, xgbregressor__n_estimators=500, xgbregressor__learning_rate=0.1, xgbregressor__subsample=0.85, xgbregressor__min_child_weight=4 \n",
      "[CV]  xgbregressor__gamma=0.1, xgbregressor__n_estimators=500, xgbregressor__learning_rate=0.1, xgbregressor__subsample=0.85, xgbregressor__min_child_weight=4, score=-0.013266778933, total=   1.7s\n",
      "[CV] xgbregressor__gamma=0.1, xgbregressor__n_estimators=500, xgbregressor__learning_rate=0.1, xgbregressor__subsample=0.85, xgbregressor__min_child_weight=4 \n"
     ]
    },
    {
     "name": "stdout",
     "output_type": "stream",
     "text": [
      "[CV]  xgbregressor__gamma=0.1, xgbregressor__n_estimators=500, xgbregressor__learning_rate=0.1, xgbregressor__subsample=0.85, xgbregressor__min_child_weight=4, score=-0.015619028627, total=   1.7s\n",
      "[CV] xgbregressor__gamma=0.1, xgbregressor__n_estimators=500, xgbregressor__learning_rate=0.1, xgbregressor__subsample=0.85, xgbregressor__min_child_weight=4 \n",
      "[CV]  xgbregressor__gamma=0.1, xgbregressor__n_estimators=500, xgbregressor__learning_rate=0.1, xgbregressor__subsample=0.85, xgbregressor__min_child_weight=4, score=-0.0163129769806, total=   1.6s\n",
      "[CV] xgbregressor__gamma=0.1, xgbregressor__n_estimators=500, xgbregressor__learning_rate=0.1, xgbregressor__subsample=0.85, xgbregressor__min_child_weight=4 \n",
      "[CV]  xgbregressor__gamma=0.1, xgbregressor__n_estimators=500, xgbregressor__learning_rate=0.1, xgbregressor__subsample=0.85, xgbregressor__min_child_weight=4, score=-0.0139061385565, total=   1.6s\n",
      "[CV] xgbregressor__gamma=0.1, xgbregressor__n_estimators=500, xgbregressor__learning_rate=0.1, xgbregressor__subsample=0.85, xgbregressor__min_child_weight=4 \n",
      "[CV]  xgbregressor__gamma=0.1, xgbregressor__n_estimators=500, xgbregressor__learning_rate=0.1, xgbregressor__subsample=0.85, xgbregressor__min_child_weight=4, score=-0.0148359088387, total=   1.6s\n",
      "[CV] xgbregressor__gamma=0.1, xgbregressor__n_estimators=500, xgbregressor__learning_rate=0.1, xgbregressor__subsample=0.95, xgbregressor__min_child_weight=4 \n",
      "[CV]  xgbregressor__gamma=0.1, xgbregressor__n_estimators=500, xgbregressor__learning_rate=0.1, xgbregressor__subsample=0.95, xgbregressor__min_child_weight=4, score=-0.01256054794, total=   1.7s\n",
      "[CV] xgbregressor__gamma=0.1, xgbregressor__n_estimators=500, xgbregressor__learning_rate=0.1, xgbregressor__subsample=0.95, xgbregressor__min_child_weight=4 \n",
      "[CV]  xgbregressor__gamma=0.1, xgbregressor__n_estimators=500, xgbregressor__learning_rate=0.1, xgbregressor__subsample=0.95, xgbregressor__min_child_weight=4, score=-0.0157964971776, total=   1.7s\n",
      "[CV] xgbregressor__gamma=0.1, xgbregressor__n_estimators=500, xgbregressor__learning_rate=0.1, xgbregressor__subsample=0.95, xgbregressor__min_child_weight=4 \n",
      "[CV]  xgbregressor__gamma=0.1, xgbregressor__n_estimators=500, xgbregressor__learning_rate=0.1, xgbregressor__subsample=0.95, xgbregressor__min_child_weight=4, score=-0.0169482002343, total=   1.6s\n",
      "[CV] xgbregressor__gamma=0.1, xgbregressor__n_estimators=500, xgbregressor__learning_rate=0.1, xgbregressor__subsample=0.95, xgbregressor__min_child_weight=4 \n",
      "[CV]  xgbregressor__gamma=0.1, xgbregressor__n_estimators=500, xgbregressor__learning_rate=0.1, xgbregressor__subsample=0.95, xgbregressor__min_child_weight=4, score=-0.0137887286166, total=   1.7s\n",
      "[CV] xgbregressor__gamma=0.1, xgbregressor__n_estimators=500, xgbregressor__learning_rate=0.1, xgbregressor__subsample=0.95, xgbregressor__min_child_weight=4 \n",
      "[CV]  xgbregressor__gamma=0.1, xgbregressor__n_estimators=500, xgbregressor__learning_rate=0.1, xgbregressor__subsample=0.95, xgbregressor__min_child_weight=4, score=-0.0152647370785, total=   1.7s\n",
      "[CV] xgbregressor__gamma=0.1, xgbregressor__n_estimators=500, xgbregressor__learning_rate=0.1, xgbregressor__subsample=0.75, xgbregressor__min_child_weight=5 \n",
      "[CV]  xgbregressor__gamma=0.1, xgbregressor__n_estimators=500, xgbregressor__learning_rate=0.1, xgbregressor__subsample=0.75, xgbregressor__min_child_weight=5, score=-0.0133375185729, total=   1.7s\n",
      "[CV] xgbregressor__gamma=0.1, xgbregressor__n_estimators=500, xgbregressor__learning_rate=0.1, xgbregressor__subsample=0.75, xgbregressor__min_child_weight=5 \n",
      "[CV]  xgbregressor__gamma=0.1, xgbregressor__n_estimators=500, xgbregressor__learning_rate=0.1, xgbregressor__subsample=0.75, xgbregressor__min_child_weight=5, score=-0.0156945164937, total=   1.6s\n",
      "[CV] xgbregressor__gamma=0.1, xgbregressor__n_estimators=500, xgbregressor__learning_rate=0.1, xgbregressor__subsample=0.75, xgbregressor__min_child_weight=5 \n",
      "[CV]  xgbregressor__gamma=0.1, xgbregressor__n_estimators=500, xgbregressor__learning_rate=0.1, xgbregressor__subsample=0.75, xgbregressor__min_child_weight=5, score=-0.017100925504, total=   1.7s\n",
      "[CV] xgbregressor__gamma=0.1, xgbregressor__n_estimators=500, xgbregressor__learning_rate=0.1, xgbregressor__subsample=0.75, xgbregressor__min_child_weight=5 \n",
      "[CV]  xgbregressor__gamma=0.1, xgbregressor__n_estimators=500, xgbregressor__learning_rate=0.1, xgbregressor__subsample=0.75, xgbregressor__min_child_weight=5, score=-0.0134388631372, total=   1.7s\n",
      "[CV] xgbregressor__gamma=0.1, xgbregressor__n_estimators=500, xgbregressor__learning_rate=0.1, xgbregressor__subsample=0.75, xgbregressor__min_child_weight=5 \n",
      "[CV]  xgbregressor__gamma=0.1, xgbregressor__n_estimators=500, xgbregressor__learning_rate=0.1, xgbregressor__subsample=0.75, xgbregressor__min_child_weight=5, score=-0.0146074049309, total=   1.6s\n",
      "[CV] xgbregressor__gamma=0.1, xgbregressor__n_estimators=500, xgbregressor__learning_rate=0.1, xgbregressor__subsample=0.85, xgbregressor__min_child_weight=5 \n",
      "[CV]  xgbregressor__gamma=0.1, xgbregressor__n_estimators=500, xgbregressor__learning_rate=0.1, xgbregressor__subsample=0.85, xgbregressor__min_child_weight=5, score=-0.0129416176844, total=   1.7s\n",
      "[CV] xgbregressor__gamma=0.1, xgbregressor__n_estimators=500, xgbregressor__learning_rate=0.1, xgbregressor__subsample=0.85, xgbregressor__min_child_weight=5 \n",
      "[CV]  xgbregressor__gamma=0.1, xgbregressor__n_estimators=500, xgbregressor__learning_rate=0.1, xgbregressor__subsample=0.85, xgbregressor__min_child_weight=5, score=-0.01577127326, total=   1.7s\n",
      "[CV] xgbregressor__gamma=0.1, xgbregressor__n_estimators=500, xgbregressor__learning_rate=0.1, xgbregressor__subsample=0.85, xgbregressor__min_child_weight=5 \n",
      "[CV]  xgbregressor__gamma=0.1, xgbregressor__n_estimators=500, xgbregressor__learning_rate=0.1, xgbregressor__subsample=0.85, xgbregressor__min_child_weight=5, score=-0.0165438221287, total=   1.6s\n",
      "[CV] xgbregressor__gamma=0.1, xgbregressor__n_estimators=500, xgbregressor__learning_rate=0.1, xgbregressor__subsample=0.85, xgbregressor__min_child_weight=5 \n",
      "[CV]  xgbregressor__gamma=0.1, xgbregressor__n_estimators=500, xgbregressor__learning_rate=0.1, xgbregressor__subsample=0.85, xgbregressor__min_child_weight=5, score=-0.013667825547, total=   1.6s\n",
      "[CV] xgbregressor__gamma=0.1, xgbregressor__n_estimators=500, xgbregressor__learning_rate=0.1, xgbregressor__subsample=0.85, xgbregressor__min_child_weight=5 \n",
      "[CV]  xgbregressor__gamma=0.1, xgbregressor__n_estimators=500, xgbregressor__learning_rate=0.1, xgbregressor__subsample=0.85, xgbregressor__min_child_weight=5, score=-0.0145978252364, total=   1.6s\n",
      "[CV] xgbregressor__gamma=0.1, xgbregressor__n_estimators=500, xgbregressor__learning_rate=0.1, xgbregressor__subsample=0.95, xgbregressor__min_child_weight=5 \n",
      "[CV]  xgbregressor__gamma=0.1, xgbregressor__n_estimators=500, xgbregressor__learning_rate=0.1, xgbregressor__subsample=0.95, xgbregressor__min_child_weight=5, score=-0.0126202732453, total=   1.7s\n",
      "[CV] xgbregressor__gamma=0.1, xgbregressor__n_estimators=500, xgbregressor__learning_rate=0.1, xgbregressor__subsample=0.95, xgbregressor__min_child_weight=5 \n",
      "[CV]  xgbregressor__gamma=0.1, xgbregressor__n_estimators=500, xgbregressor__learning_rate=0.1, xgbregressor__subsample=0.95, xgbregressor__min_child_weight=5, score=-0.0158638411332, total=   1.6s\n",
      "[CV] xgbregressor__gamma=0.1, xgbregressor__n_estimators=500, xgbregressor__learning_rate=0.1, xgbregressor__subsample=0.95, xgbregressor__min_child_weight=5 \n",
      "[CV]  xgbregressor__gamma=0.1, xgbregressor__n_estimators=500, xgbregressor__learning_rate=0.1, xgbregressor__subsample=0.95, xgbregressor__min_child_weight=5, score=-0.016780199273, total=   1.6s\n",
      "[CV] xgbregressor__gamma=0.1, xgbregressor__n_estimators=500, xgbregressor__learning_rate=0.1, xgbregressor__subsample=0.95, xgbregressor__min_child_weight=5 \n",
      "[CV]  xgbregressor__gamma=0.1, xgbregressor__n_estimators=500, xgbregressor__learning_rate=0.1, xgbregressor__subsample=0.95, xgbregressor__min_child_weight=5, score=-0.0140310714691, total=   1.6s\n",
      "[CV] xgbregressor__gamma=0.1, xgbregressor__n_estimators=500, xgbregressor__learning_rate=0.1, xgbregressor__subsample=0.95, xgbregressor__min_child_weight=5 \n"
     ]
    },
    {
     "name": "stdout",
     "output_type": "stream",
     "text": [
      "[CV]  xgbregressor__gamma=0.1, xgbregressor__n_estimators=500, xgbregressor__learning_rate=0.1, xgbregressor__subsample=0.95, xgbregressor__min_child_weight=5, score=-0.0151170614107, total=   1.6s\n"
     ]
    },
    {
     "name": "stderr",
     "output_type": "stream",
     "text": [
      "[Parallel(n_jobs=1)]: Done 120 out of 120 | elapsed:  3.4min finished\n"
     ]
    },
    {
     "data": {
      "text/plain": [
       "GridSearchCV(cv=5, error_score='raise',\n",
       "       estimator=Pipeline(memory=None,\n",
       "     steps=[('robustscaler', RobustScaler(copy=True, quantile_range=(25.0, 75.0), with_centering=True,\n",
       "       with_scaling=True)), ('xgbregressor', XGBRegressor(base_score=0.5, colsample_bylevel=1, colsample_bytree=1, gamma=0,\n",
       "       learning_rate=0.1, max_delta_step=...:linear', reg_alpha=0, reg_lambda=1,\n",
       "       scale_pos_weight=1, seed=0, silent=True, subsample=1))]),\n",
       "       fit_params=None, iid=True, n_jobs=1,\n",
       "       param_grid={'xgbregressor__gamma': [0, 0.1], 'xgbregressor__n_estimators': [500], 'xgbregressor__learning_rate': [0.05, 0.1], 'xgbregressor__subsample': [0.75, 0.85, 0.95], 'xgbregressor__min_child_weight': [4, 5]},\n",
       "       pre_dispatch='2*n_jobs', refit=True, return_train_score='warn',\n",
       "       scoring='neg_mean_squared_error', verbose=3)"
      ]
     },
     "execution_count": 289,
     "metadata": {},
     "output_type": "execute_result"
    }
   ],
   "source": [
    "grid.fit(train.values, y_train)"
   ]
  },
  {
   "cell_type": "code",
   "execution_count": 291,
   "metadata": {},
   "outputs": [
    {
     "data": {
      "text/plain": [
       "-0.013169707948595705"
      ]
     },
     "execution_count": 291,
     "metadata": {},
     "output_type": "execute_result"
    }
   ],
   "source": [
    "grid.best_score_"
   ]
  },
  {
   "cell_type": "code",
   "execution_count": 292,
   "metadata": {},
   "outputs": [
    {
     "data": {
      "text/plain": [
       "Pipeline(memory=None,\n",
       "     steps=[('robustscaler', RobustScaler(copy=True, quantile_range=(25.0, 75.0), with_centering=True,\n",
       "       with_scaling=True)), ('xgbregressor', XGBRegressor(base_score=0.5, colsample_bylevel=1, colsample_bytree=1, gamma=0,\n",
       "       learning_rate=0.05, max_delta_step=0, max_depth=3,\n",
       "       min_child_weight=4, missing=None, n_estimators=500, nthread=-1,\n",
       "       objective='reg:linear', reg_alpha=0, reg_lambda=1,\n",
       "       scale_pos_weight=1, seed=0, silent=True, subsample=0.75))])"
      ]
     },
     "execution_count": 292,
     "metadata": {},
     "output_type": "execute_result"
    }
   ],
   "source": [
    "grid.best_estimator_"
   ]
  },
  {
   "cell_type": "code",
   "execution_count": 293,
   "metadata": {},
   "outputs": [
    {
     "data": {
      "text/plain": [
       "<seaborn.axisgrid.JointGrid at 0x1c2b7607d0>"
      ]
     },
     "execution_count": 293,
     "metadata": {},
     "output_type": "execute_result"
    },
    {
     "data": {
      "image/png": "[encoded data removed]",
      "text/plain": [
       "<matplotlib.figure.Figure at 0x1c2b591e10>"
      ]
     },
     "metadata": {},
     "output_type": "display_data"
    }
   ],
   "source": [
    "sns.jointplot(y_train, grid.predict(train.values))"
   ]
  },
  {
   "cell_type": "code",
   "execution_count": 295,
   "metadata": {},
   "outputs": [
    {
     "data": {
      "text/plain": [
       "array([ 122212.6171875,  160938.65625  ,  187456.03125  , ...,\n",
       "        163071.046875 ,  116025.6640625,  230108.953125 ], dtype=float32)"
      ]
     },
     "execution_count": 295,
     "metadata": {},
     "output_type": "execute_result"
    }
   ],
   "source": [
    "np.expm1(grid.predict(test.values))"
   ]
  },
  {
   "cell_type": "code",
   "execution_count": 297,
   "metadata": {},
   "outputs": [
    {
     "data": {
      "text/plain": [
       "<seaborn.axisgrid.JointGrid at 0x1c2cb88c90>"
      ]
     },
     "execution_count": 297,
     "metadata": {},
     "output_type": "execute_result"
    },
    {
     "data": {
      "image/png": "[encoded data removed]",
      "text/plain": [
       "<matplotlib.figure.Figure at 0x1c2d4faa90>"
      ]
     },
     "metadata": {},
     "output_type": "display_data"
    }
   ],
   "source": [
    "#difference between the previous ensemble and the current one\n",
    "sns.jointplot(output['SalePrice'].values, np.expm1(grid.predict(test.values)))\n",
    "#this one large outlier would contribute a lot to error - ALOT\n",
    "#trick is how to get a good estimate for this one valeu "
   ]
  },
  {
   "cell_type": "code",
   "execution_count": 298,
   "metadata": {},
   "outputs": [
    {
     "data": {
      "text/html": [
       "<div>\n",
       "<style scoped>\n",
       "    .dataframe tbody tr th:only-of-type {\n",
       "        vertical-align: middle;\n",
       "    }\n",
       "\n",
       "    .dataframe tbody tr th {\n",
       "        vertical-align: top;\n",
       "    }\n",
       "\n",
       "    .dataframe thead th {\n",
       "        text-align: right;\n",
       "    }\n",
       "</style>\n",
       "<table border=\"1\" class=\"dataframe\">\n",
       "  <thead>\n",
       "    <tr style=\"text-align: right;\">\n",
       "      <th></th>\n",
       "      <th>Id</th>\n",
       "      <th>SalePrice</th>\n",
       "    </tr>\n",
       "  </thead>\n",
       "  <tbody>\n",
       "    <tr>\n",
       "      <th>0</th>\n",
       "      <td>1461</td>\n",
       "      <td>122212.617188</td>\n",
       "    </tr>\n",
       "    <tr>\n",
       "      <th>1</th>\n",
       "      <td>1462</td>\n",
       "      <td>160938.656250</td>\n",
       "    </tr>\n",
       "    <tr>\n",
       "      <th>2</th>\n",
       "      <td>1463</td>\n",
       "      <td>187456.031250</td>\n",
       "    </tr>\n",
       "    <tr>\n",
       "      <th>3</th>\n",
       "      <td>1464</td>\n",
       "      <td>191796.609375</td>\n",
       "    </tr>\n",
       "    <tr>\n",
       "      <th>4</th>\n",
       "      <td>1465</td>\n",
       "      <td>191206.171875</td>\n",
       "    </tr>\n",
       "  </tbody>\n",
       "</table>\n",
       "</div>"
      ],
      "text/plain": [
       "     Id      SalePrice\n",
       "0  1461  122212.617188\n",
       "1  1462  160938.656250\n",
       "2  1463  187456.031250\n",
       "3  1464  191796.609375\n",
       "4  1465  191206.171875"
      ]
     },
     "execution_count": 298,
     "metadata": {},
     "output_type": "execute_result"
    }
   ],
   "source": [
    "output2 = pd.DataFrame()\n",
    "output2['Id'] = test_id[1].values\n",
    "output2['SalePrice'] = np.expm1(grid.predict(test.values))\n",
    "output2.head()"
   ]
  },
  {
   "cell_type": "code",
   "execution_count": 299,
   "metadata": {},
   "outputs": [
    {
     "data": {
      "text/html": [
       "<div>\n",
       "<style scoped>\n",
       "    .dataframe tbody tr th:only-of-type {\n",
       "        vertical-align: middle;\n",
       "    }\n",
       "\n",
       "    .dataframe tbody tr th {\n",
       "        vertical-align: top;\n",
       "    }\n",
       "\n",
       "    .dataframe thead th {\n",
       "        text-align: right;\n",
       "    }\n",
       "</style>\n",
       "<table border=\"1\" class=\"dataframe\">\n",
       "  <thead>\n",
       "    <tr style=\"text-align: right;\">\n",
       "      <th></th>\n",
       "      <th>Id</th>\n",
       "      <th>SalePrice</th>\n",
       "    </tr>\n",
       "  </thead>\n",
       "  <tbody>\n",
       "    <tr>\n",
       "      <th>0</th>\n",
       "      <td>1461</td>\n",
       "      <td>121845.957302</td>\n",
       "    </tr>\n",
       "    <tr>\n",
       "      <th>1</th>\n",
       "      <td>1462</td>\n",
       "      <td>157289.952648</td>\n",
       "    </tr>\n",
       "    <tr>\n",
       "      <th>2</th>\n",
       "      <td>1463</td>\n",
       "      <td>188017.025993</td>\n",
       "    </tr>\n",
       "    <tr>\n",
       "      <th>3</th>\n",
       "      <td>1464</td>\n",
       "      <td>196032.331969</td>\n",
       "    </tr>\n",
       "    <tr>\n",
       "      <th>4</th>\n",
       "      <td>1465</td>\n",
       "      <td>190549.810391</td>\n",
       "    </tr>\n",
       "  </tbody>\n",
       "</table>\n",
       "</div>"
      ],
      "text/plain": [
       "     Id      SalePrice\n",
       "0  1461  121845.957302\n",
       "1  1462  157289.952648\n",
       "2  1463  188017.025993\n",
       "3  1464  196032.331969\n",
       "4  1465  190549.810391"
      ]
     },
     "execution_count": 299,
     "metadata": {},
     "output_type": "execute_result"
    }
   ],
   "source": [
    "output.head()"
   ]
  },
  {
   "cell_type": "code",
   "execution_count": 301,
   "metadata": {
    "collapsed": true
   },
   "outputs": [],
   "source": [
    "output2.to_csv(\"submit2.csv\", index=False) #this doesn't work all that better"
   ]
  },
  {
   "cell_type": "code",
   "execution_count": null,
   "metadata": {
    "collapsed": true
   },
   "outputs": [],
   "source": []
  }
 ],
 "metadata": {
  "kernelspec": {
   "display_name": "Python 2",
   "language": "python",
   "name": "python2"
  },
  "language_info": {
   "codemirror_mode": {
    "name": "ipython",
    "version": 2
   },
   "file_extension": ".py",
   "mimetype": "text/x-python",
   "name": "python",
   "nbconvert_exporter": "python",
   "pygments_lexer": "ipython2",
   "version": "2.7.14"
  },
  "toc": {
   "nav_menu": {},
   "number_sections": true,
   "sideBar": true,
   "skip_h1_title": false,
   "toc_cell": false,
   "toc_position": {},
   "toc_section_display": "block",
   "toc_window_display": false
  }
 },
 "nbformat": 4,
 "nbformat_minor": 2
}
